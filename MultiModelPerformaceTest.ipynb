{
 "cells": [
  {
   "attachments": {},
   "cell_type": "markdown",
   "id": "5c15cb24",
   "metadata": {},
   "source": [
    "## Performance Test for Multi-Model Inference\n",
    "This notebook contains examples of performance measurements for various use cases involving multiple AI models:\n",
    "* Baseline: performance of each model running individually\n",
    "* All models running combined in a single thread\n",
    "* All models running combined in multiple threads\n",
    "\n",
    "This script works with the following inference options:\n",
    "\n",
    "1. Run inference on DeGirum Cloud Platform;\n",
    "2. Run inference on DeGirum AI Server deployed on a localhost or on some computer in your LAN or VPN;\n",
    "3. Run inference on DeGirum ORCA accelerator directly installed on your computer.\n",
    "\n",
    "To try different options, you just need to uncomment **one** of the lines in the code below.\n",
    "\n",
    "You also need to specify your cloud API access token, cloud zoo URLs, and AI server hostname in [env.ini](env.ini) file, located in the same directory as this notebook."
   ]
  },
  {
   "attachments": {},
   "cell_type": "markdown",
   "id": "01549d7c-2445-4007-8a89-ac0f3a864530",
   "metadata": {
    "tags": []
   },
   "source": [
    "#### Specify test options here"
   ]
  },
  {
   "cell_type": "code",
   "execution_count": null,
   "id": "da34df11-cbc7-4b00-8994-794a4a6548b4",
   "metadata": {
    "tags": []
   },
   "outputs": [],
   "source": [
    "import mytools\n",
    "\n",
    "# list of models to test\n",
    "model_names = [\n",
    "    \"yolo_v5s_pet_det--512x512_quant_n2x_orca_1\",\n",
    "    \"mobilenet_v1_imagenet--224x224_quant_n2x_orca_1\",\n",
    "    \"mobilenet_v2_ssd_coco--300x300_quant_n2x_orca_1\",\n",
    "]\n",
    "iterations = 100 if not mytools.get_test_mode() else 10  # how many iterations to run for each model\n",
    "use_jpeg = True  # use JPEG or bitmap model input\n",
    "exclude_preprocessing = True  # exclude preprocessing step from timing measurements\n",
    "batch_sizes = [2, 4, 8, 16]  # eager batch sizes to test\n"
   ]
  },
  {
   "cell_type": "markdown",
   "id": "965103da-b8bb-4a02-af4f-6b8a97c58e43",
   "metadata": {
    "tags": []
   },
   "source": [
    "#### Specify where do you want to run your inferences"
   ]
  },
  {
   "cell_type": "code",
   "execution_count": null,
   "id": "fea1e8c8",
   "metadata": {
    "tags": []
   },
   "outputs": [],
   "source": [
    "import degirum as dg, mytools\n",
    "\n",
    "cloud_token = mytools.get_token()  # get cloud API access token from env.ini file\n",
    "cloud_zoo_url = mytools.get_cloud_zoo_url()  # get cloud zoo URL from env.ini file\n",
    "\n",
    "#\n",
    "# Please UNCOMMENT only ONE of the following lines to specify where to run AI inference\n",
    "#\n",
    "\n",
    "# 1. Inference on the DeGirum Cloud Platform\n",
    "zoo = dg.connect(dg.CLOUD, cloud_zoo_url, cloud_token)\n",
    "\n",
    "# 2. Inference on DeGirum AI Server deployed on a localhost or on some computer in your LAN or VPN\n",
    "# zoo = dg.connect(mytools.get_ai_server_hostname(), cloud_zoo_url, cloud_token)\n",
    "\n",
    "# 3. Inference on DeGirum ORCA accelerator installed on your computer\n",
    "# zoo = dg.connect(dg.LOCAL, cloud_zoo_url, cloud_token)\n"
   ]
  },
  {
   "cell_type": "markdown",
   "id": "5702a045",
   "metadata": {},
   "source": [
    "#### The rest of the cells below should run without any modifications"
   ]
  },
  {
   "cell_type": "code",
   "execution_count": null,
   "id": "c0fe3506",
   "metadata": {},
   "outputs": [],
   "source": [
    "import threading\n",
    "\n",
    "# create models and input data\n",
    "data = []\n",
    "models = []\n",
    "for model_name in model_names:\n",
    "    model = zoo.load_model(model_name)\n",
    "    model.image_backend = \"opencv\"  # select OpenCV backend\n",
    "    model.input_numpy_colorspace = \"BGR\"\n",
    "    model._model_parameters.InputImgFmt = [\"JPEG\" if use_jpeg else \"RAW\"]\n",
    "    model.measure_time = True\n",
    "    models.append(model)\n",
    "\n",
    "    frame = \"./images/TwoCats.jpg\"\n",
    "    if exclude_preprocessing:\n",
    "        frame = model._preprocessor.forward(frame)[0]\n",
    "    data.append(frame)\n",
    "\n",
    "# define source of frames\n",
    "def source(mi):\n",
    "    for fi in range(iterations):\n",
    "        yield data[mi]\n",
    "\n",
    "\n",
    "# define timing results printer\n",
    "def print_results(results):\n",
    "    header = f\"\\n{' ':50} : \" + \" : \".join([f\"{b:5}\" for b in batch_sizes]) + \"\\n\"\n",
    "    lat = \"Latency vs batch size (ms)\" + header\n",
    "    fps = \"FPS vs batch size\" + header\n",
    "\n",
    "    add_lat = lambda result: f\" : {result['time_stats']['FrameTotalDuration_ms'].avg:5.1f}\"\n",
    "    add_fps = lambda result: f\" : {iterations / result['elapsed']:5.1f}\"\n",
    "\n",
    "    for model_name, model_batch_results in results.items():\n",
    "        lat += f\"{model_name:50}\"\n",
    "        fps += f\"{model_name:50}\"\n",
    "        if \"elapsed\" in model_batch_results:\n",
    "            lat += add_lat(model_batch_results)\n",
    "            fps += add_fps(model_batch_results)\n",
    "        else:\n",
    "            for batch, model_result in model_batch_results.items():\n",
    "                lat += add_lat(model_result)\n",
    "                fps += add_fps(model_result)\n",
    "\n",
    "        lat += \"\\n\"\n",
    "        fps += \"\\n\"\n",
    "\n",
    "    print(lat)\n",
    "    print(fps)\n"
   ]
  },
  {
   "attachments": {},
   "cell_type": "markdown",
   "id": "a64a6908",
   "metadata": {},
   "source": [
    "#### Baseline maximum throughput and lowest latency of each model when running individually\n",
    "\n",
    "To measure throughput, batch inference mode with big batch size is used.\n",
    "\n",
    "To measure latency, single-frame inference mode is used."
   ]
  },
  {
   "cell_type": "code",
   "execution_count": null,
   "id": "cb8fc74e",
   "metadata": {},
   "outputs": [],
   "source": [
    "def measure_baseline():\n",
    "    ret = {model_name: {} for model_name in model_names}\n",
    "\n",
    "    prog = mytools.Progress(len(model_names) * 2, speed_units=\"steps/s\")\n",
    "\n",
    "    for mi, model_name in enumerate(model_names):\n",
    "\n",
    "        with models[mi] as model:\n",
    "            model.eager_batch_size = 16\n",
    "            model.frame_queue_depth = 16\n",
    "\n",
    "            model(data[mi])  # run model once to warm up the system\n",
    "\n",
    "            # batch predict: measure throughput\n",
    "            t = mytools.Timer()\n",
    "            for res in model.predict_batch(source(mi)):\n",
    "                pass\n",
    "            elapsed = t()\n",
    "            prog.step()\n",
    "\n",
    "            # single-frame predict: measure latency\n",
    "            model.reset_time_stats()\n",
    "            for d in source(mi):\n",
    "                model(d)\n",
    "            prog.step()\n",
    "\n",
    "            # batch predict: measure throughput\n",
    "            ret[model_name] = {\n",
    "                \"elapsed\": elapsed,\n",
    "                \"time_stats\": model.time_stats(),\n",
    "            }\n",
    "\n",
    "    return ret\n",
    "\n",
    "\n",
    "baseline_results = measure_baseline()\n",
    "print(\"Baseline results:\")\n",
    "print(f\"{'Model name':50} : {'FPS':5} : {'Latency (ms)':5}\")\n",
    "for model_name, result in baseline_results.items():\n",
    "    print(\n",
    "        f\"{model_name:50} : {iterations / result['elapsed']:5.1f} : {result['time_stats']['FrameTotalDuration_ms'].avg:5.1f}\"\n",
    "    )\n"
   ]
  },
  {
   "attachments": {},
   "cell_type": "markdown",
   "id": "f6c7f4a3",
   "metadata": {},
   "source": [
    "#### Batch predict performance of all models running in parallel in multiple threads\n",
    "This use case gives highest possible throughput when switching multiple models"
   ]
  },
  {
   "cell_type": "code",
   "execution_count": null,
   "id": "abc09599",
   "metadata": {},
   "outputs": [],
   "source": [
    "def measure_batch_predict_mt():\n",
    "    ret = {}\n",
    "    for model_name in model_names:\n",
    "        ret[model_name] = {}\n",
    "\n",
    "    nmodels = len(model_names)\n",
    "\n",
    "    prog = mytools.Progress(len(batch_sizes), speed_units=\"steps/s\")\n",
    "    for batch in batch_sizes:\n",
    "\n",
    "        barr = threading.Barrier(nmodels)\n",
    "\n",
    "        def run_one_model(mi):\n",
    "            with models[mi] as model:\n",
    "                model.eager_batch_size = batch\n",
    "                model.frame_queue_depth = batch\n",
    "\n",
    "                model(data[mi])  # run model once to warm up the system\n",
    "                model.reset_time_stats()\n",
    "\n",
    "                barr.wait()\n",
    "                t = mytools.Timer()\n",
    "                for res in model.predict_batch(source(mi)):\n",
    "                    pass\n",
    "\n",
    "                ret[model_names[mi]][batch] = {\n",
    "                    \"elapsed\": t(),\n",
    "                    \"time_stats\": model.time_stats(),\n",
    "                }\n",
    "\n",
    "        threads = [\n",
    "            threading.Thread(target=run_one_model, args=(mi,)) for mi in range(nmodels)\n",
    "        ]\n",
    "\n",
    "        [thread.start() for thread in threads]\n",
    "        [thread.join() for thread in threads]\n",
    "\n",
    "        prog.step()\n",
    "\n",
    "    return ret\n",
    "\n",
    "\n",
    "batch_predict_mt_results = measure_batch_predict_mt()\n",
    "print_results(batch_predict_mt_results)\n"
   ]
  },
  {
   "cell_type": "markdown",
   "id": "7c7e0af8",
   "metadata": {},
   "source": [
    "#### Single predict performance of all models running in parallel in multiple threads\n",
    "This use case gives smallest possible latency when switching multiple models"
   ]
  },
  {
   "cell_type": "code",
   "execution_count": null,
   "id": "d350ed50",
   "metadata": {},
   "outputs": [],
   "source": [
    "def measure_single_predict_mt():\n",
    "    ret = {model_name: {} for model_name in model_names}\n",
    "    nmodels = len(model_names)\n",
    "\n",
    "    prog = mytools.Progress(len(batch_sizes), speed_units=\"steps/s\")\n",
    "    for batch in batch_sizes:\n",
    "\n",
    "        barr = threading.Barrier(nmodels)\n",
    "\n",
    "        def run_one_model(mi):\n",
    "            with models[mi] as model:\n",
    "                model.eager_batch_size = batch\n",
    "                model.frame_queue_depth = batch\n",
    "\n",
    "                model(data[mi])  # run model once to warm up the system\n",
    "                model.reset_time_stats()\n",
    "\n",
    "                barr.wait()\n",
    "                t = mytools.Timer()\n",
    "                for d in source(mi):\n",
    "                    model(d)\n",
    "\n",
    "                ret[model_names[mi]][batch] = {\n",
    "                    \"elapsed\": t(),\n",
    "                    \"time_stats\": model.time_stats(),\n",
    "                }\n",
    "\n",
    "        threads = [\n",
    "            threading.Thread(target=run_one_model, args=(mi,)) for mi in range(nmodels)\n",
    "        ]\n",
    "\n",
    "        [thread.start() for thread in threads]\n",
    "        [thread.join() for thread in threads]\n",
    "        prog.step()\n",
    "\n",
    "    return ret\n",
    "\n",
    "\n",
    "single_predict_mt_results = measure_single_predict_mt()\n",
    "print_results(single_predict_mt_results)\n"
   ]
  },
  {
   "cell_type": "code",
   "execution_count": null,
   "id": "dbe2112e",
   "metadata": {},
   "outputs": [],
   "source": []
  }
 ],
 "metadata": {
  "kernelspec": {
   "display_name": "Python 3 (ipykernel)",
   "language": "python",
   "name": "python3"
  },
  "language_info": {
   "codemirror_mode": {
    "name": "ipython",
    "version": 3
   },
   "file_extension": ".py",
   "mimetype": "text/x-python",
   "name": "python",
   "nbconvert_exporter": "python",
   "pygments_lexer": "ipython3",
   "version": "3.9.12"
  }
 },
 "nbformat": 4,
 "nbformat_minor": 5
}
