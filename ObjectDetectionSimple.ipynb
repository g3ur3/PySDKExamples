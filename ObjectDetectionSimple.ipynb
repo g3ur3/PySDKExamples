{
 "cells": [
  {
   "cell_type": "markdown",
   "id": "203609d2-b86e-4afa-afd6-62d6869c23e1",
   "metadata": {},
   "source": [
    "# Simple example script illustrating object detection\n",
    "This notebook is a simple example of how to use the DeGirum PySDK to do AI inference on a graphical file using an object detection model.\n",
    "\n",
    "This script works with the following inference options:\n",
    "\n",
    "1. Run inference on a DeGirum AI Server deployed on the local host or on some computer in your LAN or VPN\n",
    "2. Run inference on a DeGirum ORCA accelerator directly installed on your computer.\n",
    "\n",
    "Both can be used with local models or cloud models.\n",
    "\n",
    "To try the different options, you just need to uncomment **one** of the lines in the code below.\n",
    "\n",
    "See [here](https://docs.degirum.com/content/pysdk/ai-server-configuration/) to learn how to set up a server and a local zoo. Alternatively, for use with a cloud zoo, you need to provide a [cloud API access token](https://docs.degirum.com/content/delight/token/)."
   ]
  },
  {
   "cell_type": "markdown",
   "id": "df6dfebd",
   "metadata": {
    "tags": []
   },
   "source": [
    "#### Specify where do you want to run your inferences"
   ]
  },
  {
   "cell_type": "code",
   "execution_count": null,
   "id": "fea1e8c8",
   "metadata": {
    "tags": []
   },
   "outputs": [],
   "source": [
    "import degirum as dg\n",
    "\n",
    "#\n",
    "# Please UNCOMMENT only ONE of the following lines to specify where to run AI inference\n",
    "#\n",
    "\n",
    "cloud_token = \"\" # Specify your cloud token here, if needed\n",
    "\n",
    "# 1a. Inference on DeGirum AI Server deployed on a localhost or on some computer in your LAN or VPN,\n",
    "#    with a zoo deployed on that server\n",
    "zoo = dg.connect(\"localhost\")\n",
    "\n",
    "# 1b. Inference on DeGirum AI Server deployed on a localhost or on some computer in your LAN or VPN,\n",
    "#    with a cloud model.\n",
    "# zoo = dg.connect(\"localhost\", \"https://cs.degirum.com\", cloud_token)\n",
    "\n",
    "# 2a. Inference on DeGirum ORCA accelerator installed on your computer, with a local model\n",
    "# zoo = dg.connect(dg.LOCAL, \"full/path/to/model.json\")\n",
    "\n",
    "# 2b. Inference on DeGirum ORCA accelerator installed on your computer, with a cloud model\n",
    "# zoo = dg.connect(dg.LOCAL, \"https://cs.degirum.com\", cloud_token)"
   ]
  },
  {
   "cell_type": "markdown",
   "id": "7154806a-2ba1-45e0-8f50-8a08e01c29d8",
   "metadata": {
    "tags": []
   },
   "source": [
    "#### The rest of the cells below should run without any modifications"
   ]
  },
  {
   "cell_type": "code",
   "execution_count": null,
   "id": "ad4f4a5e",
   "metadata": {
    "scrolled": true,
    "tags": []
   },
   "outputs": [],
   "source": [
    "# list all AI models available for inference\n",
    "zoo.list_models()"
   ]
  },
  {
   "cell_type": "code",
   "execution_count": null,
   "id": "dc2baec4",
   "metadata": {
    "tags": []
   },
   "outputs": [],
   "source": [
    "# load AI model 'ssd_mobilenet_v2' for DeGirum Orca AI accelerator\n",
    "# (change model name to \"...n2x_cpu_1\" to run it on CPU)\n",
    "model = zoo.load_model(\"mobilenet_v2_ssd_coco--300x300_quant_n2x_cpu_1\")"
   ]
  },
  {
   "cell_type": "code",
   "execution_count": null,
   "id": "27299231",
   "metadata": {
    "tags": []
   },
   "outputs": [],
   "source": [
    "# configure some result visualization parameters (optional step)\n",
    "model.image_backend = \"pil\" # use PIL as image rendering backend\n",
    "model.overlay_show_probabilities = True # show class probabilities on overlay image\n",
    "model.overlay_font_scale = 1.5 # increase font size for overlay image labels\n",
    "model.overlay_alpha = 1 # set minimum transparency for overlay image labels"
   ]
  },
  {
   "cell_type": "code",
   "execution_count": null,
   "id": "03954556",
   "metadata": {
    "tags": []
   },
   "outputs": [],
   "source": [
    "# perform AI model inference on given image file (assuming the current directory is where this notebook is located)\n",
    "res = model(\"./images/TwoCats.jpg\")"
   ]
  },
  {
   "cell_type": "code",
   "execution_count": null,
   "id": "bb207347",
   "metadata": {
    "tags": []
   },
   "outputs": [],
   "source": [
    "# show results of inference\n",
    "print(res) # numeric results\n",
    "res.image_overlay # graphical results"
   ]
  },
  {
   "cell_type": "code",
   "execution_count": null,
   "id": "d86611f7",
   "metadata": {},
   "outputs": [],
   "source": []
  }
 ],
 "metadata": {
  "kernelspec": {
   "display_name": "Python 3 (ipykernel)",
   "language": "python",
   "name": "python3"
  },
  "language_info": {
   "codemirror_mode": {
    "name": "ipython",
    "version": 3
   },
   "file_extension": ".py",
   "mimetype": "text/x-python",
   "name": "python",
   "nbconvert_exporter": "python",
   "pygments_lexer": "ipython3",
   "version": "3.9.16"
  }
 },
 "nbformat": 4,
 "nbformat_minor": 5
}
