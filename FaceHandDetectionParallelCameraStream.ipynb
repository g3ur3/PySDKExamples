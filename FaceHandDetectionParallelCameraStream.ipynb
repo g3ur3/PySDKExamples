{
 "cells": [
  {
   "cell_type": "markdown",
   "id": "438aa03a",
   "metadata": {},
   "source": [
    "## Running two ML models at the same time\n",
    "This notebook is an example how to run two models side-by-side and combine results of both models. A video stream from a local camera is processed by the hand and face detection models. Combined result is then displayed.\n",
    "\n",
    "**Access to camera is required to run this sample.**\n",
    "\n",
    "The script needs either a web camera or local camera connected to the machine running this code. The camera index or URL needs to be specified either in the code below by assigning `camera_id` or in .env file by defining `CAMERA_ID` variable and assigning `camera_id = None`."
   ]
  },
  {
   "cell_type": "markdown",
   "id": "ed53050e-8e74-454f-b4eb-4883a8f02ca9",
   "metadata": {},
   "source": [
    "### Specify camera index "
   ]
  },
  {
   "cell_type": "code",
   "execution_count": null,
   "id": "f8e9dd69-dcdc-4fc6-8c8d-0d8771eb5d2c",
   "metadata": {},
   "outputs": [],
   "source": [
    "camera_id = 0         # camera index or URL; 0 to use default local camera, None to take from .env file"
   ]
  },
  {
   "cell_type": "code",
   "execution_count": null,
   "id": "65d4cd90",
   "metadata": {},
   "outputs": [],
   "source": [
    "import degirum as dg # import DeGirum PySDK\n",
    "import mytools, cv2"
   ]
  },
  {
   "cell_type": "markdown",
   "id": "290deaa8",
   "metadata": {},
   "source": [
    "### Specify the inference option"
   ]
  },
  {
   "cell_type": "code",
   "execution_count": null,
   "id": "a980c204",
   "metadata": {},
   "outputs": [],
   "source": [
    "# Please uncomment and edit one of the following inference options to specify your system configuration case according to\n",
    "# https://cs.degirum.com/doc/0.5.0/degirum.html#system-configuration-for-specific-use-cases\n",
    "\n",
    "# 1. DeGirum Cloud Zoo inference:\n",
    "#zoo = dg.connect_model_zoo(\"dgcps://cs.degirum.com\", token=mytools.token_get())\n",
    "\n",
    "# 2. AIServer inference via IP address using models from DeGirum Cloud model zoo\n",
    "#zoo = dg.connect_model_zoo((\"192.168.0.7\", \"https://cs.degirum.com/degirum_com/public\"), token=mytools.token_get())\n",
    "\n",
    "# 3. AIServer inference via IP address using local model zoo\n",
    "#zoo = dg.connect_model_zoo(\"192.168.0.1\")\n",
    "\n",
    "# 4. ORCA board installed locally using models from DeGirum Cloud Model Zoo\n",
    "#zoo = dg.connect_model_zoo(\"https://cs.degirum.com/degirum_com/public\", token=mytools.token_get())\n",
    "\n",
    "# 5. Local inference with locally deployed model\n",
    "#zoo = dg.connect_model_zoo(\"full/path/to/model.json\")"
   ]
  },
  {
   "cell_type": "code",
   "execution_count": null,
   "id": "33012fe3",
   "metadata": {},
   "outputs": [],
   "source": [
    "# load models for DeGirum Orca AI accelerator\n",
    "# (change model name to \"...n2x_cpu_1\" to run it on CPU)\n",
    "hand_det_model = zoo.load_model(\"yolo_v5s_hand_det--512x512_quant_n2x_orca_1\")\n",
    "face_det_model = zoo.load_model(\"yolo_v5s_face_det--512x512_quant_n2x_orca_1\")\n",
    "\n",
    "# select OpenCV backend: needed to have overlay image in OpenCV format\n",
    "hand_det_model.image_backend = 'opencv'\n",
    "hand_det_model._model_parameters.InputImgFmt = ['JPEG']\n",
    "hand_det_model.input_numpy_colorspace = 'BGR'\n",
    "\n",
    "face_det_model.image_backend = 'opencv' \n",
    "face_det_model._model_parameters.InputImgFmt = ['JPEG']\n",
    "face_det_model.input_numpy_colorspace = 'BGR'"
   ]
  },
  {
   "cell_type": "code",
   "execution_count": null,
   "id": "7465a3f8",
   "metadata": {},
   "outputs": [],
   "source": [
    "# define iterator function, which returns frames from camera \n",
    "def source(stream, idx, bufs):\n",
    "    # idx is the index of a buffer\n",
    "    while True:\n",
    "        if len(bufs[idx]) == 0: # this buffer is empty: get frame from camera and add to all buffers\n",
    "            ret, frame = stream.read()\n",
    "            if not ret:\n",
    "                raise Exception(\"Fail to capture camera frame. May be camera was opened by another notebook?\")                            \n",
    "            for s in bufs:\n",
    "                s.insert(0, frame)\n",
    "        yield bufs[idx].pop()"
   ]
  },
  {
   "cell_type": "code",
   "execution_count": null,
   "id": "d93242ba",
   "metadata": {},
   "outputs": [],
   "source": [
    "bufs = [[],[]]\n",
    "with mytools.Display(\"Hands and Faces\") as display, \\\n",
    "     mytools.open_video_stream(camera_id) as stream:\n",
    "    \n",
    "    # run hand and faces detection models on a camera stream side-by-side\n",
    "    for hands, faces in zip(hand_det_model.predict_batch(source(stream, 0, bufs)), \n",
    "                            face_det_model.predict_batch(source(stream, 1, bufs))):\n",
    "        hands._inference_results += faces._inference_results # combine inference results of two detection models\n",
    "        display.show(hands.image_overlay) # show image overlay with combined results"
   ]
  },
  {
   "cell_type": "code",
   "execution_count": null,
   "id": "c5a8ef24",
   "metadata": {},
   "outputs": [],
   "source": []
  }
 ],
 "metadata": {
  "kernelspec": {
   "display_name": "Python 3 (ipykernel)",
   "language": "python",
   "name": "python3"
  },
  "language_info": {
   "codemirror_mode": {
    "name": "ipython",
    "version": 3
   },
   "file_extension": ".py",
   "mimetype": "text/x-python",
   "name": "python",
   "nbconvert_exporter": "python",
   "pygments_lexer": "ipython3",
   "version": "3.8.10"
  },
  "vscode": {
   "interpreter": {
    "hash": "19d1d53a962d236aa061289c2ac16dc8e6d9648c89fe79f459ae9a3493bc67b4"
   }
  }
 },
 "nbformat": 4,
 "nbformat_minor": 5
}
