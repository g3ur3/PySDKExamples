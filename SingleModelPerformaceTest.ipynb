{
 "cells": [
  {
   "attachments": {},
   "cell_type": "markdown",
   "id": "5c15cb24",
   "metadata": {},
   "source": [
    "## Performance Test for Single-Model Inference\n",
    "This notebook contains performance measurements for all Orca-based image detection AI models from DeGirum \n",
    "public model zoo\n",
    "\n",
    "This script works with the following inference options:\n",
    "\n",
    "1. Run inference on DeGirum Cloud Platform;\n",
    "2. Run inference on DeGirum AI Server deployed on a localhost or on some computer in your LAN or VPN;\n",
    "3. Run inference on DeGirum ORCA accelerator directly installed on your computer.\n",
    "\n",
    "To try different options, you just need to uncomment **one** of the lines in the code below.\n",
    "\n",
    "You also need to specify your cloud API access token, cloud zoo URLs, and AI server hostname in [env.ini](env.ini) file, located in the same directory as this notebook."
   ]
  },
  {
   "attachments": {},
   "cell_type": "markdown",
   "id": "01549d7c-2445-4007-8a89-ac0f3a864530",
   "metadata": {
    "tags": []
   },
   "source": [
    "#### Specify test options here"
   ]
  },
  {
   "cell_type": "code",
   "execution_count": null,
   "id": "da34df11-cbc7-4b00-8994-794a4a6548b4",
   "metadata": {
    "tags": []
   },
   "outputs": [],
   "source": [
    "iterations = 100  # how many iterations to run for each model\n",
    "use_jpeg = True  # use JPEG or bitmap model input\n",
    "exclude_preprocessing = True  # exclude preprocessing step from timing measurements\n",
    "batch_size = None  # eager batch size to test; None to use default\n"
   ]
  },
  {
   "attachments": {},
   "cell_type": "markdown",
   "id": "965103da-b8bb-4a02-af4f-6b8a97c58e43",
   "metadata": {
    "tags": []
   },
   "source": [
    "#### Specify where do you want to run your inferences"
   ]
  },
  {
   "cell_type": "code",
   "execution_count": null,
   "id": "fea1e8c8",
   "metadata": {
    "tags": []
   },
   "outputs": [],
   "source": [
    "import degirum as dg, mytools\n",
    "\n",
    "#\n",
    "# Please UNCOMMENT only ONE of the following lines to specify where to run AI inference\n",
    "#\n",
    "\n",
    "target = dg.CLOUD # <-- on the Cloud Platform\n",
    "# target = mytools.get_ai_server_hostname() # <-- on AI Server deployed in your LAN\n",
    "# target = dg.LOCAL # <-- on ORCA accelerator installed on this computer\n",
    "\n",
    "# connect to AI inference engine getting zoo URL and token from env.ini file\n",
    "zoo = dg.connect(target, mytools.get_cloud_zoo_url(), mytools.get_token())"
   ]
  },
  {
   "attachments": {},
   "cell_type": "markdown",
   "id": "5702a045",
   "metadata": {},
   "source": [
    "#### The rest of the cells below should run without any modifications"
   ]
  },
  {
   "cell_type": "code",
   "execution_count": null,
   "id": "75af97ff",
   "metadata": {},
   "outputs": [],
   "source": [
    "# list of models to test\n",
    "model_names = zoo.list_models(device=\"ORCA1\")\n",
    "\n",
    "# define function to run a single model batch prediction\n",
    "def do_test(model_name):\n",
    "\n",
    "    # load model\n",
    "    with zoo.load_model(model_name) as model:\n",
    "\n",
    "        # skip non-image type models\n",
    "        if model.model_info.InputType[0] != \"Image\":\n",
    "            return None\n",
    "\n",
    "        # configure model\n",
    "        model.input_image_format = \"JPEG\" if use_jpeg else \"RAW\"\n",
    "        model.measure_time = True\n",
    "        if batch_size is not None:\n",
    "            model.eager_batch_size = batch_size\n",
    "            model.frame_queue_depth = batch_size\n",
    "\n",
    "        # prepare input frame\n",
    "        frame = \"./images/TwoCats.jpg\"\n",
    "        if exclude_preprocessing:\n",
    "            frame = model._preprocessor.forward(frame)[0]\n",
    "\n",
    "        # define source of frames\n",
    "        def source():\n",
    "            for fi in range(iterations):\n",
    "                yield frame\n",
    "\n",
    "        model(frame)  # run model once to warm up the system\n",
    "\n",
    "        # run batch prediction\n",
    "        t = mytools.Timer()\n",
    "        for res in model.predict_batch(source()):\n",
    "            pass\n",
    "\n",
    "        return {\n",
    "            \"postprocess_type\": model.output_postprocess_type,\n",
    "            \"elapsed\": t(),\n",
    "            \"time_stats\": model.time_stats(),\n",
    "        }\n"
   ]
  },
  {
   "cell_type": "code",
   "execution_count": null,
   "id": "ba3c41d4",
   "metadata": {},
   "outputs": [],
   "source": [
    "# run batch predict for each model and record time measurements\n",
    "results = {}\n",
    "prog = mytools.Progress(len(model_names), speed_units=\"models/s\")\n",
    "for model_name in model_names:\n",
    "    results[model_name] = do_test(model_name)\n",
    "    prog.step()\n"
   ]
  },
  {
   "cell_type": "code",
   "execution_count": null,
   "id": "1b150507",
   "metadata": {},
   "outputs": [],
   "source": [
    "# print results\n",
    "print(\n",
    "    f\"{'Model name':62}| {'Postprocess type':19} | {'Observed FPS':8} | {'Expected FPS':6} | \"\n",
    ")\n",
    "print(f\"{'-'*120}\")\n",
    "\n",
    "\n",
    "def print_result(res):\n",
    "    latency_ms = res[\"time_stats\"][\"FrameTotalDuration_ms\"].avg\n",
    "    inference_ms = res[\"time_stats\"][\"CoreInferenceDuration_ms\"].avg\n",
    "    frame_duration_ms = 1e3 * res[\"elapsed\"] / iterations\n",
    "\n",
    "    print(\n",
    "        f\"{model_name:62}|\"\n",
    "        + f\" {res['postprocess_type']:19} |\"\n",
    "        + f\" {1e3 / frame_duration_ms:8.1f} |\"\n",
    "        + f\" {1e3 / inference_ms:6.1f} |\"\n",
    "    )\n",
    "\n",
    "\n",
    "for model_name, res in results.items():\n",
    "    if res is not None:\n",
    "        print_result(res)\n"
   ]
  },
  {
   "cell_type": "code",
   "execution_count": null,
   "id": "5e4c8f8d",
   "metadata": {},
   "outputs": [],
   "source": []
  }
 ],
 "metadata": {
  "kernelspec": {
   "display_name": "Python 3 (ipykernel)",
   "language": "python",
   "name": "python3"
  },
  "language_info": {
   "codemirror_mode": {
    "name": "ipython",
    "version": 3
   },
   "file_extension": ".py",
   "mimetype": "text/x-python",
   "name": "python",
   "nbconvert_exporter": "python",
   "pygments_lexer": "ipython3",
   "version": "3.9.12"
  }
 },
 "nbformat": 4,
 "nbformat_minor": 5
}
