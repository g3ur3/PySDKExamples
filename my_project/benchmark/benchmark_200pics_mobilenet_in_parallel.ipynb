{
 "cells": [
  {
   "cell_type": "code",
   "execution_count": 11,
   "metadata": {},
   "outputs": [],
   "source": [
    "import degirum as dg, degirum_tools\n",
    "#import os\n",
    "from pathlib import Path\n",
    "import gen_test_image_util as imgutil\n",
    "#import importlib\n",
    "import os\n",
    "import time\n",
    "import cv2\n",
    "#import threading\n",
    "from concurrent.futures import ThreadPoolExecutor, ProcessPoolExecutor\n",
    "#importlib.reload(imgutil)"
   ]
  },
  {
   "cell_type": "code",
   "execution_count": 12,
   "metadata": {},
   "outputs": [],
   "source": [
    "#hw_location = \"@cloud\"\n",
    "hw_location = \"@local\"\n",
    "#model_zoo_url = \"https://cs.degirum.com/degirum/public\"\n",
    "model_zoo_url = \"https://cs.degirum.com/degirum/orca_models\"\n",
    "#model_zoo_url = \"https://cs.degirum.com/degirum/ultralytics_v6\"\n",
    "device_family = \"ORCA1\"  # models of which device family to use\n",
    "exclude_preprocessing = True\n",
    "use_jpeg = True\n",
    "\n",
    "image_dir = Path('/home/gotom/data_dir/split_pic')\n",
    "\n",
    "num_of_pics = 200\n",
    "#max_count = 3000"
   ]
  },
  {
   "cell_type": "code",
   "execution_count": 13,
   "metadata": {},
   "outputs": [],
   "source": [
    "def partial_transaction(model_instance, image_chunk_pathL, start_index, max_count):\n",
    "    \n",
    "    count = 0\n",
    "    #print(f'start_index:{start_index}')\n",
    "    try:\n",
    "        for res in model_instance.predict_batch(imgutil.pics_transaction_gen(model_instance, image_chunk_pathL[start_index:start_index + max_count], exclude_preprocessing, max_count)):\n",
    "            count += 1\n",
    "            #pass\n",
    "    except Exception as e:\n",
    "        print(e)\n",
    "    \n",
    "    #print(f'count:{count}')\n",
    "    return count"
   ]
  },
  {
   "cell_type": "code",
   "execution_count": 14,
   "metadata": {},
   "outputs": [],
   "source": [
    "image_size = [224, 224, 200]\n",
    "\n",
    "# max_count = 200\n",
    "# start_indexL = [0]\n",
    "# instance_count = 1\n",
    "        \n",
    "max_count = 100\n",
    "start_indexL = [0, 100]\n",
    "instance_count = 2\n",
    "        \n",
    "\"\"\" max_count = 50\n",
    "start_indexL = [0, 50, 100, 150]\n",
    "instance_count = 4 \"\"\"\n",
    "\n",
    "\n",
    "mobile_net_v1_durationD = {}\n",
    "mobile_net_v2_durationD = {}\n",
    "\n",
    "batch_size = 16\n"
   ]
  },
  {
   "cell_type": "code",
   "execution_count": 15,
   "metadata": {},
   "outputs": [
    {
     "name": "stdout",
     "output_type": "stream",
     "text": [
      "resultL = [100, 100]\n",
      "sum(resultL):200\n",
      "resultL = [100, 100]\n",
      "sum(resultL):200\n",
      "mobile_net_v1_durationD: {'224x224': 772.6}\n",
      "mobile_net_v2_durationD: {'224x224': 965.6}\n"
     ]
    }
   ],
   "source": [
    "imgutil.remove_image_chunk(image_dir, 3000)\n",
    "image_chunkL = imgutil.create_test_image_chunk('maami_1.jpg', image_size)\n",
    "image_chunk_pathL = imgutil.save_image_chunk(image_dir, image_chunkL)\n",
    "    \n",
    "zoo = dg.connect(hw_location, model_zoo_url, degirum_tools.get_token()) # connect to AI inference engine\n",
    "#target_modelsL = ['mobilenet_v1_imagenet--224x224_quant_n2x_orca1_1', 'mobilenet_v2_imagenet--224x224_quant_n2x_orca1_1']\n",
    "target_modelsL = ['mobilenet_v1_imagenet--224x224_quant_n2x_orca_1', 'mobilenet_v2_imagenet--224x224_quant_n2x_orca_1']\n",
    "    \n",
    "exclude_preprocessing = True\n",
    "\n",
    "durationL = []\n",
    "    \n",
    "for mi, model_name in enumerate(target_modelsL):   \n",
    "        \n",
    "    image = cv2.imread(image_chunk_pathL[0], cv2.IMREAD_COLOR)\n",
    "    h,w = image.shape[:2]\n",
    "    image_size[0] = h\n",
    "    image_size[1] = w\n",
    "\n",
    "    model_instanceL = [imgutil.create_model_instances(model_name, zoo, batch_size, use_jpeg) for i in range(instance_count)]\n",
    "        \n",
    "    for i in range(instance_count):\n",
    "        model_instanceL[i](image_chunk_pathL[start_indexL[i]]) #dummy\n",
    "        \n",
    "    for i in range(instance_count):\n",
    "        model_instanceL[i].reset_time_stats()\n",
    "        \n",
    "    count = 0\n",
    "    countL = []\n",
    "    resultL = []\n",
    "        \n",
    "    t = degirum_tools.Timer()\n",
    "          \n",
    "    with ThreadPoolExecutor(max_workers = instance_count) as exctor:\n",
    "        countL = [exctor.submit(partial_transaction, model_instanceL[i], image_chunk_pathL, start_indexL[i], max_count) for i in range(instance_count)] \n",
    "    \n",
    "    #print(f'countL:{countL}')\n",
    "    resultL = [countL[i].result() for i in range(instance_count)]   \n",
    "    print(f'resultL = {resultL}')              \n",
    "    elapsed_time = round(1e3*t(),1)  \n",
    "    durationL.append(elapsed_time)\n",
    "        \n",
    "    print(f'sum(resultL):{sum(resultL)}')\n",
    "    if not(sum(resultL) == num_of_pics): \n",
    "        exit()\n",
    "    \n",
    "    height_width = str(h) + 'x' + str(w)\n",
    "    \n",
    "    if mi == 0:\n",
    "        mobile_net_v1_durationD[height_width] = elapsed_time\n",
    "    else:\n",
    "        mobile_net_v2_durationD[height_width] = elapsed_time\n",
    "            \n",
    "print(f'mobile_net_v1_durationD: {mobile_net_v1_durationD}')\n",
    "print(f'mobile_net_v2_durationD: {mobile_net_v2_durationD}')\n"
   ]
  }
 ],
 "metadata": {
  "kernelspec": {
   "display_name": "degirum_test",
   "language": "python",
   "name": "python3"
  },
  "language_info": {
   "codemirror_mode": {
    "name": "ipython",
    "version": 3
   },
   "file_extension": ".py",
   "mimetype": "text/x-python",
   "name": "python",
   "nbconvert_exporter": "python",
   "pygments_lexer": "ipython3",
   "version": "3.9.16"
  },
  "orig_nbformat": 4
 },
 "nbformat": 4,
 "nbformat_minor": 2
}
