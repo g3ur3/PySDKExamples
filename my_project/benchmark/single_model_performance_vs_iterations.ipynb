{
 "cells": [
  {
   "attachments": {},
   "cell_type": "markdown",
   "id": "01549d7c-2445-4007-8a89-ac0f3a864530",
   "metadata": {
    "tags": []
   },
   "source": [
    "#### Specify test options here"
   ]
  },
  {
   "cell_type": "code",
   "execution_count": 1,
   "id": "da34df11-cbc7-4b00-8994-794a4a6548b4",
   "metadata": {
    "tags": []
   },
   "outputs": [],
   "source": [
    "use_jpeg = True  # use JPEG or bitmap model input\n",
    "exclude_preprocessing = True  # exclude preprocessing step from timing measurements\n",
    "batch_size = None  # eager batch size to test; None to use default\n",
    "\n",
    "COLAB = False"
   ]
  },
  {
   "cell_type": "code",
   "execution_count": 2,
   "id": "ddf4c6b7",
   "metadata": {},
   "outputs": [],
   "source": [
    "if COLAB:\n",
    "    !pip show degirum-tools || pip install degirum-tools"
   ]
  },
  {
   "cell_type": "markdown",
   "id": "81308102",
   "metadata": {},
   "source": [
    "Test parameters"
   ]
  },
  {
   "cell_type": "code",
   "execution_count": 3,
   "id": "6c224c32",
   "metadata": {},
   "outputs": [],
   "source": [
    "iterationsL = [10, 20, 30, 40, 50, 60, 70, 80, 90, 100]\n",
    "#iterationsL = [10, 20, 30]\n",
    "model_suffixL = ['yolov5nu', 'yolov5su', 'yolov8n', 'yolov8s']\n",
    "\n",
    "if COLAB:\n",
    "    data_dir = '/content/drive/MyDrive/Colab Notebooks/data_dir/'\n",
    "else:\n",
    "    data_dir = '/home/gotom/data_dir/fps_value/'"
   ]
  },
  {
   "attachments": {},
   "cell_type": "markdown",
   "id": "965103da-b8bb-4a02-af4f-6b8a97c58e43",
   "metadata": {
    "tags": []
   },
   "source": [
    "#### Specify where do you want to run your inferences"
   ]
  },
  {
   "cell_type": "code",
   "execution_count": 4,
   "id": "fea1e8c8",
   "metadata": {
    "tags": []
   },
   "outputs": [],
   "source": [
    "import degirum as dg\n",
    "\n",
    "if COLAB:\n",
    "    import degirum_tools as dgtools\n",
    "else:\n",
    "    import dgtools   \n"
   ]
  },
  {
   "cell_type": "markdown",
   "id": "124b6e1c",
   "metadata": {},
   "source": [
    "Model ORCA1"
   ]
  },
  {
   "cell_type": "code",
   "execution_count": 5,
   "id": "b230b6a5",
   "metadata": {},
   "outputs": [],
   "source": [
    "model_orca1 = [\n",
    " 'yolov5nu_relu6_car--640x640_quant_n2x_orca1_1',\n",
    " 'yolov5su_relu6_car--640x640_quant_n2x_orca1_1',\n",
    " 'yolov8n_relu6_car--640x640_quant_n2x_orca1_1',\n",
    " 'yolov8s_relu6_car--640x640_quant_n2x_orca1_1',\n",
    " ]"
   ]
  },
  {
   "cell_type": "code",
   "execution_count": 6,
   "id": "b1107d79",
   "metadata": {},
   "outputs": [],
   "source": [
    "# #For local orca1 model\n",
    "\n",
    "# orca1_model_dir_name = '/home/gotom/model_zoo/orca1/' \n",
    "# yolov5nu_relu6_car_quant_dir = orca1_model_dir_name + 'yolov5nu_relu6_car--640x640_quant_n2x_orca1_1/yolov5nu_relu6_car--640x640_quant_n2x_orca1_1.json'\n",
    "# yolov8n_relu6_car_quant_dir = orca1_model_dir_name + 'yolov8n_relu6_car--640x640_quant_n2x_orca1_1/yolov8n_relu6_car--640x640_quant_n2x_orca1_1.json'\n",
    "# yolov5su_relu6_car_quant_dir = orca1_model_dir_name + 'yolov5su_relu6_car--640x640_quant_n2x_orca1_1/yolov5su_relu6_car--640x640_quant_n2x_orca1_1.json'\n",
    "# yolov8s_relu6_car_quant_dir = orca1_model_dir_name + 'yolov8s_relu6_car--640x640_quant_n2x_orca1_1/yolov8s_relu6_car--640x640_quant_n2x_orca1_1.json'\n",
    "\n",
    "# model_orca1_local = [yolov5nu_relu6_car_quant_dir, yolov8n_relu6_car_quant_dir, yolov5su_relu6_car_quant_dir, yolov8s_relu6_car_quant_dir,]\n",
    "\n",
    "# model_orca1_zoo = [dg.connect(dg.LOCAL, model_orca1_local[i]) for i in range(len(model_orca1_local))]\n",
    "# #model_orca1_zoo = [dg.connect(dg.LOCAL, dgtools.get_cloud_zoo_url(), dgtools.get_token()) for i in range(len(model_orca1))]\n"
   ]
  },
  {
   "cell_type": "code",
   "execution_count": 7,
   "id": "009b1463",
   "metadata": {},
   "outputs": [],
   "source": [
    "if COLAB:\n",
    "    dgtools.configure_colab()"
   ]
  },
  {
   "attachments": {},
   "cell_type": "markdown",
   "id": "5702a045",
   "metadata": {},
   "source": [
    "#### The rest of the cells below should run without any modifications"
   ]
  },
  {
   "cell_type": "code",
   "execution_count": 8,
   "id": "75af97ff",
   "metadata": {},
   "outputs": [],
   "source": [
    "# define function to run a single model batch prediction\n",
    "def do_test(target, model_name, iterations):\n",
    "    \n",
    "    if target == 'Local':\n",
    "        zoo = dg.connect(dg.LOCAL, dgtools.get_cloud_zoo_url(), dgtools.get_token())\n",
    "    elif target == 'Local_w_model':\n",
    "        zoo = dg.connect(dg.LOCAL)\n",
    "    else:\n",
    "        if COLAB:\n",
    "            dgtools.configure_colab()\n",
    "        zoo = dg.connect(dg.CLOUD, dgtools.get_cloud_zoo_url(), dgtools.get_token())\n",
    "\n",
    "    # load model\n",
    "    with zoo.load_model(model_name) as model:\n",
    "\n",
    "        # skip non-image type models\n",
    "        if model.model_info.InputType[0] != \"Image\":\n",
    "            return None\n",
    "\n",
    "        # configure model\n",
    "        model.input_image_format = \"JPEG\" if use_jpeg else \"RAW\"\n",
    "        model.measure_time = True\n",
    "        if batch_size is not None:\n",
    "            model.eager_batch_size = batch_size\n",
    "            model.frame_queue_depth = batch_size\n",
    "\n",
    "        # prepare input frame\n",
    "        frame = \"../../images/Car.jpg\"\n",
    "        if exclude_preprocessing:\n",
    "            frame = model._preprocessor.forward(frame)[0]\n",
    "\n",
    "        # define source of frames\n",
    "        def source():\n",
    "            for fi in range(iterations):\n",
    "                yield frame\n",
    "\n",
    "        model(frame)  # run model once to warm up the system\n",
    "\n",
    "        # run batch prediction\n",
    "        t = dgtools.Timer()\n",
    "        for res in model.predict_batch(source()):\n",
    "            pass\n",
    "\n",
    "        return {\n",
    "            \"postprocess_type\": model.output_postprocess_type,\n",
    "            \"elapsed\": t(),\n",
    "            \"time_stats\": model.time_stats(),\n",
    "        }\n"
   ]
  },
  {
   "cell_type": "code",
   "execution_count": null,
   "id": "55e3f896",
   "metadata": {},
   "outputs": [],
   "source": []
  },
  {
   "cell_type": "code",
   "execution_count": 9,
   "id": "ea6801bd",
   "metadata": {},
   "outputs": [],
   "source": [
    "def get_observed_fps_value(model_name, res, iterations):\n",
    "    \n",
    "    frame_duration_ms = 1e3 * res[\"elapsed\"] / iterations\n",
    "\n",
    "    observed_fps = round((1e3/frame_duration_ms),1)\n",
    "    \n",
    "    return observed_fps"
   ]
  },
  {
   "cell_type": "code",
   "execution_count": 10,
   "id": "4066ee1f",
   "metadata": {},
   "outputs": [],
   "source": [
    "#*******************************************************************************************************\n",
    "# draw_graph()\n",
    "#*******************************************************************************************************\n",
    "\n",
    "model_suffixL = ['yolov5nu', 'yolov5su', 'yolov8n', 'yolov8s']\n",
    "\n",
    "\n",
    "def draw_graph(target, fpsL, fps_iteraqtions_100L, suffix): \n",
    "    import matplotlib.pyplot as plt\n",
    "\n",
    "    #fpsL = [yolov5nu_fps, yolov5su_fps, yolov8n_fps, yolov8s_fps]\n",
    "    #model_suffixL = ['yolov5nu', 'yolov5su', 'yolov8n', 'yolov8s']\n",
    "   \n",
    "    fig = plt.figure()\n",
    "    ax1 = fig.add_subplot(111)\n",
    "\n",
    "    plt.rcParams[\"font.family\"] = \"Dejavu Serif\"\n",
    "    plt.rcParams[\"font.size\"] = 8\n",
    "    plt.rcParams[\"lines.linewidth\"] = 1.5\n",
    "\n",
    "    font = {'family' : 'Dejavu Serif', 'size' : 9, }\n",
    "    \n",
    "    #y_max = np.max(fpsL[0]) + 15\n",
    "    y_max=110\n",
    "    \n",
    "    # for i in range(len(fpsL) - 1):\n",
    "    #     if np.max(fpsL[i + 1]) > y_max:\n",
    "    #         y_max = np.max(fpsL[i + i]) + 15\n",
    "    \n",
    "    ax1.set_ylim(0, y_max)\n",
    "    \n",
    "    colorL = ['green', 'blue', 'violet', 'cyan']\n",
    "    markerfacecolorL = ['lightgreen', 'lightblue', 'plum', 'powderblue']\n",
    "\n",
    "    x_interval = [val / 10 for val in iterationsL]\n",
    "    plt.xticks(x_interval, iterationsL)\n",
    "\n",
    "    for i in range(len(fpsL)):\n",
    "        \n",
    "        ax1.plot(x_interval, fpsL[i], color = colorL[i], label = model_suffixL[i] + '_' + str(round(fps_iteraqtions_100L[i],1)) + 'FPS@' + str(iterationsL[-1]) + 'iterations', marker = 'D', markersize = 5, \n",
    "                 markeredgewidth = 1, markeredgecolor = colorL[i], markerfacecolor = markerfacecolorL[i])\n",
    "    \n",
    "    ax1.set_xlabel('Iterations', fontdict=font)\n",
    "    ax1.set_ylabel('FPS', fontdict=font)\n",
    "\n",
    "    ax1.legend(loc = 'upper center')\n",
    "\n",
    "    if COLAB:\n",
    "        plt.title('Image Input FPS(Colab)')\n",
    "    else:\n",
    "        plt.title('Image Input FPS('+ target +')')\n",
    "        \n",
    "    plt.show()\n",
    "    #suffix = '11'\n",
    "\n",
    "    if COLAB:    \n",
    "        fig.savefig(data_dir + 'fps_comp(Colab)' + suffix + '.jpg')\n",
    "    else:\n",
    "        fig.savefig(data_dir + 'fps_comp(' + target +')' + suffix + '.jpg')"
   ]
  },
  {
   "cell_type": "code",
   "execution_count": 11,
   "id": "acc3d155",
   "metadata": {},
   "outputs": [],
   "source": [
    "def single_test(target):\n",
    "\n",
    "    yolov5nu_fps = []\n",
    "    yolov5su_fps = []\n",
    "    yolov8n_fps = []\n",
    "    yolov8s_fps = []\n",
    "\n",
    "    for i in range(len(iterationsL)):  \n",
    "                \n",
    "        results = {}   \n",
    "    \n",
    "        for model_name in model_orca1:\n",
    "            if target == 'Local':\n",
    "                results[model_name] = do_test('Local', model_name, iterationsL[i])\n",
    "            elif target == 'Local_w_model':\n",
    "                results[model_name] = do_test('Local_model', model_name, iterationsL[i])\n",
    "            else:\n",
    "                results[model_name] = do_test('Cloud', model_name, iterationsL[i])\n",
    "                \n",
    "        for model_name, res in results.items():\n",
    "            if res is not None:\n",
    "                fps_value = get_observed_fps_value(model_name, res, iterationsL[i]) \n",
    "        \n",
    "            if  not model_name.find('5nu') == -1:\n",
    "                yolov5nu_fps.append(fps_value)\n",
    "            elif not model_name.find('5su') == -1:\n",
    "                yolov5su_fps.append(fps_value)\n",
    "            elif not model_name.find('8n') == -1:\n",
    "                yolov8n_fps.append(fps_value)\n",
    "            elif not model_name.find('8s') == -1:\n",
    "                yolov8s_fps.append(fps_value)\n",
    "    \n",
    "    fpsL = [yolov5nu_fps, yolov5su_fps, yolov8n_fps, yolov8s_fps]\n",
    "    \n",
    "    return fpsL"
   ]
  },
  {
   "cell_type": "code",
   "execution_count": 12,
   "id": "2a9763fa",
   "metadata": {},
   "outputs": [
    {
     "name": "stdout",
     "output_type": "stream",
     "text": [
      "{0: [[52.1, 83.9, 88.4, 90.4, 92.3, 91.6, 92.3, 93.8, 95.0, 94.1], [38.8, 40.1, 41.1, 40.3, 41.8, 42.0, 42.1, 42.1, 42.4, 42.4], [47.2, 82.1, 82.0, 77.8, 80.8, 86.5, 86.9, 87.0, 87.6, 87.8], [33.3, 34.2, 35.3, 36.5, 36.4, 36.2, 36.3, 36.4, 36.2, 36.5]]}\n",
      "{0: [[52.1, 83.9, 88.4, 90.4, 92.3, 91.6, 92.3, 93.8, 95.0, 94.1], [38.8, 40.1, 41.1, 40.3, 41.8, 42.0, 42.1, 42.1, 42.4, 42.4], [47.2, 82.1, 82.0, 77.8, 80.8, 86.5, 86.9, 87.0, 87.6, 87.8], [33.3, 34.2, 35.3, 36.5, 36.4, 36.2, 36.3, 36.4, 36.2, 36.5]], 1: [[73.6, 86.6, 86.7, 91.6, 91.4, 91.7, 93.5, 93.9, 94.2, 94.3], [37.4, 40.2, 41.3, 41.6, 41.8, 42.0, 42.2, 42.2, 42.3, 42.4], [71.7, 79.6, 83.6, 84.6, 85.7, 86.3, 86.8, 88.8, 87.6, 87.7], [33.0, 34.9, 35.5, 35.9, 36.0, 36.1, 36.3, 36.4, 36.4, 36.4]]}\n",
      "{0: [[52.1, 83.9, 88.4, 90.4, 92.3, 91.6, 92.3, 93.8, 95.0, 94.1], [38.8, 40.1, 41.1, 40.3, 41.8, 42.0, 42.1, 42.1, 42.4, 42.4], [47.2, 82.1, 82.0, 77.8, 80.8, 86.5, 86.9, 87.0, 87.6, 87.8], [33.3, 34.2, 35.3, 36.5, 36.4, 36.2, 36.3, 36.4, 36.2, 36.5]], 1: [[73.6, 86.6, 86.7, 91.6, 91.4, 91.7, 93.5, 93.9, 94.2, 94.3], [37.4, 40.2, 41.3, 41.6, 41.8, 42.0, 42.2, 42.2, 42.3, 42.4], [71.7, 79.6, 83.6, 84.6, 85.7, 86.3, 86.8, 88.8, 87.6, 87.7], [33.0, 34.9, 35.5, 35.9, 36.0, 36.1, 36.3, 36.4, 36.4, 36.4]], 2: [[75.4, 86.7, 88.8, 88.5, 90.3, 93.3, 93.7, 93.9, 92.6, 98.6], [38.4, 40.5, 41.4, 41.6, 41.5, 42.3, 42.3, 42.5, 43.0, 43.1], [71.5, 79.7, 83.1, 84.2, 83.1, 86.7, 83.6, 87.6, 89.2, 89.2], [33.8, 34.9, 35.3, 35.9, 36.0, 36.3, 36.2, 36.2, 36.9, 36.8]]}\n"
     ]
    }
   ],
   "source": [
    "test_count = 3\n",
    "#target = 'Cloud'\n",
    "target = 'Local'\n",
    "fpsD = {}\n",
    "\n",
    "for i in range(test_count):\n",
    "    fpsD[i] = single_test(target)\n",
    "    print(fpsD)\n",
    "\n",
    "#print(fpsD)"
   ]
  },
  {
   "cell_type": "code",
   "execution_count": 13,
   "id": "1160922f",
   "metadata": {},
   "outputs": [
    {
     "name": "stdout",
     "output_type": "stream",
     "text": [
      "[67.03333333 85.73333333 87.96666667 90.16666667 91.33333333 92.2\n",
      " 93.16666667 93.86666667 93.93333333 95.66666667]\n",
      "[38.2        40.26666667 41.26666667 41.16666667 41.7        42.1\n",
      " 42.2        42.26666667 42.56666667 42.63333333]\n",
      "[63.46666667 80.46666667 82.9        82.2        83.2        86.5\n",
      " 85.76666667 87.8        88.13333333 88.23333333]\n",
      "[33.36666667 34.66666667 35.36666667 36.1        36.13333333 36.2\n",
      " 36.26666667 36.33333333 36.5        36.56666667]\n",
      "[[67.03333333333333, 85.73333333333333, 87.96666666666668, 90.16666666666667, 91.33333333333333, 92.2, 93.16666666666667, 93.86666666666667, 93.93333333333332, 95.66666666666667], [38.199999999999996, 40.26666666666667, 41.26666666666667, 41.166666666666664, 41.699999999999996, 42.1, 42.2, 42.26666666666667, 42.56666666666666, 42.63333333333333], [63.46666666666667, 80.46666666666665, 82.89999999999999, 82.19999999999999, 83.2, 86.5, 85.76666666666665, 87.8, 88.13333333333333, 88.23333333333333], [33.36666666666667, 34.666666666666664, 35.36666666666667, 36.1, 36.13333333333333, 36.2, 36.266666666666666, 36.333333333333336, 36.5, 36.56666666666667]]\n",
      "[95.66666666666667, 42.63333333333333, 88.23333333333333, 36.56666666666667]\n"
     ]
    },
    {
     "data": {
      "image/png": "[encoded data removed]",
      "text/plain": [
       "<Figure size 640x480 with 1 Axes>"
      ]
     },
     "metadata": {},
     "output_type": "display_data"
    }
   ],
   "source": [
    "import numpy as np\n",
    "yolov5nu_ave_arr = np.array(fpsD[0][0])\n",
    "yolov5su_ave_arr = np.array(fpsD[0][1])\n",
    "yolov8n_ave_arr = np.array(fpsD[0][2])\n",
    "yolov8s_ave_arr = np.array(fpsD[0][3])\n",
    "\n",
    "#yolov5nu_fps\n",
    "for i in range(1, len(fpsD)):\n",
    "    yolov5nu_ave_arr += np.array(fpsD[i][0]) \n",
    "\n",
    "yolov5nu_ave_arr = yolov5nu_ave_arr / test_count\n",
    "print(yolov5nu_ave_arr)\n",
    "\n",
    "#yolov5su_fps\n",
    "for i in range(1, len(fpsD)):\n",
    "    yolov5su_ave_arr += np.array(fpsD[i][1]) \n",
    "\n",
    "yolov5su_ave_arr = yolov5su_ave_arr / test_count\n",
    "print(yolov5su_ave_arr)\n",
    "\n",
    "#yolov8n_fps\n",
    "for i in range(1, len(fpsD)):\n",
    "    yolov8n_ave_arr += np.array(fpsD[i][2]) \n",
    "\n",
    "yolov8n_ave_arr = yolov8n_ave_arr / test_count\n",
    "print(yolov8n_ave_arr)\n",
    "\n",
    "#yolov8s_fps\n",
    "for i in range(1, len(fpsD)):\n",
    "    yolov8s_ave_arr += np.array(fpsD[i][3]) \n",
    "\n",
    "yolov8s_ave_arr = yolov8s_ave_arr / test_count\n",
    "print(yolov8s_ave_arr)\n",
    "\n",
    "fpsL = [yolov5nu_ave_arr.tolist(), yolov5su_ave_arr.tolist(), yolov8n_ave_arr.tolist(), yolov8s_ave_arr.tolist()]\n",
    "\n",
    "fps_iterations_100L = []\n",
    "\n",
    "for i in range(len(fpsL)):\n",
    "    fps_iterations_100L.append(fpsL[i][-1])\n",
    "\n",
    "print(fpsL)\n",
    "print(fps_iterations_100L)\n",
    "\n",
    "suffix = '_13'\n",
    "draw_graph(target, fpsL, fps_iterations_100L, suffix)"
   ]
  },
  {
   "cell_type": "code",
   "execution_count": 14,
   "id": "ba3c41d4",
   "metadata": {},
   "outputs": [
    {
     "data": {
      "text/plain": [
       "\" # run batch predict for each model and record time measurements\\n#model_names = [model_orca1, model_edgetpu]\\n\\nimport numpy as np\\nimport my_utils as mutil\\n\\n#iterationsL = [100, 200, 300, 400, 500, 600, 700, 800, 1000]\\n#iterationsL = [10, 20, 30, 40, 50, 60, 70, 80, 90, 100]\\n#observed_fps = {}\\n\\n# yolov5nu_fps = []\\n# yolov5su_fps = []\\n# yolov8n_fps = []\\n# yolov8s_fps = []\\n\\n\\nfor i in range(len(iterationsL)):\\n        \\n    results = {}   \\n    \\n    for model_name in model_orca1:\\n        results[model_name] = do_test('Local', model_name, iterationsL[i])\\n    \\n    for model_name, res in results.items():\\n        if res is not None:\\n            fps_value = get_observed_fps_value(model_name, res, iterationsL[i]) \\n        \\n        if  not model_name.find('5nu') == -1:\\n            yolov5nu_fps.append(fps_value)\\n        elif not model_name.find('5su') == -1:\\n            yolov5su_fps.append(fps_value)\\n        elif not model_name.find('8n') == -1:\\n            yolov8n_fps.append(fps_value)\\n        elif not model_name.find('8s') == -1:\\n            yolov8s_fps.append(fps_value)\\n\\nprint(f'yolov5nu_fps_local = {yolov5nu_fps}')\\nprint(f'yolov5su_fps_local = {yolov5su_fps}')\\nprint(f'yolov8n_fps_local = {yolov8n_fps}')\\nprint(f'yolov8s_fps_local = {yolov8s_fps}')\\n            \\n    # yolov5nu_fps_arr = mutil.save_fps_array(data_dir, device, yolov5nu_fps, False, 'debug')\\n    # yolov5su_fps_arr = mutil.save_fps_array(data_dir, device, yolov5su_fps, False, 'debug')\\n    # yolov8n_fps_arr = mutil.save_fps_array(data_dir, device, yolov8n_fps, False, 'debug')\\n    # yolov8s_fps_arr = mutil.save_fps_array(data_dir, device, yolov8s_fps, False, 'debug')\\n\\n    #fpsL = [yolov5nu_fps, yolov5su_fps, yolov8n_fps, yolov8s_fps]\\n    #model_suffixL = ['yolov5nu', 'yolov5su', 'yolov8n', 'yolov8s']\\n\\nfpsL = [yolov5nu_fps, yolov5su_fps, yolov8n_fps, yolov8s_fps]\\ndraw_graph(target, fpsL) \""
      ]
     },
     "execution_count": 14,
     "metadata": {},
     "output_type": "execute_result"
    }
   ],
   "source": [
    "\"\"\" # run batch predict for each model and record time measurements\n",
    "#model_names = [model_orca1, model_edgetpu]\n",
    "\n",
    "import numpy as np\n",
    "import my_utils as mutil\n",
    "\n",
    "#iterationsL = [100, 200, 300, 400, 500, 600, 700, 800, 1000]\n",
    "#iterationsL = [10, 20, 30, 40, 50, 60, 70, 80, 90, 100]\n",
    "#observed_fps = {}\n",
    "\n",
    "# yolov5nu_fps = []\n",
    "# yolov5su_fps = []\n",
    "# yolov8n_fps = []\n",
    "# yolov8s_fps = []\n",
    "\n",
    "\n",
    "for i in range(len(iterationsL)):\n",
    "        \n",
    "    results = {}   \n",
    "    \n",
    "    for model_name in model_orca1:\n",
    "        results[model_name] = do_test('Local', model_name, iterationsL[i])\n",
    "    \n",
    "    for model_name, res in results.items():\n",
    "        if res is not None:\n",
    "            fps_value = get_observed_fps_value(model_name, res, iterationsL[i]) \n",
    "        \n",
    "        if  not model_name.find('5nu') == -1:\n",
    "            yolov5nu_fps.append(fps_value)\n",
    "        elif not model_name.find('5su') == -1:\n",
    "            yolov5su_fps.append(fps_value)\n",
    "        elif not model_name.find('8n') == -1:\n",
    "            yolov8n_fps.append(fps_value)\n",
    "        elif not model_name.find('8s') == -1:\n",
    "            yolov8s_fps.append(fps_value)\n",
    "\n",
    "print(f'yolov5nu_fps_local = {yolov5nu_fps}')\n",
    "print(f'yolov5su_fps_local = {yolov5su_fps}')\n",
    "print(f'yolov8n_fps_local = {yolov8n_fps}')\n",
    "print(f'yolov8s_fps_local = {yolov8s_fps}')\n",
    "            \n",
    "    # yolov5nu_fps_arr = mutil.save_fps_array(data_dir, device, yolov5nu_fps, False, 'debug')\n",
    "    # yolov5su_fps_arr = mutil.save_fps_array(data_dir, device, yolov5su_fps, False, 'debug')\n",
    "    # yolov8n_fps_arr = mutil.save_fps_array(data_dir, device, yolov8n_fps, False, 'debug')\n",
    "    # yolov8s_fps_arr = mutil.save_fps_array(data_dir, device, yolov8s_fps, False, 'debug')\n",
    "\n",
    "    #fpsL = [yolov5nu_fps, yolov5su_fps, yolov8n_fps, yolov8s_fps]\n",
    "    #model_suffixL = ['yolov5nu', 'yolov5su', 'yolov8n', 'yolov8s']\n",
    "\n",
    "fpsL = [yolov5nu_fps, yolov5su_fps, yolov8n_fps, yolov8s_fps]\n",
    "draw_graph(target, fpsL) \"\"\""
   ]
  },
  {
   "cell_type": "code",
   "execution_count": 15,
   "metadata": {},
   "outputs": [
    {
     "data": {
      "text/plain": [
       "' #*******************************************************************************************************\\n# draw_graph()\\n#*******************************************************************************************************\\n    \\nimport matplotlib.pyplot as plt\\n\\nfpsL = [yolov5nu_fps, yolov5su_fps, yolov8n_fps, yolov8s_fps]\\nmodel_suffixL = [\\'yolov5nu\\', \\'yolov5su\\', \\'yolov8n\\', \\'yolov8s\\']\\n\\n#fpsL = [yolov5nu_fps]\\n#model_suffixL = [\\'yolov5nu\\']\\n    \\nfig = plt.figure()\\nax1 = fig.add_subplot(111)\\n\\nplt.rcParams[\"font.family\"] = \"Dejavu Serif\"\\nplt.rcParams[\"font.size\"] = 8\\nplt.rcParams[\"lines.linewidth\"] = 1.5\\n\\nfont = {\\'family\\' : \\'Dejavu Serif\\',\\n            \\'size\\' : 9,\\n}\\n    \\n#y_max = np.max(fpsL[0]) + 15\\ny_max=110\\n    \\nfor i in range(len(fpsL) - 1):\\n    if np.max(fpsL[i + 1]) > y_max:\\n            y_max = np.max(fpsL[i + i]) + 15\\n    \\nax1.set_ylim(0, y_max)\\n    \\ncolorL = [\\'green\\', \\'blue\\', \\'violet\\', \\'cyan\\']\\nmarkerfacecolorL = [\\'lightgreen\\', \\'lightblue\\', \\'plum\\', \\'powderblue\\']\\n\\nx_interval = [val / 10 for val in iterationsL]\\nplt.xticks(x_interval, iterationsL)\\n\\nfor i in range(len(fpsL)):\\n        \\n    ax1.plot(x_interval, fpsL[i], color = colorL[i], label = model_suffixL[i], marker = \\'D\\', markersize = 5, \\n             markeredgewidth = 1, markeredgecolor = colorL[i], markerfacecolor = markerfacecolorL[i])\\n    \\nax1.set_xlabel(\\'Iterations\\', fontdict=font)\\nax1.set_ylabel(\\'FPS\\', fontdict=font)\\n\\nax1.legend(loc = \\'upper center\\')\\n\\nplt.title(\\'Image Input FPS(\\'+ target +\\')\\')\\n    \\nplt.show()\\nsuffix = \\'debug\\'\\nfig.savefig(data_dir + \\'fps_comp(\\' + target +\\').jpg\\')\\n '"
      ]
     },
     "execution_count": 15,
     "metadata": {},
     "output_type": "execute_result"
    }
   ],
   "source": [
    "\"\"\" #*******************************************************************************************************\n",
    "# draw_graph()\n",
    "#*******************************************************************************************************\n",
    "    \n",
    "import matplotlib.pyplot as plt\n",
    "\n",
    "fpsL = [yolov5nu_fps, yolov5su_fps, yolov8n_fps, yolov8s_fps]\n",
    "model_suffixL = ['yolov5nu', 'yolov5su', 'yolov8n', 'yolov8s']\n",
    "\n",
    "#fpsL = [yolov5nu_fps]\n",
    "#model_suffixL = ['yolov5nu']\n",
    "    \n",
    "fig = plt.figure()\n",
    "ax1 = fig.add_subplot(111)\n",
    "\n",
    "plt.rcParams[\"font.family\"] = \"Dejavu Serif\"\n",
    "plt.rcParams[\"font.size\"] = 8\n",
    "plt.rcParams[\"lines.linewidth\"] = 1.5\n",
    "\n",
    "font = {'family' : 'Dejavu Serif',\n",
    "            'size' : 9,\n",
    "}\n",
    "    \n",
    "#y_max = np.max(fpsL[0]) + 15\n",
    "y_max=110\n",
    "    \n",
    "for i in range(len(fpsL) - 1):\n",
    "    if np.max(fpsL[i + 1]) > y_max:\n",
    "            y_max = np.max(fpsL[i + i]) + 15\n",
    "    \n",
    "ax1.set_ylim(0, y_max)\n",
    "    \n",
    "colorL = ['green', 'blue', 'violet', 'cyan']\n",
    "markerfacecolorL = ['lightgreen', 'lightblue', 'plum', 'powderblue']\n",
    "\n",
    "x_interval = [val / 10 for val in iterationsL]\n",
    "plt.xticks(x_interval, iterationsL)\n",
    "\n",
    "for i in range(len(fpsL)):\n",
    "        \n",
    "    ax1.plot(x_interval, fpsL[i], color = colorL[i], label = model_suffixL[i], marker = 'D', markersize = 5, \n",
    "             markeredgewidth = 1, markeredgecolor = colorL[i], markerfacecolor = markerfacecolorL[i])\n",
    "    \n",
    "ax1.set_xlabel('Iterations', fontdict=font)\n",
    "ax1.set_ylabel('FPS', fontdict=font)\n",
    "\n",
    "ax1.legend(loc = 'upper center')\n",
    "\n",
    "plt.title('Image Input FPS('+ target +')')\n",
    "    \n",
    "plt.show()\n",
    "suffix = 'debug'\n",
    "fig.savefig(data_dir + 'fps_comp(' + target +').jpg')\n",
    " \"\"\""
   ]
  },
  {
   "cell_type": "code",
   "execution_count": null,
   "id": "5e4c8f8d",
   "metadata": {},
   "outputs": [],
   "source": []
  }
 ],
 "metadata": {
  "kernelspec": {
   "display_name": "degirum_test",
   "language": "python",
   "name": "python3"
  },
  "language_info": {
   "codemirror_mode": {
    "name": "ipython",
    "version": 3
   },
   "file_extension": ".py",
   "mimetype": "text/x-python",
   "name": "python",
   "nbconvert_exporter": "python",
   "pygments_lexer": "ipython3",
   "version": "3.9.16"
  }
 },
 "nbformat": 4,
 "nbformat_minor": 5
}
