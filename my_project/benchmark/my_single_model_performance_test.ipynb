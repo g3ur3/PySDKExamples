{
 "cells": [
  {
   "attachments": {},
   "cell_type": "markdown",
   "id": "5c15cb24",
   "metadata": {},
   "source": [
    "![Degirum banner](https://raw.githubusercontent.com/DeGirum/PySDKExamples/main/images/degirum_banner.png)\n",
    "## Performance Test for Single-Model Inference\n",
    "This notebook contains performance measurements for all Orca-based image detection AI models from DeGirum \n",
    "public model zoo\n",
    "\n",
    "This script works with the following inference options:\n",
    "\n",
    "1. Run inference on DeGirum Cloud Platform;\n",
    "2. Run inference on DeGirum AI Server deployed on a localhost or on some computer in your LAN or VPN;\n",
    "3. Run inference on DeGirum ORCA accelerator directly installed on your computer.\n",
    "\n",
    "To try different options, you need to specify the appropriate `hw_location` option.\n",
    "\n",
    "When running this notebook locally, you need to specify your cloud API access token in the [env.ini](../../env.ini) file, located in the same directory as this notebook.\n",
    "\n",
    "When running this notebook in Google Colab, the cloud API access token should be stored in a user secret named `DEGIRUM_CLOUD_TOKEN`."
   ]
  },
  {
   "cell_type": "code",
   "execution_count": 37,
   "id": "82692316",
   "metadata": {},
   "outputs": [
    {
     "name": "stdout",
     "output_type": "stream",
     "text": [
      "/bin/bash: /home/gotom/anaconda3/envs/degirum_test/lib/python3.9/site-packages/cv2/../../../../lib/libtinfo.so.6: no version information available (required by /bin/bash)\n",
      "Name: degirum-tools\n",
      "Version: 0.4.0\n",
      "Summary: Tools for PySDK\n",
      "Home-page: \n",
      "Author: DeGirum\n",
      "Author-email: \n",
      "License: \n",
      "Location: /home/gotom/anaconda3/envs/degirum_test/lib/python3.9/site-packages\n",
      "Requires: av, degirum, ipython, numpy, opencv-python, pafy, pillow, pycocotools, pyyaml, scipy, youtube-dl\n",
      "Required-by: \n"
     ]
    }
   ],
   "source": [
    "# make sure degirum-tools package is installed\n",
    "!pip show degirum-tools || pip install degirum-tools"
   ]
  },
  {
   "attachments": {},
   "cell_type": "markdown",
   "id": "01549d7c-2445-4007-8a89-ac0f3a864530",
   "metadata": {
    "tags": []
   },
   "source": [
    "#### Specify test options here"
   ]
  },
  {
   "cell_type": "code",
   "execution_count": 38,
   "id": "da34df11-cbc7-4b00-8994-794a4a6548b4",
   "metadata": {
    "tags": []
   },
   "outputs": [],
   "source": [
    "# hw_location: where you want to run inference\n",
    "#     \"@cloud\" to use DeGirum cloud\n",
    "#     \"@local\" to run on local machine\n",
    "#     IP address for AI server inference\n",
    "# model_zoo_url: url/path for model zoo\n",
    "#     cloud_zoo_url: valid for @cloud, @local, and ai server inference options\n",
    "#     '': ai server serving models from local folder\n",
    "#     path to json file: single model zoo in case of @local inference\n",
    "# iterations: iterations to run for each model\n",
    "# device_family: device family of models to profile\n",
    "hw_location = \"@cloud\"\n",
    "#hw_location = \"@local\"\n",
    "\n",
    "#model_zoo_url = \"https://cs.degirum.com/degirum/public\"\n",
    "model_zoo_url = \"https://cs.degirum.com/degirum/ultralytics_v6\"\n",
    "iterations = 10  # how many iterations to run for each model\n",
    "device_family = \"ORCA1\"  # models of which device family to use"
   ]
  },
  {
   "attachments": {},
   "cell_type": "markdown",
   "id": "965103da-b8bb-4a02-af4f-6b8a97c58e43",
   "metadata": {
    "tags": []
   },
   "source": [
    "#### Specify where do you want to run your inferences"
   ]
  },
  {
   "cell_type": "code",
   "execution_count": 39,
   "id": "fea1e8c8",
   "metadata": {
    "tags": []
   },
   "outputs": [],
   "source": [
    "import degirum as dg\n",
    "import degirum_tools\n",
    "\n",
    "# connect to AI inference engine\n",
    "zoo = dg.connect(hw_location, model_zoo_url, degirum_tools.get_token())"
   ]
  },
  {
   "cell_type": "code",
   "execution_count": 40,
   "id": "71d4f57d",
   "metadata": {},
   "outputs": [],
   "source": [
    "#*******************************************************************************************************\n",
    "# draw_graph()\n",
    "#*******************************************************************************************************\n",
    "def draw_graph(data_dir, fps1D, fps2D, label1, label2, graph_title, y_max, suffix):\n",
    "\n",
    "    import matplotlib.pyplot as plt\n",
    "        \n",
    "    model_symbolsL = []\n",
    "    fps1L = []\n",
    "    fps2L = []\n",
    "    \n",
    "    for k, v in fps1D.items():\n",
    "        model_symbolsL.append(k) \n",
    "        fps1L.append(v)\n",
    "    \n",
    "    for k, v in fps2D.items():\n",
    "        fps2L.append(v)\n",
    "\n",
    "    fig = plt.figure()\n",
    "    ax1 = fig.add_subplot(111)\n",
    "\n",
    "    plt.rcParams[\"font.family\"] = \"Dejavu Serif\"\n",
    "    plt.rcParams[\"font.size\"] = 14\n",
    "    plt.rcParams[\"lines.linewidth\"] = 1.5\n",
    "\n",
    "    plt.grid()\n",
    "    font = {'family' : 'Dejavu Serif',\n",
    "            'size' : 14,\n",
    "    }\n",
    "\n",
    "    ax1.set_ylim(0, y_max)\n",
    "    #plt.xticks[x, model_symbolsL]\n",
    "    x = model_symbolsL\n",
    "    \n",
    "    ax1.plot(x, fps1L, color = 'lightblue', label = label1, marker = 'D', markersize = 4, \n",
    "             markeredgewidth = 1.5, markeredgecolor = 'skyblue', markerfacecolor = 'lightblue')\n",
    "    \n",
    "    for i, value in enumerate(fps1L):\n",
    "        ax1.text(x[i], fps1L[i], value, size = 12, ha = 'left', va = 'bottom', color = 'black')\n",
    "    \n",
    "    ax1.plot(x, fps2L, color = 'yellowgreen', label = label2, marker = 'D', markersize = 4, \n",
    "              markeredgewidth = 1.5, markeredgecolor = 'lime', markerfacecolor = 'yellowgreen')\n",
    "    \n",
    "    for i, value in enumerate(fps2L):\n",
    "         ax1.text(x[i], fps2L[i], value, size = 12, ha = 'right', va = 'bottom', color = 'black')\n",
    "    \n",
    "    ax1.set_xlabel('Model Name', fontdict=font)\n",
    "    ax1.set_ylabel('FPS', fontdict=font)\n",
    "\n",
    "    ax1.legend(loc = 'upper center')\n",
    "    \n",
    "    plt.title(graph_title)\n",
    "    #plt.xticks(rotation=90)\n",
    "    plt.rcParams['figure.figsize'] = (16.0, 6.0)\n",
    "    plt.show()\n",
    "    fig.savefig(data_dir + graph_title +'_' + suffix + '.jpg')"
   ]
  },
  {
   "cell_type": "code",
   "execution_count": 41,
   "id": "5819f417",
   "metadata": {},
   "outputs": [],
   "source": [
    "target_models = [\n",
    "                'yolov5nu_relu6_coco--640x640_quant_n2x_orca1_1',\n",
    "                'yolov5su_relu6_coco--640x640_quant_n2x_orca1_1',\n",
    "                'yolov8n_relu6_coco--640x640_quant_n2x_orca1_1',\n",
    "                'yolov8s_relu6_coco--640x640_quant_n2x_orca1_1',\n",
    "                'yolov5nu_relu6_coco--640x640_quant_tflite_edgetpu_1',\n",
    "                'yolov5su_relu6_coco--640x640_quant_tflite_edgetpu_1',\n",
    "                'yolov8n_relu6_coco--640x640_quant_tflite_edgetpu_1',\n",
    "                'yolov8s_relu6_coco--640x640_quant_tflite_edgetpu_1',\n",
    "                ]"
   ]
  },
  {
   "cell_type": "code",
   "execution_count": 42,
   "id": "68cf1ad8",
   "metadata": {},
   "outputs": [],
   "source": [
    "# target_models = [\n",
    "#                 'yolov5nu_relu6_face--640x640_quant_n2x_orca1_1',\n",
    "#                 'yolov5su_relu6_face--640x640_quant_n2x_orca1_1',\n",
    "#                 'yolov8n_relu6_face--640x640_quant_n2x_orca1_1',\n",
    "#                 'yolov8s_relu6_face--640x640_quant_n2x_orca1_1',\n",
    "#                 'yolov5nu_relu6_face--640x640_quant_tflite_edgetpu_1',\n",
    "#                 'yolov5su_relu6_face--640x640_quant_tflite_edgetpu_1',\n",
    "#                 'yolov8n_relu6_face--640x640_quant_tflite_edgetpu_1',\n",
    "#                 'yolov8s_relu6_face--640x640_quant_tflite_edgetpu_1',\n",
    "#                 ]"
   ]
  },
  {
   "cell_type": "code",
   "execution_count": 43,
   "id": "9df75490",
   "metadata": {},
   "outputs": [],
   "source": [
    "# target_models = [\n",
    "#                 'yolov5n_relu6_visdrone--640x640_quant_n2x_orca1_1',\n",
    "#                 'yolov5s_relu6_visdrone--640x640_quant_n2x_orca1_1',\n",
    "#                 'yolov8n_relu6_visdrone--640x640_quant_n2x_orca1_1',\n",
    "#                 'yolov8s_relu6_visdrone--640x640_quant_n2x_orca1_1',\n",
    "#                 'yolov5n_relu6_visdrone--640x640_quant_tflite_edgetpu_1',\n",
    "#                 'yolov5s_relu6_visdrone--640x640_quant_tflite_edgetpu_1',\n",
    "#                 'yolov8n_relu6_visdrone--640x640_quant_tflite_edgetpu_1',\n",
    "#                 'yolov8s_relu6_visdrone--640x640_quant_tflite_edgetpu_1',\n",
    "#                 ]"
   ]
  },
  {
   "cell_type": "code",
   "execution_count": 44,
   "id": "96375bb6",
   "metadata": {},
   "outputs": [],
   "source": [
    "#model_symbol = ['yolov5n_relu6_visdrone', 'yolov5s_relu6_visdrone', 'yolov8n_relu6_visdrone', 'yolov8s_relu6_visdrone',]\n",
    "model_symbol = ['yolov5n_relu6_coco', 'yolov5s_relu6_coco', 'yolov8n_relu6_coco', 'yolov8s_relu6_coco',]\n",
    "#model_symbol = ['yolov5n_relu6_face', 'yolov5s_relu6_face', 'yolov8n_relu6_face', 'yolov8s_relu6_face',]"
   ]
  },
  {
   "attachments": {},
   "cell_type": "markdown",
   "id": "5702a045",
   "metadata": {},
   "source": [
    "#### The rest of the cells below should run without any modifications"
   ]
  },
  {
   "cell_type": "code",
   "execution_count": 45,
   "id": "75af97ff",
   "metadata": {},
   "outputs": [
    {
     "data": {
      "text/plain": [
       " 100% |███████████████| 8/8 [1101.3s elapsed, 0.0s remaining, 0.0 models/s]"
      ]
     },
     "metadata": {},
     "output_type": "display_data"
    }
   ],
   "source": [
    "# run batch predict for each model and record time measurements\n",
    "results = {}\n",
    "iterations = 100\n",
    "prog = degirum_tools.Progress(len(target_models), speed_units=\"models/s\")\n",
    "for model_name in target_models:\n",
    "    try:\n",
    "        results[model_name] = degirum_tools.model_time_profile(\n",
    "            zoo.load_model(model_name), iterations\n",
    "        )\n",
    "    except NotImplementedError:\n",
    "        pass  # skip models for which time profiling is not supported\n",
    "    prog.step()"
   ]
  },
  {
   "cell_type": "code",
   "execution_count": 46,
   "id": "1b150507",
   "metadata": {},
   "outputs": [
    {
     "name": "stdout",
     "output_type": "stream",
     "text": [
      "Iterations: 100\n",
      "---------------------------------------------------------------------------------------------------------------------------\n",
      "Device          | Model name                                                        | Observed FPS     | Max Possible FPS |\n",
      "---------------------------------------------------------------------------------------------------------------------------\n",
      "ORCA            | yolov5nu_relu6_coco--640x640_quant_n2x_orca1_1                    |             70.1 |             97.8 |\n",
      "ORCA            | yolov5su_relu6_coco--640x640_quant_n2x_orca1_1                    |             38.0 |             43.7 |\n",
      "ORCA            | yolov8n_relu6_coco--640x640_quant_n2x_orca1_1                     |             66.9 |             91.0 |\n",
      "ORCA            | yolov8s_relu6_coco--640x640_quant_n2x_orca1_1                     |             33.2 |             37.2 |\n",
      "EDGETPU         | yolov5nu_relu6_coco--640x640_quant_tflite_edgetpu_1               |              0.8 |              0.8 |\n",
      "EDGETPU         | yolov5su_relu6_coco--640x640_quant_tflite_edgetpu_1               |              0.3 |              0.3 |\n",
      "EDGETPU         | yolov8n_relu6_coco--640x640_quant_tflite_edgetpu_1                |              0.7 |              0.7 |\n",
      "EDGETPU         | yolov8s_relu6_coco--640x640_quant_tflite_edgetpu_1                |              0.2 |              0.2 |\n",
      "___________________________________________________________________________________________________________________________\n"
     ]
    }
   ],
   "source": [
    "# print results\n",
    "CW = (15, 65, 16, 16)  # column widths\n",
    "header = f\"{'Device':{CW[0]}} | {'Model name':{CW[1]}} | {'Observed FPS':{CW[2]}} | {'Max Possible FPS':{CW[3]}} |\"\n",
    "\n",
    "#print(f\"Models    : {len(target_models)}\")\n",
    "print(f\"Iterations: {iterations}\")\n",
    "print(f\"{'-'*len(header)}\")\n",
    "print(header)\n",
    "print(f\"{'-'*len(header)}\")\n",
    "\n",
    "orca_observed_fpsL = []\n",
    "edgetpu_observed_fpsL = []\n",
    "\n",
    "for model_name, result in results.items():\n",
    "    if model_name.find('orca1') > 0:\n",
    "        device = 'ORCA'\n",
    "        orca_observed_fpsL.append(round(result.observed_fps,1))\n",
    "    elif model_name.find('edgetpu') > 0:\n",
    "        device = 'EDGETPU'\n",
    "        edgetpu_observed_fpsL.append(round(result.observed_fps,1))\n",
    "    print(\n",
    "        f'{device:{CW[0]}} |'\n",
    "        + f\" {model_name:{CW[1]}} |\"\n",
    "        + f\" {result.observed_fps:{CW[2]}.1f} |\"\n",
    "        + f\" {result.max_possible_fps:{CW[3]}.1f} |\"\n",
    "    )\n",
    "print(f\"{'_'*len(header)}\")"
   ]
  },
  {
   "cell_type": "code",
   "execution_count": 47,
   "id": "5b2d6509",
   "metadata": {},
   "outputs": [],
   "source": [
    "orca_observed_fpsD = {}\n",
    "edgetpu_observed_fpsD = {}\n",
    "\n",
    "for i, fps in enumerate(orca_observed_fpsL):\n",
    "    orca_observed_fpsD[model_symbol[i]] = fps\n",
    "\n",
    "#print (f'orca_observed_fpsD: {orca_observed_fpsD}')\n",
    "\n",
    "for i, fps in enumerate(edgetpu_observed_fpsL):\n",
    "    #print(f'fps = {fps}')\n",
    "    edgetpu_observed_fpsD[model_symbol[i]] = fps\n",
    "\n",
    "#print (f'edgetpu_observed_fpsD: {edgetpu_observed_fpsD}')"
   ]
  },
  {
   "cell_type": "code",
   "execution_count": 48,
   "id": "e4a354ce",
   "metadata": {},
   "outputs": [
    {
     "data": {
      "image/png": "[encoded data removed]",
      "text/plain": [
       "<Figure size 1600x600 with 1 Axes>"
      ]
     },
     "metadata": {},
     "output_type": "display_data"
    }
   ],
   "source": [
    "import time\n",
    "data_dir = './data_dir/benchmark/vs_edgetpu/'\n",
    "label1 = 'ORCA(M.2)'\n",
    "label2 = 'EdgeTPU'\n",
    "graph_title = 'ORCA vs. EdgeTPU'\n",
    "y_max = 120\n",
    "\n",
    "suffix = time.strftime('%m%d%H%M')\n",
    "\n",
    "draw_graph(data_dir, orca_observed_fpsD, edgetpu_observed_fpsD, label1, label2, graph_title, y_max, suffix)\n"
   ]
  },
  {
   "cell_type": "code",
   "execution_count": 49,
   "id": "1fe0f091",
   "metadata": {},
   "outputs": [
    {
     "data": {
      "text/plain": [
       "' # save results\\nimport time\\nd = time.strftime(\\'%m%d%H%M\\')\\ndata_dir = \\'data_dir/benchmark/vs_edgetpu/\\'\\n\\nf = open(data_dir + \\'orca_vs_edgetpu\\' + d + \\'.txt\\', \\'w\\')\\nCW = (62, 19, 16, 16)  # column widths\\nheader = f\"{\\'Model name\\':{CW[0]}}| {\\'Postprocess Type\\':{CW[1]}} | {\\'Observed FPS\\':{CW[2]}} | {\\'Max Possible FPS\\':{CW[3]}} |\"\\n\\nf.write(f\"Models    : {len(target_models)}\\n\")\\nf.write(f\"Iterations: {iterations}\\n\")\\nf.write(f\"{\\'-\\'*len(header)}\\n\")\\nf.write(header + \\'\\n\\')\\nf.write(f\"{\\'-\\'*len(header)\\n}\")\\n\\nfor model_name, result in results.items():\\n    print(\\n        f\"{model_name:{CW[0]}}|\"\\n        + f\" {result.parameters.OutputPostprocessType:{CW[1]}} |\"\\n        + f\" {result.observed_fps:{CW[2]}.1f} |\"\\n        + f\" {result.max_possible_fps:{CW[3]}.1f} |\"\\n    ) '"
      ]
     },
     "execution_count": 49,
     "metadata": {},
     "output_type": "execute_result"
    }
   ],
   "source": [
    "\"\"\" # save results\n",
    "import time\n",
    "d = time.strftime('%m%d%H%M')\n",
    "data_dir = 'data_dir/benchmark/vs_edgetpu/'\n",
    "\n",
    "f = open(data_dir + 'orca_vs_edgetpu' + d + '.txt', 'w')\n",
    "CW = (62, 19, 16, 16)  # column widths\n",
    "header = f\"{'Model name':{CW[0]}}| {'Postprocess Type':{CW[1]}} | {'Observed FPS':{CW[2]}} | {'Max Possible FPS':{CW[3]}} |\"\n",
    "\n",
    "f.write(f\"Models    : {len(target_models)}\\n\")\n",
    "f.write(f\"Iterations: {iterations}\\n\")\n",
    "f.write(f\"{'-'*len(header)}\\n\")\n",
    "f.write(header + '\\n')\n",
    "f.write(f\"{'-'*len(header)\\n}\")\n",
    "\n",
    "for model_name, result in results.items():\n",
    "    print(\n",
    "        f\"{model_name:{CW[0]}}|\"\n",
    "        + f\" {result.parameters.OutputPostprocessType:{CW[1]}} |\"\n",
    "        + f\" {result.observed_fps:{CW[2]}.1f} |\"\n",
    "        + f\" {result.max_possible_fps:{CW[3]}.1f} |\"\n",
    "    ) \"\"\""
   ]
  }
 ],
 "metadata": {
  "kernelspec": {
   "display_name": "base",
   "language": "python",
   "name": "python3"
  },
  "language_info": {
   "codemirror_mode": {
    "name": "ipython",
    "version": 3
   },
   "file_extension": ".py",
   "mimetype": "text/x-python",
   "name": "python",
   "nbconvert_exporter": "python",
   "pygments_lexer": "ipython3",
   "version": "3.9.16"
  }
 },
 "nbformat": 4,
 "nbformat_minor": 5
}
