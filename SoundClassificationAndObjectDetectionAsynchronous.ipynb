{
 "cells": [
  {
   "cell_type": "markdown",
   "id": "f257328f",
   "metadata": {},
   "source": [
    "## Example script illustrating asynchronous parallel execution of sound classification on audio stream and object detection on video stream\n",
    "This notebook is an example how to use DeGirum PySDK to perform parallel inferences on two asynchronous data streams with different frame rates. To achieve maximum performance this example uses non-blocking batch prediction mode.\n",
    "\n",
    "**pyaudio package with portaudio is required to run this sample.**\n",
    "\n",
    "**Access to microphone is required to run this sample.**\n",
    "\n",
    "**Access to camera is required to run this sample.**\n",
    "\n",
    "The script needs either a web camera or local camera connected to the machine running this code. The camera index or URL needs to be specified either in the code below by assigning `camera_id` or in .env file by defining `CAMERA_ID` variable and assigning `camera_id = None`."
   ]
  },
  {
   "cell_type": "markdown",
   "id": "4d9de969",
   "metadata": {},
   "source": [
    "### Specify camera id"
   ]
  },
  {
   "cell_type": "code",
   "execution_count": 1,
   "id": "fc9c22fe",
   "metadata": {},
   "outputs": [],
   "source": [
    "camera_id = 0         # camera index or URL; 0 to use default local camera, None to take from .env file"
   ]
  },
  {
   "cell_type": "code",
   "execution_count": 2,
   "id": "7d5a1753",
   "metadata": {},
   "outputs": [],
   "source": [
    "import degirum as dg # import DeGirum PySDK\n",
    "import mytools\n",
    "import sys"
   ]
  },
  {
   "cell_type": "markdown",
   "id": "adf79bfa",
   "metadata": {},
   "source": [
    "### Specify inference option"
   ]
  },
  {
   "cell_type": "code",
   "execution_count": null,
   "id": "83ee6c6d",
   "metadata": {},
   "outputs": [],
   "source": [
    "# Please uncomment and edit one of the following inference options to specify your system configuration case according to\n",
    "# https://cs.degirum.com/doc/0.5.0/degirum.html#system-configuration-for-specific-use-cases\n",
    "\n",
    "# 1. DeGirum Cloud Zoo inference:\n",
    "#zoo = dg.connect_model_zoo(\"dgcps://cs.degirum.com\", token=mytools.token_get())\n",
    "\n",
    "# 2. AIServer inference via IP address using models from DeGirum Cloud model zoo\n",
    "#zoo = dg.connect_model_zoo((\"192.168.0.7\", \"https://cs.degirum.com/degirum_com/public\"), token=mytools.token_get())\n",
    "\n",
    "# 3. AIServer inference via IP address using local model zoo\n",
    "#zoo = dg.connect_model_zoo(\"192.168.0.1\")\n",
    "\n",
    "# 4. ORCA board installed locally using models from DeGirum Cloud Model Zoo\n",
    "#zoo = dg.connect_model_zoo(\"https://cs.degirum.com/degirum_com/public\", token=mytools.token_get())\n",
    "\n",
    "# 5. Local inference with locally deployed model\n",
    "#zoo = dg.connect_model_zoo(\"full/path/to/model.json\")"
   ]
  },
  {
   "cell_type": "code",
   "execution_count": null,
   "id": "a3dd775c",
   "metadata": {},
   "outputs": [],
   "source": [
    "# load YAMNET sound classification model for DeGirum Orca AI accelerator\n",
    "# (change model name to \"...n2x_cpu_1\" to run it on CPU)\n",
    "sound_model = zoo.load_model(\"mobilenet_v1_yamnet_sound_cls--96x64_quant_n2x_orca_1\")"
   ]
  },
  {
   "cell_type": "code",
   "execution_count": null,
   "id": "6a8f1b2a",
   "metadata": {},
   "outputs": [],
   "source": [
    "# load MobileNetv2+SSD object detection model for DeGirum Orca AI accelerator\n",
    "# (change model name to \"...n2x_cpu_1\" to run it on CPU)\n",
    "detection_model = zoo.load_model(\"mobilenet_v2_ssd_coco--300x300_quant_n2x_orca_1\")\n",
    "\n",
    "# set model parameters\n",
    "detection_model.image_backend = 'opencv' # select OpenCV backend: needed to have overlay image in OpenCV format\n",
    "detection_model.input_numpy_colorspace = 'BGR'"
   ]
  },
  {
   "cell_type": "code",
   "execution_count": null,
   "id": "da875f21",
   "metadata": {},
   "outputs": [],
   "source": [
    "# set non-blocking mode for both models\n",
    "sound_model.non_blocking_batch_predict = True\n",
    "detection_model.non_blocking_batch_predict = True"
   ]
  },
  {
   "cell_type": "code",
   "execution_count": null,
   "id": "db989e10",
   "metadata": {},
   "outputs": [],
   "source": [
    "audio_sampling_rate_hz = sound_model.model_info.InputSamplingRate[0]\n",
    "audio_buffer_size = sound_model.model_info.InputWaveformSize[0] // 2 # two read buffers in waveform for half-length overlapping\n",
    "\n",
    "with mytools.Display(\"Async Streams\") as display, \\\n",
    "    mytools.open_audio_stream(audio_sampling_rate_hz, audio_buffer_size) as audio_stream, \\\n",
    "    mytools.open_video_stream(camera_id) as video_stream:\n",
    "    \n",
    "    # create prediction result generators:\n",
    "    sound_predictor = sound_model.predict_batch(mytools.audio_overlapped_source(audio_stream, lambda: False, True))\n",
    "    detection_predictor = detection_model.predict_batch(mytools.video_source(video_stream))\n",
    "    \n",
    "    sound_label = \"\"\n",
    "    while True: # press 'x' or 'q' to abort\n",
    "        \n",
    "        # do asynchronous ML inferences for both models (each one can be None if not ready):\n",
    "        sound_result = next(sound_predictor)\n",
    "        detection_result = next(detection_predictor)\n",
    "\n",
    "        # process sound classification result (just remember the text)\n",
    "        if sound_result is not None:\n",
    "            sound_label = f\"{sound_result.results[0]['label']}: {sound_result.results[0]['score']}\"\n",
    "        \n",
    "        # process video detection result (just display the annotated frame)\n",
    "        if detection_result is not None:\n",
    "            img = detection_result.image_overlay\n",
    "            mytools.Display.put_text(img,\n",
    "                                     sound_label,\n",
    "                                     (1, img.shape[0] // 4),\n",
    "                                     (0,0,0),\n",
    "                                     (255,255,255),                                         \n",
    "                                    )\n",
    "            display.show(img)            "
   ]
  }
 ],
 "metadata": {
  "kernelspec": {
   "display_name": "Python 3 (ipykernel)",
   "language": "python",
   "name": "python3"
  },
  "language_info": {
   "codemirror_mode": {
    "name": "ipython",
    "version": 3
   },
   "file_extension": ".py",
   "mimetype": "text/x-python",
   "name": "python",
   "nbconvert_exporter": "python",
   "pygments_lexer": "ipython3",
   "version": "3.8.10"
  },
  "vscode": {
   "interpreter": {
    "hash": "19d1d53a962d236aa061289c2ac16dc8e6d9648c89fe79f459ae9a3493bc67b4"
   }
  }
 },
 "nbformat": 4,
 "nbformat_minor": 5
}
