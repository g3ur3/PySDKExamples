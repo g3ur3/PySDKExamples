{
 "cells": [
  {
   "cell_type": "markdown",
   "id": "438aa03a",
   "metadata": {},
   "source": [
    "## This notebook is an example of how to pipeline two models. \n",
    "A video stream from a local camera is processed by the face detection model. The face detection results are then processed by the mask detection model, one face bounding box at a time. Combined result is then displayed.\n",
    "\n",
    "This example uses `mystreams` streaming toolkit.\n",
    "\n",
    "**Access to camera is required to run this sample.**\n",
    "\n",
    "This script works with the following inference options:\n",
    "\n",
    "1. [DeGirum Cloud Platform](https://cs.degirum.com),\n",
    "1. DeGirum-hosted AI server node shared via Peer-to-Peer VPN,\n",
    "1. AI server node hosted by you in your local network,\n",
    "1. AI server running on your local machine,\n",
    "1. DeGirum ORCA accelerator directly installed on your local machine.\n",
    "\n",
    "To try different options, you just need to change the `inference_option` in the code below.\n",
    "\n",
    "The script needs either a web camera or local camera connected to the machine running this code. The camera index or URL needs to be specified either in the code below by assigning `camera_id` or in .env file by defining `CAMERA_ID` variable and assigning `camera_id = None`."
   ]
  },
  {
   "cell_type": "markdown",
   "id": "39d0f95d-7fd0-43b1-b94a-4835357d10a5",
   "metadata": {},
   "source": [
    "### Specify where do you want to run your inferences and camera index here"
   ]
  },
  {
   "cell_type": "code",
   "execution_count": null,
   "id": "6b37dddf-3f5f-40b0-8bd9-409ae37bc7d8",
   "metadata": {},
   "outputs": [],
   "source": [
    "inference_option = 1  # <<< change it according to your needs selecting from the list in the header comment\n",
    "camera_id = 0         # camera index or URL; 0 to use default local camera, None to take from .env file"
   ]
  },
  {
   "cell_type": "markdown",
   "id": "e68dc838-9d2b-4806-b48c-67912b4fdebe",
   "metadata": {},
   "source": [
    "### The rest of the cells below should run without any modifications"
   ]
  },
  {
   "cell_type": "code",
   "execution_count": null,
   "id": "65d4cd90",
   "metadata": {},
   "outputs": [],
   "source": [
    "import degirum as dg # import DeGirum PySDK\n",
    "import mytools, cv2\n",
    "from mystreams import *"
   ]
  },
  {
   "cell_type": "code",
   "execution_count": null,
   "id": "983841ae",
   "metadata": {},
   "outputs": [],
   "source": [
    "# connect to model zoo according to selected inference option\n",
    "zoo = mytools.connect_model_zoo(inference_option)"
   ]
  },
  {
   "cell_type": "code",
   "execution_count": null,
   "id": "33012fe3",
   "metadata": {},
   "outputs": [],
   "source": [
    "# load models for DeGirum Orca AI accelerator\n",
    "# (change model name to \"...n2x_cpu_1\" to run it on CPU)\n",
    "face_det_model = zoo.load_model(\"yolo_v5s_face_det--512x512_quant_n2x_orca_1\")\n",
    "mask_det_model = zoo.load_model(\"mobilenet_v2_mask_yn_cls--224x224_float_n2x_orca_1\")\n",
    "\n",
    "# adjust mask model properties\n",
    "mask_det_model.output_top_k = 1 # report single result with top confidence\n",
    "mask_det_model.image_backend = 'opencv' \n",
    "mask_det_model.input_numpy_colorspace = 'BGR'\n",
    "mask_det_model._model_parameters.InputImgFmt = ['JPEG']\n",
    "\n",
    "# adjust face model properties\n",
    "face_det_model.overlay_show_probabilities = True\n",
    "face_det_model.output_confidence_threshold = 0.7\n",
    "face_det_model.image_backend = 'opencv'\n",
    "face_det_model._model_parameters.InputImgFmt = ['JPEG']"
   ]
  },
  {
   "cell_type": "code",
   "execution_count": null,
   "id": "b2fe931a-9a12-45b8-b953-45bab3b84af1",
   "metadata": {},
   "outputs": [],
   "source": [
    "# Define mask detection gizmo (in mystreams terminology)\n",
    "class MaskDetectionGizmo(AiGizmoBase):\n",
    "    \n",
    "    def __init__(self, *args, **kwargs):\n",
    "        super().__init__(*args, **kwargs)\n",
    "        self._cur_result = None\n",
    "        \n",
    "    def on_result(self, result):\n",
    "        \n",
    "        # here result.info contains StreamData object used for AI inference (because AiGizmoBase does it this way);\n",
    "        # and result.info.meta contains metainfo dictionary placed by AiObjectDetectionCroppingGizmo, \n",
    "        # because in our pipeline it is connected as a source of this gizmo\n",
    "        meta = result.info.meta\n",
    "        if \"original_result\" in meta: # new result\n",
    "            if self._cur_result is not None:\n",
    "                # send previous result\n",
    "                self.send_result(StreamData(self._cur_result.image, self._cur_result))                \n",
    "            self._cur_result = meta[\"original_result\"]\n",
    "        \n",
    "        if \"cropped_index\" in meta:\n",
    "            # apply mask presence/absence label\n",
    "            if len(result.results) > 0:\n",
    "                self._cur_result.results[meta[\"cropped_index\"]][\"label\"] = result.results[0][\"label\"]\n",
    "                self._cur_result.results[meta[\"cropped_index\"]][\"score\"] = result.results[0][\"score\"]"
   ]
  },
  {
   "cell_type": "code",
   "execution_count": null,
   "id": "7362c6dc-1cc5-4543-b42d-cf44a1280701",
   "metadata": {},
   "outputs": [],
   "source": [
    "# create composition object\n",
    "c = Composition();\n",
    "\n",
    "# create gizmos adding them to composition\n",
    "source = c.add(VideoSourceGizmo(camera_id)) # video source\n",
    "face_detection = c.add(AiObjectDetectionCroppingGizmo(face_det_model)) # face detection gizmo, which outputs cropped images for all detected faces\n",
    "mask_detection = c.add(MaskDetectionGizmo(mask_det_model)) # mask detection AI model\n",
    "face_display = c.add(VideoDisplayGizmo(\"Faces\", show_ai_overlay=True, show_fps=True)) # display\n",
    "\n",
    "# connect gizmos to create pipeline\n",
    "source >> face_detection >> mask_detection >> face_display\n",
    "\n",
    "# start execution of composition \n",
    "c.start()"
   ]
  },
  {
   "cell_type": "code",
   "execution_count": null,
   "id": "5a0cc9ea-19ee-40a6-b9ad-99c1983a421c",
   "metadata": {},
   "outputs": [],
   "source": []
  }
 ],
 "metadata": {
  "kernelspec": {
   "display_name": "Python 3 (ipykernel)",
   "language": "python",
   "name": "python3"
  },
  "language_info": {
   "codemirror_mode": {
    "name": "ipython",
    "version": 3
   },
   "file_extension": ".py",
   "mimetype": "text/x-python",
   "name": "python",
   "nbconvert_exporter": "python",
   "pygments_lexer": "ipython3",
   "version": "3.9.12"
  },
  "vscode": {
   "interpreter": {
    "hash": "f77ba0ef977241afac66801d7297b5fb2ffa6cc21668a24d017a9f23b5f689e7"
   }
  }
 },
 "nbformat": 4,
 "nbformat_minor": 5
}
