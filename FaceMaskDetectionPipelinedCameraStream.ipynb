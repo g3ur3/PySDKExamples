{
 "cells": [
  {
   "cell_type": "markdown",
   "id": "438aa03a",
   "metadata": {},
   "source": [
    "## This notebook is an example of how to pipeline two models. \n",
    "A video stream from a local camera is processed by the face detection model. The face detection results are then processed by the mask detection model, one face bounding box at a time. Combined result is then displayed.\n",
    "\n",
    "This example uses `mystreams` streaming toolkit.\n",
    "\n",
    "This script works with the following inference options:\n",
    "\n",
    "1. Run inference on DeGirum Cloud Platform;\n",
    "2. Run inference on DeGirum AI Server deployed on a localhost or on some computer in your LAN or VPN;\n",
    "3. Run inference on DeGirum ORCA accelerator directly installed on your computer.\n",
    "\n",
    "To try different options, you just need to uncomment **one** of the lines in the code below.\n",
    "\n",
    "You also need to specify your cloud API access token, cloud zoo URLs, and AI server hostname in [env.ini](env.ini) file, located in the same directory as this notebook.\n",
    "\n",
    "**Access to camera is required to run this sample.**\n",
    "\n",
    "The script needs either a web camera or local camera connected to the machine running this code. The camera index or URL needs to be specified either in the code below by assigning `camera_id` or in [env.ini](env.ini) file by defining `CAMERA_ID` variable and assigning `camera_id = None`."
   ]
  },
  {
   "cell_type": "markdown",
   "id": "39d0f95d-7fd0-43b1-b94a-4835357d10a5",
   "metadata": {},
   "source": [
    "#### Specify camera index "
   ]
  },
  {
   "cell_type": "code",
   "execution_count": null,
   "id": "6b37dddf-3f5f-40b0-8bd9-409ae37bc7d8",
   "metadata": {
    "tags": []
   },
   "outputs": [],
   "source": [
    "camera_id = None         # camera index or URL; 0 to use default local camera, None to take from env.ini file"
   ]
  },
  {
   "cell_type": "markdown",
   "id": "8362097f-2099-4785-a3fc-3ed5d8f9e596",
   "metadata": {},
   "source": [
    "#### Specify where do you want to run your inferences"
   ]
  },
  {
   "cell_type": "code",
   "execution_count": null,
   "id": "65d4cd90",
   "metadata": {
    "tags": []
   },
   "outputs": [],
   "source": [
    "import degirum as dg, mytools\n",
    "\n",
    "cloud_token = mytools.get_token() # get cloud API access token from env.ini file\n",
    "cloud_zoo_url = mytools.get_cloud_zoo_url() # get cloud zoo URL from env.ini file\n",
    "\n",
    "#\n",
    "# Please UNCOMMENT only ONE of the following lines to specify where to run AI inference\n",
    "#\n",
    "\n",
    "# 1. Inference on the DeGirum Cloud Platform\n",
    "zoo = dg.connect_model_zoo(\"dgcps://cs.degirum.com\" + cloud_zoo_url, cloud_token)\n",
    "\n",
    "# 2. Inference on DeGirum AI Server deployed on a localhost or on some computer in your LAN or VPN\n",
    "# zoo = dg.connect_model_zoo((mytools.get_ai_server_hostname(), \"https://cs.degirum.com\" + cloud_zoo_url), cloud_token)\n",
    "\n",
    "# 3. Inference on DeGirum ORCA accelerator installed on your computer\n",
    "# zoo = dg.connect_model_zoo(\"https://cs.degirum.com\" + cloud_zoo_url, cloud_token)\n"
   ]
  },
  {
   "cell_type": "markdown",
   "id": "efcc5064-809b-4048-87d5-691b613209e8",
   "metadata": {
    "tags": []
   },
   "source": [
    "#### The rest of the cells below should run without any modifications"
   ]
  },
  {
   "cell_type": "code",
   "execution_count": null,
   "id": "33012fe3",
   "metadata": {
    "tags": []
   },
   "outputs": [],
   "source": [
    "# load models for DeGirum Orca AI accelerator\n",
    "# (change model name to \"...n2x_cpu_1\" to run it on CPU)\n",
    "face_det_model = zoo.load_model(\"yolo_v5s_face_det--512x512_quant_n2x_orca_1\")\n",
    "mask_det_model = zoo.load_model(\"mobilenet_v2_mask_yn_cls--224x224_float_n2x_orca_1\")\n",
    "\n",
    "# adjust mask model properties\n",
    "mask_det_model.output_top_k = 1 # report single result with top confidence\n",
    "\n",
    "# adjust face model properties\n",
    "face_det_model.overlay_show_probabilities = True\n",
    "face_det_model.output_confidence_threshold = 0.7"
   ]
  },
  {
   "cell_type": "code",
   "execution_count": null,
   "id": "b2fe931a-9a12-45b8-b953-45bab3b84af1",
   "metadata": {
    "tags": []
   },
   "outputs": [],
   "source": [
    "from mystreams import *\n",
    "\n",
    "# Define mask detection gizmo (in mystreams terminology)\n",
    "class MaskDetectionGizmo(AiGizmoBase):\n",
    "    \n",
    "    def __init__(self, *args, **kwargs):\n",
    "        super().__init__(*args, **kwargs)\n",
    "        self._cur_result = None\n",
    "        \n",
    "    def on_result(self, result):\n",
    "        \n",
    "        # here result.info contains StreamData object used for AI inference (because AiGizmoBase does it this way);\n",
    "        # and result.info.meta contains metainfo dictionary placed by AiObjectDetectionCroppingGizmo, \n",
    "        # because in our pipeline it is connected as a source of this gizmo\n",
    "        meta = result.info.meta\n",
    "        if \"original_result\" in meta: # new frame comes\n",
    "            self._cur_result = meta[\"original_result\"]\n",
    "        \n",
    "        if \"cropped_index\" in meta:\n",
    "            # apply mask presence/absence label\n",
    "            if len(result.results) > 0:\n",
    "                self._cur_result.results[meta[\"cropped_index\"]][\"label\"] = result.results[0][\"label\"]\n",
    "                self._cur_result.results[meta[\"cropped_index\"]][\"score\"] = result.results[0][\"score\"]\n",
    "\n",
    "        if \"flush\" in meta:\n",
    "            self.send_result(StreamData(self._cur_result.image, self._cur_result))                \n",
    "            self._cur_result = None"
   ]
  },
  {
   "cell_type": "code",
   "execution_count": null,
   "id": "7362c6dc-1cc5-4543-b42d-cf44a1280701",
   "metadata": {
    "tags": []
   },
   "outputs": [],
   "source": [
    "# create composition object\n",
    "c = Composition()\n",
    "\n",
    "# create gizmos adding them to composition\n",
    "source = c.add(VideoSourceGizmo(camera_id)) # video source\n",
    "face_detection = c.add(AiObjectDetectionCroppingGizmo([\"face\"], face_det_model)) # face detection gizmo, which outputs cropped image for each detected face\n",
    "mask_detection = c.add(MaskDetectionGizmo(mask_det_model)) # mask detection gizmo\n",
    "face_display = c.add(VideoDisplayGizmo(\"Faces\", show_ai_overlay=True, show_fps=True)) # display\n",
    "\n",
    "# connect gizmos to create pipeline\n",
    "source >> face_detection >> mask_detection >> face_display\n",
    "\n",
    "# start execution of composition \n",
    "c.start()\n"
   ]
  },
  {
   "cell_type": "code",
   "execution_count": null,
   "id": "30141e29-60f7-422d-ac48-74331d7af74b",
   "metadata": {},
   "outputs": [],
   "source": []
  }
 ],
 "metadata": {
  "kernelspec": {
   "display_name": "py39_tests",
   "language": "python",
   "name": "python3"
  },
  "language_info": {
   "codemirror_mode": {
    "name": "ipython",
    "version": 3
   },
   "file_extension": ".py",
   "mimetype": "text/x-python",
   "name": "python",
   "nbconvert_exporter": "python",
   "pygments_lexer": "ipython3",
   "version": "3.9.16"
  },
  "vscode": {
   "interpreter": {
    "hash": "9ecb4806ce01c16f7273aa67826524f8880d9fc434c49c35172b7bcd4b045cdc"
   }
  }
 },
 "nbformat": 4,
 "nbformat_minor": 5
}
