{
 "cells": [
  {
   "cell_type": "markdown",
   "id": "5c15cb24",
   "metadata": {},
   "source": [
    "## AI Inference on a local camera\n",
    "This notebook is a simple example how to use DeGirum PySDK to do AI inference of a video stream from local camera.\n",
    "OpenCV is required to run this sample.\n",
    "\n",
    "This script works with\n",
    "\n",
    "0. DeGirum Cloud Server,\n",
    "1. AI server equipped with DeGirum ORCA accelerator shared via Peer-to-Peer VPN,\n",
    "2. AI server equipped with DeGirum ORCA accelerator running in local network and\n",
    "3. AI server equipped with DeGirum ORCA accelerator running on the same machine as this code.\n",
    "\n",
    "To try different options, you just need to change the __model_zoo_option_index__ in the code below.\n",
    "\n",
    "The script needs a web camera connected to the machine running this code. The __camera_index__ also needs to be specified in the code below."
   ]
  },
  {
   "cell_type": "markdown",
   "id": "01549d7c-2445-4007-8a89-ac0f3a864530",
   "metadata": {
    "tags": []
   },
   "source": [
    "### Specify your model zoo option and camera index here"
   ]
  },
  {
   "cell_type": "code",
   "execution_count": null,
   "id": "da34df11-cbc7-4b00-8994-794a4a6548b4",
   "metadata": {
    "tags": []
   },
   "outputs": [],
   "source": [
    "model_zoo_option_list = ['DEGIRUM_CLOUD_SERVER', 'P2P_VPN_SERVER', 'LOCAL_NETWORK_SERVER', 'LOCALHOST']\n",
    "model_zoo_option_index=1\n",
    "camera_index=1"
   ]
  },
  {
   "cell_type": "markdown",
   "id": "a4549b06-567f-4cdb-8b82-bb4ef5858f2f",
   "metadata": {},
   "source": [
    "### The rest of the cells below should run without any modifications"
   ]
  },
  {
   "cell_type": "code",
   "execution_count": null,
   "id": "e512335c",
   "metadata": {},
   "outputs": [],
   "source": [
    "import degirum as dg # import DeGirum PySDK\n",
    "import cv2 # OpenCV\n",
    "import os\n",
    "from dotenv import load_dotenv\n",
    "\n",
    "envs_loaded=load_dotenv()\n",
    "model_zoo_option_list = ['DEGIRUM_CLOUD_SERVER', 'P2P_VPN_SERVER', 'LOCAL_NETWORK_SERVER', 'LOCALHOST']"
   ]
  },
  {
   "cell_type": "code",
   "execution_count": null,
   "id": "08242857-3792-4db9-a8fd-8c70e9ead7d0",
   "metadata": {},
   "outputs": [],
   "source": [
    "# Some helper functions\n",
    "\n",
    "def show(img, capt = \"<image>\"):\n",
    "    # show opencv image\n",
    "    cv2.imshow(capt, img)\n",
    "    key = cv2.waitKey(1) & 0xFF\n",
    "    if key == ord('x') or key == ord('q'):\n",
    "        raise KeyboardInterrupt"
   ]
  },
  {
   "cell_type": "code",
   "execution_count": null,
   "id": "47adb236-5c75-493a-acb9-7c50f3618f05",
   "metadata": {},
   "outputs": [],
   "source": [
    "model_zoo_option=model_zoo_option_list[model_zoo_option_index]\n",
    "if model_zoo_option=='DEGIRUM_CLOUD_SERVER':\n",
    "    zoo = dg.connect_model_zoo(os.getenv('DEGIRUM_CLOUD_SERVER_ADDRESS'), token=os.getenv('DEGIRUM_CLOUD_TOKEN'))\n",
    "elif model_zoo_option=='P2P_VPN_SERVER':\n",
    "    zoo=dg.connect_model_zoo(os.getenv('P2P_VPN_SERVER_ADDRESS'))\n",
    "elif model_zoo_option=='LOCAL_NETWORK_SERVER':\n",
    "    zoo=dg.connect_model_zoo(os.getenv('LOCAL_NETWORK_SERVER_ADDRESS'))\n",
    "elif model_zoo_option=='LOCALHOST':\n",
    "    zoo=dg.connect_model_zoo(os.getenv('LOCAL_HOST_ADDRESS'))\n",
    "else:\n",
    "    print('Model zoo option not supported \\n')               "
   ]
  },
  {
   "cell_type": "code",
   "execution_count": null,
   "id": "e95f3bc8",
   "metadata": {},
   "outputs": [],
   "source": [
    "# load AI model 'ssd_mobilenet_v2' for DeGirum Orca AI accelerator\n",
    "# (change model name to \"...n2x_cpu_1\" to run it on CPU)\n",
    "model = zoo.load_model(\"mobilenet_v2_ssd_coco--300x300_quant_n2x_orca_1\")\n",
    "\n",
    "# set model parameters\n",
    "model.image_backend = 'opencv' # select OpenCV backend: needed to have overlay image in OpenCV format\n",
    "model.input_numpy_colorspace='BGR'\n",
    "model.overlay_show_probabilities = True # show probabilities on overlay image\n",
    "model._model_parameters.InputImgFmt=['JPEG']"
   ]
  },
  {
   "cell_type": "code",
   "execution_count": null,
   "id": "7d4d72d2",
   "metadata": {},
   "outputs": [],
   "source": [
    "# open video stream from local camera \n",
    "stream = cv2.VideoCapture(camera_index)\n",
    "if (stream.isOpened()== False):\n",
    "    print(\"Error opening video stream\")\n",
    "else:\n",
    "    print(\"Succesful in opening video stream\")"
   ]
  },
  {
   "cell_type": "code",
   "execution_count": null,
   "id": "8cdc67ee-eca4-45a7-9c5c-a8f581c548c1",
   "metadata": {},
   "outputs": [],
   "source": [
    "# define iterator function, which returns frames from camera \n",
    "def source():\n",
    "    while True:\n",
    "        ret, frame = stream.read()\n",
    "        yield frame"
   ]
  },
  {
   "cell_type": "code",
   "execution_count": null,
   "id": "e8906309-0ea3-458f-a1c4-282b2de56a93",
   "metadata": {},
   "outputs": [],
   "source": [
    "# AI prediction loop\n",
    "# Press 'x' or 'q' to stop\n",
    "try:\n",
    "    for res in model.predict_batch(source()):\n",
    "        show(res.image_overlay,\"AI Camera\")    \n",
    "except KeyboardInterrupt:\n",
    "    pass # ignore KeyboardInterrupt errors\n",
    "finally:\n",
    "    cv2.destroyAllWindows() # close OpenCV windows\n",
    "\n",
    "stream.release() # release camera stream"
   ]
  }
 ],
 "metadata": {
  "kernelspec": {
   "display_name": "Python (dg_pysdk)",
   "language": "python",
   "name": "dg_pysdk"
  },
  "language_info": {
   "codemirror_mode": {
    "name": "ipython",
    "version": 3
   },
   "file_extension": ".py",
   "mimetype": "text/x-python",
   "name": "python",
   "nbconvert_exporter": "python",
   "pygments_lexer": "ipython3",
   "version": "3.8.12"
  }
 },
 "nbformat": 4,
 "nbformat_minor": 5
}
