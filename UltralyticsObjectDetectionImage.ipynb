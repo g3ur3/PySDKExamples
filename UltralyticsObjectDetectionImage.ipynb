{
  "cells": [
    {
      "cell_type": "markdown",
      "metadata": {},
      "source": [
        "# Example script illustrating Ultralytics YOLOv5n RELU6 object detection models on different runtimes\n",
        "\n",
        "This script works with the following inference options:\n",
        "\n",
        "1. Run inference on the DeGirum Cloud Platform;\n",
        "2. Run inference on a DeGirum AI Server deployed on the local host or on some computer in your LAN or VPN;\n",
        "3. Run inference on a DeGirum ORCA accelerator directly installed on your computer.\n",
        "\n",
        "To try different options, you just need to uncomment **one** of the lines in the code below.\n",
        "\n",
        "You also need to specify your cloud API access token, cloud zoo URLs, and AI server hostname in [env.ini](env.ini) file, located in the same directory as this notebook."
      ]
    },
    {
      "cell_type": "markdown",
      "metadata": {},
      "source": [
        "#### Specify where do you want to run your inferences"
      ]
    },
    {
      "cell_type": "code",
      "execution_count": null,
      "metadata": {},
      "outputs": [],
      "source": [
        "import degirum as dg, dgtools\n",
        "\n",
        "#\n",
        "# Please UNCOMMENT only ONE of the following lines to specify where to run AI inference\n",
        "#\n",
        "\n",
        "target = dg.CLOUD # <-- on the Cloud Platform\n",
        "# target = dgtools.get_ai_server_hostname() # <-- on AI Server deployed in your LAN\n",
        "# target = dg.LOCAL # <-- on ORCA accelerator installed on this computer\n",
        "\n",
        "# connect to AI inference engine getting zoo URL and token from env.ini file\n",
        "zoo = dg.connect(target, \"https://cs.degirum.com/degirum/ultralytics_v3\", dgtools.get_token())"
      ]
    },
    {
      "cell_type": "markdown",
      "metadata": {},
      "source": [
        "#### The rest of the cells below should run without any modifications"
      ]
    },
    {
      "cell_type": "code",
      "execution_count": null,
      "metadata": {
        "colab": {
          "base_uri": "https://localhost:8080/",
          "height": 443
        },
        "id": "tp6UgT9OnjFz",
        "outputId": "599a40e3-8066-43a3-a986-17d3c8cbcb3a"
      },
      "outputs": [],
      "source": [
        "from google.colab.patches import cv2_imshow"
      ]
    },
    {
      "cell_type": "code",
      "execution_count": null,
      "metadata": {},
      "outputs": [],
      "source": [
        "# ORCA1 COCO model on cat image\n",
        "model = zoo.load_model(\"yolov5nu_relu6_coco--576x576_quant_n2x_orca1_1\")\n",
        "res = model(\"https://raw.githubusercontent.com/DeGirum/PySDKExamples/main/images/Cat.jpg\")\n",
        "cv2_imshow(res.image_overlay)"
      ]
    },
    {
      "cell_type": "code",
      "execution_count": null,
      "metadata": {},
      "outputs": [],
      "source": [
        "# EdgeTPU car detection model on car image\n",
        "model = zoo.load_model(\"yolov5nu_relu6_car--640x640_quant_tflite_edgetpu_1\")\n",
        "res = model(\"https://raw.githubusercontent.com/DeGirum/PySDKExamples/main/images/Car.jpg\")\n",
        "cv2_imshow(res.image_overlay)"
      ]
    },
    {
      "cell_type": "code",
      "execution_count": null,
      "metadata": {},
      "outputs": [],
      "source": [
        "# ORCA1 license plate detection model on car image\n",
        "model = zoo.load_model(\"yolov5nu_relu6_lp--640x640_quant_n2x_orca1_1\")\n",
        "res = model(\"https://raw.githubusercontent.com/DeGirum/PySDKExamples/main/images/Car.jpg\")\n",
        "cv2_imshow(res.image_overlay)"
      ]
    },
    {
      "cell_type": "code",
      "execution_count": null,
      "metadata": {},
      "outputs": [],
      "source": [
        "# OpenVINO face detection model on people image\n",
        "model = zoo.load_model(\"yolov8n_relu6_face--640x640_float_openvino_cpu_1\")\n",
        "res = model(\"https://raw.githubusercontent.com/DeGirum/PySDKExamples/main/images/ThreePersons.jpg\")\n",
        "cv2_imshow(res.image_overlay)"
      ]
    },
    {
      "cell_type": "code",
      "execution_count": null,
      "metadata": {},
      "outputs": [],
      "source": [
        "# OpenVINO hand detection model on people image\n",
        "model = zoo.load_model(\"yolov8n_relu6_hand--640x640_float_openvino_cpu_1\")\n",
        "res = model(\"https://raw.githubusercontent.com/DeGirum/PySDKExamples/main/images/ThreePersons.jpg\")\n",
        "cv2_imshow(res.image_overlay)"
      ]
    }
  ],
  "metadata": {
    "colab": {
      "provenance": []
    },
    "kernelspec": {
      "display_name": "devtools-venv",
      "language": "python",
      "name": "python3"
    },
    "language_info": {
      "codemirror_mode": {
        "name": "ipython",
        "version": 3
      },
      "file_extension": ".py",
      "mimetype": "text/x-python",
      "name": "python",
      "nbconvert_exporter": "python",
      "pygments_lexer": "ipython3",
      "version": "3.9.16"
    },
    "orig_nbformat": 4
  },
  "nbformat": 4,
  "nbformat_minor": 0
}
