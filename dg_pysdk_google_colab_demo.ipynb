{
 "cells": [
  {
   "cell_type": "code",
   "execution_count": null,
   "metadata": {
    "id": "DiwV0wCyxMOw"
   },
   "outputs": [],
   "source": [
    "!python3 -m pip install --quiet degirum\n",
    "from google.colab.patches import cv2_imshow\n",
    "import numpy as np"
   ]
  },
  {
   "cell_type": "code",
   "execution_count": null,
   "metadata": {
    "id": "C9dqb-9Qxunl"
   },
   "outputs": [],
   "source": [
    "import degirum as dg\n",
    "\n",
    "zoo = dg.connect(dg.CLOUD, 'https://cs.degirum.com/degirum/public', '<your token>')\n",
    "model = zoo.load_model('yolo_v5s_coco--512x512_quant_n2x_orca_1')\n",
    "model.image_backend='opencv'\n",
    "res = model('https://raw.githubusercontent.com/DeGirum/PySDKExamples/main/images/ThreePersons.jpg')\n",
    "cv2_imshow(res.image_overlay)"
   ]
  },
  {
   "cell_type": "code",
   "execution_count": null,
   "metadata": {
    "id": "xWEIZPYc8vYK"
   },
   "outputs": [],
   "source": [
    "# list all AI models available for inference\n",
    "zoo.list_models()"
   ]
  },
  {
   "cell_type": "markdown",
   "metadata": {
    "id": "ylQNVwvrW8lC"
   },
   "source": [
    "# Example of how to pipeline two models\n",
    "**Face Mask Detection Pipelined**\n",
    "\n",
    "\n",
    "---"
   ]
  },
  {
   "cell_type": "code",
   "execution_count": null,
   "metadata": {
    "id": "5GXwl04qBkxJ"
   },
   "outputs": [],
   "source": [
    "# load models for DeGirum Orca AI accelerator\n",
    "# (change model name to \"...n2x_cpu_1\" to run it on CPU)\n",
    "face_det_model = zoo.load_model(\"yolo_v5s_face_det--512x512_quant_n2x_orca_1\")\n",
    "mask_det_model = zoo.load_model(\"mobilenet_v2_mask_yn_cls--224x224_float_n2x_orca_1\")\n",
    "\n",
    "# adjust some model properties\n",
    "face_det_model.output_confidence_threshold = 0.7\n",
    "face_det_model.overlay_font_scale = 1.5\n",
    "face_det_model.overlay_alpha = 1\n",
    "face_det_model.image_backend = 'opencv'\n",
    "mask_det_model.overlay_show_labels = True\n",
    "mask_det_model.overlay_font_scale = 1.5\n",
    "mask_det_model.overlay_alpha = 1\n",
    "mask_det_model.output_top_k = 1\n",
    "mask_det_model.image_backend = 'opencv'"
   ]
  },
  {
   "cell_type": "code",
   "execution_count": null,
   "metadata": {
    "id": "p5HbFZK7V0-x"
   },
   "outputs": [],
   "source": [
    "# detect faces\n",
    "faces = face_det_model('https://raw.githubusercontent.com/DeGirum/PySDKExamples/main/images/Mask1.jpg')\n",
    "\n",
    "# for each detected face detect mask\n",
    "with mask_det_model: # performance optimization to keep connection to mask_det_model open\n",
    "    for face in faces.results:\n",
    "        face_coords=np.array([int(face['bbox'][i]) for i in range(4)])\n",
    "        face_box = faces.image[face_coords[1]:face_coords[3],face_coords[0]:face_coords[2]]\n",
    "        mask = mask_det_model(face_box)\n",
    "        face[\"label\"] = mask.results[0][\"label\"]\n",
    "        cv2_imshow(mask.image_overlay)\n",
    "\n",
    "# display combined results\n",
    "cv2_imshow(faces.image_overlay)"
   ]
  },
  {
   "cell_type": "markdown",
   "metadata": {
    "id": "NIY5DvnwXe9J"
   },
   "source": [
    "**License Plate Detection & Recognition Pipelined**\n",
    "\n",
    "\n",
    "---\n",
    "\n",
    "\n"
   ]
  },
  {
   "cell_type": "code",
   "execution_count": null,
   "metadata": {
    "id": "9p6g3ECAXfET"
   },
   "outputs": [],
   "source": [
    "# load models for DeGirum Orca AI accelerator\n",
    "# (change model name to \"...n2x_cpu_1\" to run it on CPU)\n",
    "lp_det_model = zoo.load_model(\"yolo_v5s_lp_det--512x512_quant_n2x_orca_1\")\n",
    "lp_ocr_model = zoo.load_model(\"yolo_v5s_lp_ocr--256x256_quant_n2x_orca_1\")\n",
    "\n",
    "# adjust some model properties\n",
    "lp_det_model.output_confidence_threshold = 0.7\n",
    "lp_det_model.overlay_font_scale = 1.5\n",
    "lp_det_model.overlay_alpha = 1\n",
    "lp_det_model.image_backend = 'opencv'\n",
    "lp_ocr_model.overlay_show_labels = True\n",
    "lp_ocr_model.overlay_font_scale = 1.5\n",
    "lp_ocr_model.overlay_alpha = 1\n",
    "lp_ocr_model.output_top_k = 1\n",
    "lp_ocr_model.image_backend = 'opencv'"
   ]
  },
  {
   "cell_type": "code",
   "execution_count": null,
   "metadata": {
    "id": "UR2jrxHDXgPC"
   },
   "outputs": [],
   "source": [
    "# detect license plates\n",
    "license_plates = lp_det_model('https://raw.githubusercontent.com/DeGirum/PySDKExamples/main/images/Car.bmp')\n",
    "\n",
    "# for each detected license place detect  characters\n",
    "with lp_det_model: # performance optimization to keep connection to lp_det_model open\n",
    "    for plate in license_plates.results:\n",
    "        lp_coords=np.array([int(plate['bbox'][i]) for i in range(4)])\n",
    "        lp_box = license_plates.image[lp_coords[1]:lp_coords[3],lp_coords[0]:lp_coords[2]]\n",
    "        ocr_plates = lp_ocr_model(lp_box)\n",
    "        plate[\"label\"] = ocr_plates.results[0][\"label\"]\n",
    "        cv2_imshow(ocr_plates.image_overlay)\n",
    "\n",
    "# display combined results\n",
    "cv2_imshow(license_plates.image_overlay)"
   ]
  }
 ],
 "metadata": {
  "colab": {
   "provenance": []
  },
   "language_info": {
   "codemirror_mode": {
    "name": "ipython",
    "version": 3
   },
   "file_extension": ".py",
   "mimetype": "text/x-python",
   "name": "python",
   "nbconvert_exporter": "python",
   "pygments_lexer": "ipython3",
   "version": "3.9.17"
  }
 },
 "nbformat": 4,
 "nbformat_minor": 1
}
