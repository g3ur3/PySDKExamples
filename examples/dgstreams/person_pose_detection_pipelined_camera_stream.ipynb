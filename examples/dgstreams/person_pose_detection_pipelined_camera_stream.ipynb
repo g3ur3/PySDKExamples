{
 "cells": [
  {
   "cell_type": "markdown",
   "id": "438aa03a",
   "metadata": {},
   "source": [
    "## This notebook is an example of how to pipeline two models. \n",
    "A video stream from a local camera is processed by the person detection model. The person detection results are then processed by the pose detection model, one person bounding box at a time. Combined result is then displayed.\n",
    "\n",
    "This example uses `degirum_tools.streams` streaming toolkit.\n",
    "\n",
    "This script works with the following inference options:\n",
    "\n",
    "1. Run inference on DeGirum Cloud Platform;\n",
    "2. Run inference on DeGirum AI Server deployed on a localhost or on some computer in your LAN or VPN;\n",
    "3. Run inference on DeGirum ORCA accelerator directly installed on your computer.\n",
    "\n",
    "To try different options, you just need to uncomment **one** of the lines in the code below.\n",
    "\n",
    "You also need to specify your cloud API access token, cloud zoo URLs, and AI server hostname in [env.ini](../../env.ini) file, located in the same directory as this notebook.\n",
    "\n",
    "**Access to camera is required to run this sample.**\n",
    "\n",
    "The script needs either a web camera or local camera connected to the machine running this code. The camera index or URL needs to be specified either in the code below by assigning `camera_id` or in [env.ini](../../env.ini) file by defining `CAMERA_ID` variable and assigning `camera_id = None`."
   ]
  },
  {
   "cell_type": "code",
   "execution_count": null,
   "metadata": {},
   "outputs": [],
   "source": [
    "# make sure degirum-tools package is installed\n",
    "!pip show degirum-tools || pip install degirum-tools"
   ]
  },
  {
   "cell_type": "markdown",
   "id": "39d0f95d-7fd0-43b1-b94a-4835357d10a5",
   "metadata": {},
   "source": [
    "#### Specify camera index here"
   ]
  },
  {
   "cell_type": "code",
   "execution_count": null,
   "id": "6b37dddf-3f5f-40b0-8bd9-409ae37bc7d8",
   "metadata": {
    "tags": []
   },
   "outputs": [],
   "source": [
    "camera_id = None         # camera index or URL; 0 to use default local camera, None to take from env.ini file"
   ]
  },
  {
   "cell_type": "markdown",
   "id": "3ac1ad6f-2290-44fe-bcfd-4715f594ce57",
   "metadata": {
    "tags": []
   },
   "source": [
    "#### Specify where do you want to run your inferences"
   ]
  },
  {
   "cell_type": "code",
   "execution_count": null,
   "id": "6d33374c-e516-4b5f-b306-d18bf6392c52",
   "metadata": {
    "tags": []
   },
   "outputs": [],
   "source": [
    "import degirum as dg, degirum_tools\n",
    "\n",
    "degirum_tools.configure_colab() # configure for Google Colab\n",
    "\n",
    "#\n",
    "# Please UNCOMMENT only ONE of the following lines to specify where to run AI inference\n",
    "#\n",
    "\n",
    "target = dg.CLOUD # <-- on the Cloud Platform\n",
    "# target = degirum_tools.get_ai_server_hostname() # <-- on AI Server deployed in your LAN\n",
    "# target = dg.LOCAL # <-- on ORCA accelerator installed on this computer\n",
    "\n",
    "# connect to AI inference engine getting zoo URL and token from env.ini file\n",
    "zoo = dg.connect(target, degirum_tools.get_cloud_zoo_url(), degirum_tools.get_token())"
   ]
  },
  {
   "cell_type": "markdown",
   "id": "e036ab35-cc8f-4e67-bf5b-f01c470db2a4",
   "metadata": {
    "tags": []
   },
   "source": [
    "#### The rest of the cells below should run without any modifications"
   ]
  },
  {
   "cell_type": "code",
   "execution_count": null,
   "id": "65d4cd90",
   "metadata": {
    "tags": []
   },
   "outputs": [],
   "source": [
    "import cv2\n",
    "from degirum_tools import streams as dgstreams"
   ]
  },
  {
   "cell_type": "code",
   "execution_count": null,
   "id": "33012fe3",
   "metadata": {
    "tags": []
   },
   "outputs": [],
   "source": [
    "# load models for DeGirum Orca AI accelerator\n",
    "# (change model name to \"...n2x_cpu_1\" to run it on CPU)\n",
    "people_det_model = zoo.load_model(\"yolo_v5s_person_det--512x512_quant_n2x_orca1_1\")\n",
    "pose_model = zoo.load_model(\"mobilenet_v1_posenet_coco_keypoints--353x481_quant_n2x_orca1_1\")\n",
    "\n",
    "# adjust pose model properties\n",
    "pose_model.output_pose_threshold = 0.2 # lower threshold\n",
    "pose_model.overlay_line_width = 1\n",
    "pose_model.overlay_alpha = 1\n",
    "pose_model.overlay_show_labels = False\n",
    "pose_model.overlay_color = (255, 0, 0)\n",
    "\n",
    "# adjust people model properties\n",
    "people_det_model.overlay_show_probabilities = True"
   ]
  },
  {
   "cell_type": "code",
   "execution_count": null,
   "id": "edac9c92-0100-4c13-aafd-d81f65176958",
   "metadata": {
    "tags": []
   },
   "outputs": [],
   "source": [
    "# Define pose detection gizmo (in degirum_tools.streams terminology)\n",
    "class PoseDetectionGizmo(dgstreams.AiGizmoBase):\n",
    "    \n",
    "    def __init__(self, *args, **kwargs):\n",
    "        super().__init__(*args, **kwargs)\n",
    "        self._cur_result = None\n",
    "        \n",
    "    def on_result(self, result):\n",
    "        \n",
    "        # here result.info contains StreamData object used for AI inference (because AiGizmoBase does it this way);\n",
    "        # and result.info.meta contains metainfo dictionary placed by AiObjectDetectionCroppingGizmo, \n",
    "        # because in our pipeline it is connected as a source of this gizmo\n",
    "        meta = result.info\n",
    "        if \"original_result\" in meta: # new frame comes\n",
    "            if self._cur_result is not None:\n",
    "                # send previous frame\n",
    "                self.send_result(dgstreams.StreamData(self._cur_result.image, self._cur_result))                \n",
    "            \n",
    "            # save first pose result object at the beginning of new frame in order to accumulate all poses into it\n",
    "            self._cur_result = result\n",
    "            # replace original image with full annotated image which came from person detector to show person boxes as well as poses\n",
    "            self._cur_result._input_image = meta[\"original_result\"].image_overlay            \n",
    "        \n",
    "        if \"cropped_index\" in meta and \"cropped_result\" in meta:            \n",
    "            # convert pose coordinates to back to original image\n",
    "            box = meta[\"cropped_result\"][\"bbox\"]\n",
    "            for r in result.results:\n",
    "                if 'landmarks' in r:\n",
    "                    for p in r['landmarks']:\n",
    "                        p['landmark'][0] += box[0]\n",
    "                        p['landmark'][1] += box[1]\n",
    "                        \n",
    "            if self._cur_result != result:\n",
    "                # accumulate all other detected poses into current result object\n",
    "                self._cur_result._inference_results += result.results"
   ]
  },
  {
   "cell_type": "code",
   "execution_count": null,
   "id": "bf099d64-6388-4aa7-aee5-767615d8996a",
   "metadata": {
    "tags": []
   },
   "outputs": [],
   "source": [
    "# create composition object\n",
    "c = dgstreams.Composition()\n",
    "\n",
    "# create gizmos adding them to composition\n",
    "source = c.add(dgstreams.VideoSourceGizmo(camera_id))  # video source\n",
    "people_detection = c.add(dgstreams.AiSimpleGizmo(people_det_model))  # people detection gizmo\n",
    "person_crop = c.add(\n",
    "    dgstreams.AiObjectDetectionCroppingGizmo([\"person\"])\n",
    ")  # cropping gizmo, which outputs cropped image for each detected person\n",
    "pose_detection = c.add(PoseDetectionGizmo(pose_model))  # pose detection gizmo\n",
    "display = c.add(\n",
    "    dgstreams.VideoDisplayGizmo(\"Person Poses\", show_ai_overlay=True, show_fps=True)\n",
    ")  # display\n",
    "\n",
    "# connect gizmos to create pipeline\n",
    "source >> people_detection\n",
    "person_crop.connect_to(source, 0)\n",
    "person_crop.connect_to(people_detection, 1)\n",
    "person_crop >> pose_detection >> display\n",
    "\n",
    "# start execution of composition\n",
    "c.start()\n"
   ]
  },
  {
   "cell_type": "code",
   "execution_count": null,
   "id": "d67233a8-2ccc-46fe-90b6-5babe3dc415f",
   "metadata": {},
   "outputs": [],
   "source": []
  }
 ],
 "metadata": {
  "kernelspec": {
   "display_name": "Python 3 (ipykernel)",
   "language": "python",
   "name": "python3"
  },
  "language_info": {
   "codemirror_mode": {
    "name": "ipython",
    "version": 3
   },
   "file_extension": ".py",
   "mimetype": "text/x-python",
   "name": "python",
   "nbconvert_exporter": "python",
   "pygments_lexer": "ipython3",
   "version": "3.9.16"
  }
 },
 "nbformat": 4,
 "nbformat_minor": 5
}
