{
 "cells": [
  {
   "cell_type": "markdown",
   "id": "5c15cb24",
   "metadata": {},
   "source": [
    "## Object detection and object counting in polygon zone: video file annotation\n",
    "\n",
    "This notebook is an example how to use DeGirum PySDK to do object detection and object \n",
    "counting in polygon zone, annotating video file.\n",
    "\n",
    "This script works with the following inference options:\n",
    "\n",
    "1. Run inference on DeGirum Cloud Platform;\n",
    "2. Run inference on DeGirum AI Server deployed on a localhost or on some computer in your LAN or VPN;\n",
    "3. Run inference on DeGirum ORCA accelerator directly installed on your computer.\n",
    "\n",
    "To try different options, you just need to uncomment **one** of the lines in the code below.\n",
    "\n",
    "You also need to specify your cloud API access token, cloud zoo URLs, and AI server hostname in [env.ini](../../env.ini) file, located in the same directory as this notebook."
   ]
  },
  {
   "cell_type": "code",
   "execution_count": null,
   "metadata": {},
   "outputs": [],
   "source": [
    "# make sure degirum-tools package is installed\n",
    "!pip show degirum-tools || pip install degirum-tools"
   ]
  },
  {
   "cell_type": "markdown",
   "id": "01549d7c-2445-4007-8a89-ac0f3a864530",
   "metadata": {
    "tags": []
   },
   "source": [
    "#### Specify where you want run inference, video file name, model name, and other options here"
   ]
  },
  {
   "cell_type": "code",
   "execution_count": null,
   "id": "da34df11-cbc7-4b00-8994-794a4a6548b4",
   "metadata": {
    "tags": []
   },
   "outputs": [],
   "source": [
    "# hw_location: where you want to run inference\n",
    "#     @cloud to use DeGirum cloud\n",
    "#     @local to run on local machine\n",
    "#     IP address for AI server inference\n",
    "# model_zoo_url: url/path for model zoo\n",
    "#     cloud_zoo_url: valid for @cloud, @local, and ai server inference options\n",
    "#     '': ai server serving models from local folder\n",
    "#     path to json file: single model zoo in case of @local inference\n",
    "# model_name: name of the model for running AI inference\n",
    "# video_source: video source for inference\n",
    "#     camera index for local web camera\n",
    "#     URL of RTSP stream\n",
    "#     URL of YouTube Video\n",
    "#     path to video file (mp4 etc)\n",
    "# polygon_zones: zones in which objects need to be counted\n",
    "# class_list: list of classes to be counted\n",
    "# per_class_display: Boolean to specify if per class counts are to be displayed\n",
    "hw_location = \"@cloud\"\n",
    "model_zoo_url = \"https://cs.degirum.com/degirum/public\"\n",
    "model_name = \"yolo_v5s_coco--512x512_quant_n2x_orca1_1\"\n",
    "video_source = \"../../images/example_video.mp4\"\n",
    "polygon_zones = [\n",
    "    [[30, 600], [300, 480], [640, 480], [700, 600]],\n",
    "    [[880, 600], [750, 480], [1030, 480], [1280, 600]],\n",
    "]\n",
    "class_list = [\"car\", \"motorbike\", \"truck\"]\n",
    "per_class_display = True"
   ]
  },
  {
   "cell_type": "code",
   "execution_count": null,
   "id": "fea1e8c8",
   "metadata": {
    "tags": []
   },
   "outputs": [],
   "source": [
    "import degirum as dg, degirum_tools\n",
    "\n",
    "# configure for Google Colab\n",
    "\n",
    "degirum_tools.configure_colab()\n",
    "\n",
    "# connect to AI inference engine getting token from env.ini file\n",
    "\n",
    "zoo = dg.connect(hw_location, model_zoo_url, degirum_tools.get_token())"
   ]
  },
  {
   "cell_type": "markdown",
   "id": "ebd1b821-e18e-403b-8147-9f95fc6cfa34",
   "metadata": {
    "tags": []
   },
   "source": [
    "#### The rest of the cells below should run without any modifications"
   ]
  },
  {
   "cell_type": "code",
   "execution_count": null,
   "id": "e95f3bc8",
   "metadata": {
    "tags": []
   },
   "outputs": [],
   "source": [
    "import IPython\n",
    "from pathlib import Path\n",
    "\n",
    "orig_path = Path(video_source)\n",
    "ann_path = \"../../workarea/\" + orig_path.stem + \"_annotated\" + orig_path.suffix\n",
    "\n",
    "# load model\n",
    "model = zoo.load_model(model_name, overlay_line_width=1)\n",
    "# create zone counter\n",
    "zone_counter = degirum_tools.ZoneCounter(\n",
    "    polygon_zones,\n",
    "    class_list=class_list,\n",
    "    per_class_display=per_class_display,\n",
    "    triggering_position=degirum_tools.ZoneCounter.CENTER,\n",
    ")\n",
    "# annotate video\n",
    "degirum_tools.annotate_video(model, orig_path, ann_path, analyzers=zone_counter)"
   ]
  },
  {
   "cell_type": "code",
   "execution_count": null,
   "metadata": {},
   "outputs": [],
   "source": [
    "# display result\n",
    "IPython.display.Video(ann_path, embed=degirum_tools._in_colab())"
   ]
  }
 ],
 "metadata": {
  "kernelspec": {
   "display_name": "py39_tests",
   "language": "python",
   "name": "python3"
  },
  "language_info": {
   "codemirror_mode": {
    "name": "ipython",
    "version": 3
   },
   "file_extension": ".py",
   "mimetype": "text/x-python",
   "name": "python",
   "nbconvert_exporter": "python",
   "pygments_lexer": "ipython3",
   "version": "3.9.16"
  },
  "vscode": {
   "interpreter": {
    "hash": "9ecb4806ce01c16f7273aa67826524f8880d9fc434c49c35172b7bcd4b045cdc"
   }
  }
 },
 "nbformat": 4,
 "nbformat_minor": 5
}
