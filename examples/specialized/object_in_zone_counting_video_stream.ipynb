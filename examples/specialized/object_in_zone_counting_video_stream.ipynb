{
 "cells": [
  {
   "cell_type": "markdown",
   "id": "5c15cb24",
   "metadata": {},
   "source": [
    "## Object detection and object counting in polygon zone: streaming video processing\n",
    "\n",
    "This notebook is an example how to use DeGirum PySDK to do object detection and object \n",
    "counting in polygon zone while processing streaming video\n",
    "\n",
    "This script works with the following inference options:\n",
    "\n",
    "1. Run inference on DeGirum Cloud Platform;\n",
    "2. Run inference on DeGirum AI Server deployed on a localhost or on some computer in your LAN or VPN;\n",
    "3. Run inference on DeGirum ORCA accelerator directly installed on your computer.\n",
    "\n",
    "To try different options, you just need to uncomment **one** of the lines in the code below.\n",
    "\n",
    "You also need to specify your cloud API access token, cloud zoo URLs, and AI server hostname in [env.ini](../../env.ini) file, located in the same directory as this notebook."
   ]
  },
  {
   "cell_type": "code",
   "execution_count": null,
   "metadata": {},
   "outputs": [],
   "source": [
    "# make sure degirum-tools package is installed\n",
    "!pip show degirum-tools || pip install degirum-tools"
   ]
  },
  {
   "cell_type": "markdown",
   "id": "01549d7c-2445-4007-8a89-ac0f3a864530",
   "metadata": {
    "tags": []
   },
   "source": [
    "#### Specify video file name, model name, and other options here"
   ]
  },
  {
   "cell_type": "code",
   "execution_count": null,
   "id": "da34df11-cbc7-4b00-8994-794a4a6548b4",
   "metadata": {
    "tags": []
   },
   "outputs": [],
   "source": [
    "# hw_location: where you want to run inference\n",
    "#     \"@cloud\" to use DeGirum cloud\n",
    "#     \"@local\" to run on local machine\n",
    "#     IP address for AI server inference\n",
    "# model_zoo_url: url/path for model zoo\n",
    "#     cloud_zoo_url: valid for @cloud, @local, and ai server inference options\n",
    "#     '': ai server serving models from local folder\n",
    "#     path to json file: single model zoo in case of @local inference\n",
    "# model_name: name of the model for running AI inference\n",
    "# video_source: video source for inference\n",
    "#     camera index for local web camera\n",
    "#     URL of RTSP stream\n",
    "#     URL of YouTube Video\n",
    "#     path to video file (mp4 etc)\n",
    "# polygon_zones: zones in which objects need to be counted\n",
    "# class_list: list of classes to be counted\n",
    "# per_class_display: Boolean to specify if per class counts are to be displayed\n",
    "hw_location = \"@cloud\"\n",
    "model_zoo_url = \"https://cs.degirum.com/degirum/public\"\n",
    "model_name = \"yolo_v5s_coco--512x512_quant_n2x_orca1_1\"\n",
    "video_source = \"../../images/example_video.mp4\"\n",
    "polygon_zones = [\n",
    "    [[10, 30], [280, 30], [330, 300], [10, 270]],\n",
    "    [[300, 30], [900, 30], [900, 270], [350, 300]],\n",
    "]\n",
    "class_list = [\"car\", \"motorbike\", \"truck\"]\n",
    "per_class_display = True"
   ]
  },
  {
   "cell_type": "code",
   "execution_count": null,
   "id": "fea1e8c8",
   "metadata": {
    "tags": []
   },
   "outputs": [],
   "source": [
    "import degirum as dg, degirum_tools\n",
    "\n",
    "# configure for Google Colab\n",
    "degirum_tools.configure_colab()\n",
    "# connect to AI inference engine getting token from env.ini file\n",
    "zoo = dg.connect(hw_location, model_zoo_url, degirum_tools.get_token())"
   ]
  },
  {
   "cell_type": "markdown",
   "id": "ebd1b821-e18e-403b-8147-9f95fc6cfa34",
   "metadata": {
    "tags": []
   },
   "source": [
    "#### The rest of the cells below should run without any modifications"
   ]
  },
  {
   "cell_type": "code",
   "execution_count": null,
   "id": "e95f3bc8",
   "metadata": {
    "tags": []
   },
   "outputs": [],
   "source": [
    "# load model\n",
    "model = zoo.load_model(model_name, overlay_line_width=1)\n",
    "# AI prediction loop\n",
    "# Press 'x' or 'q' to stop\n",
    "# Drag zone by left mouse button to move zone\n",
    "# Drag zone corners by right mouse button to adjust zone shape\n",
    "with degirum_tools.Display(\"AI Camera\") as display:\n",
    "    # create zone counter\n",
    "    zone_counter = degirum_tools.ZoneCounter(\n",
    "        polygon_zones,\n",
    "        class_list=class_list,\n",
    "        per_class_display=per_class_display,\n",
    "        triggering_position=degirum_tools.AnchorPoint.CENTER,\n",
    "        window_name=display.window_name,  # attach display window for interactive zone adjustment\n",
    "    )\n",
    "    # do AI predictions on video stream\n",
    "    for inference_result in degirum_tools.predict_stream(\n",
    "        model, video_source, analyzers=zone_counter\n",
    "    ):\n",
    "        display.show(inference_result)"
   ]
  }
 ],
 "metadata": {
  "kernelspec": {
   "display_name": "Python (supervision)",
   "language": "python",
   "name": "supervision"
  },
  "language_info": {
   "codemirror_mode": {
    "name": "ipython",
    "version": 3
   },
   "file_extension": ".py",
   "mimetype": "text/x-python",
   "name": "python",
   "nbconvert_exporter": "python",
   "pygments_lexer": "ipython3",
   "version": "3.9.18"
  },
  "vscode": {
   "interpreter": {
    "hash": "9ecb4806ce01c16f7273aa67826524f8880d9fc434c49c35172b7bcd4b045cdc"
   }
  }
 },
 "nbformat": 4,
 "nbformat_minor": 5
}
