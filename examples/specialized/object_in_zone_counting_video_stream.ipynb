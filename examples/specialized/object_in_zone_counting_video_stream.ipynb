{
 "cells": [
  {
   "cell_type": "markdown",
   "id": "5c15cb24",
   "metadata": {},
   "source": [
    "## Object detection and object counting in polygon zone: streaming video processing\n",
    "\n",
    "This notebook is an example how to use DeGirum PySDK to do object detection and object \n",
    "counting in polygon zone while processing streaming video\n",
    "\n",
    "This script works with the following inference options:\n",
    "\n",
    "1. Run inference on DeGirum Cloud Platform;\n",
    "2. Run inference on DeGirum AI Server deployed on a localhost or on some computer in your LAN or VPN;\n",
    "3. Run inference on DeGirum ORCA accelerator directly installed on your computer.\n",
    "\n",
    "To try different options, you just need to uncomment **one** of the lines in the code below.\n",
    "\n",
    "You also need to specify your cloud API access token, cloud zoo URLs, and AI server hostname in [env.ini](../../env.ini) file, located in the same directory as this notebook."
   ]
  },
  {
   "cell_type": "code",
   "execution_count": null,
   "metadata": {},
   "outputs": [],
   "source": [
    "# make sure degirum-tools package is installed\n",
    "!pip show degirum-tools || pip install degirum-tools"
   ]
  },
  {
   "cell_type": "markdown",
   "id": "01549d7c-2445-4007-8a89-ac0f3a864530",
   "metadata": {
    "tags": []
   },
   "source": [
    "#### Specify video file name, model name, and other options here"
   ]
  },
  {
   "cell_type": "code",
   "execution_count": null,
   "id": "da34df11-cbc7-4b00-8994-794a4a6548b4",
   "metadata": {
    "tags": []
   },
   "outputs": [],
   "source": [
    "input_stream = \"../../images/Traffic.mp4\" # video stream to process\n",
    "model_name = \"yolo_v5s_coco--512x512_quant_n2x_orca1_1\" # model to use"
   ]
  },
  {
   "cell_type": "markdown",
   "id": "83533830-1888-4c56-8883-1d53bb81b1e6",
   "metadata": {
    "tags": []
   },
   "source": [
    "#### Specify where do you want to run your inferences"
   ]
  },
  {
   "cell_type": "code",
   "execution_count": null,
   "id": "fea1e8c8",
   "metadata": {
    "tags": []
   },
   "outputs": [],
   "source": [
    "import degirum as dg, degirum_tools\n",
    "\n",
    "degirum_tools.configure_colab() # configure for Google Colab\n",
    "\n",
    "#\n",
    "# Please UNCOMMENT only ONE of the following lines to specify where to run AI inference\n",
    "#\n",
    "\n",
    "target = dg.CLOUD # <-- on the Cloud Platform\n",
    "# target = degirum_tools.get_ai_server_hostname() # <-- on AI Server deployed in your LAN\n",
    "# target = dg.LOCAL # <-- on ORCA accelerator installed on this computer\n",
    "\n",
    "# connect to AI inference engine getting zoo URL and token from env.ini file\n",
    "zoo = dg.connect(target, degirum_tools.get_cloud_zoo_url(), degirum_tools.get_token())"
   ]
  },
  {
   "cell_type": "markdown",
   "id": "ebd1b821-e18e-403b-8147-9f95fc6cfa34",
   "metadata": {
    "tags": []
   },
   "source": [
    "#### The rest of the cells below should run without any modifications"
   ]
  },
  {
   "cell_type": "code",
   "execution_count": null,
   "id": "e95f3bc8",
   "metadata": {
    "tags": []
   },
   "outputs": [],
   "source": [
    "# load model\n",
    "model = zoo.load_model(model_name, overlay_line_width=1)\n",
    "\n",
    "# define polygon zone coordinates\n",
    "polygons = [\n",
    "    [[10, 50], [600, 50], [600, 400], [10, 400]],\n",
    "]\n",
    "\n",
    "# AI prediction loop\n",
    "# Press 'x' or 'q' to stop\n",
    "# Drag zone by left mouse button to move zone\n",
    "# Drag zone corners by right mouse button to adjust zone shape\n",
    "with degirum_tools.Display(\"AI Camera\") as display:\n",
    "    # create zone counter\n",
    "    zone_counter = degirum_tools.ZoneCounter(\n",
    "        polygons,\n",
    "        class_list=[\"car\"],\n",
    "        triggering_position=degirum_tools.ZoneCounter.CENTER,\n",
    "        window_name=display.window_name,  # attach display window for interactive zone adjustment\n",
    "    )\n",
    "\n",
    "    # do AI predictions on video stream\n",
    "    for res in degirum_tools.predict_stream(\n",
    "        model, input_stream, zone_counter=zone_counter\n",
    "    ):\n",
    "        display.show(res)"
   ]
  },
  {
   "cell_type": "code",
   "execution_count": null,
   "metadata": {},
   "outputs": [],
   "source": []
  }
 ],
 "metadata": {
  "kernelspec": {
   "display_name": "py39_tests",
   "language": "python",
   "name": "python3"
  },
  "language_info": {
   "codemirror_mode": {
    "name": "ipython",
    "version": 3
   },
   "file_extension": ".py",
   "mimetype": "text/x-python",
   "name": "python",
   "nbconvert_exporter": "python",
   "pygments_lexer": "ipython3",
   "version": "3.9.16"
  },
  "vscode": {
   "interpreter": {
    "hash": "9ecb4806ce01c16f7273aa67826524f8880d9fc434c49c35172b7bcd4b045cdc"
   }
  }
 },
 "nbformat": 4,
 "nbformat_minor": 5
}
