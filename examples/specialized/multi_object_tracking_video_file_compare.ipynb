{
 "cells": [
  {
   "cell_type": "markdown",
   "id": "06f07a3d",
   "metadata": {},
   "source": [
    "## Multi Object Tracking sample\n",
    "This notebook is an example of how to perform object detection with multi-object tracking (MOT) from a video file to count vehicle traffic. The annotated video is saved into new file with `_mot_annotated` suffix.\n",
    "\n",
    "This script works with the following inference options:\n",
    "\n",
    "1. Run inference on DeGirum Cloud Platform;\n",
    "2. Run inference on DeGirum AI Server deployed on a localhost or on some computer in your LAN or VPN;\n",
    "3. Run inference on DeGirum ORCA accelerator directly installed on your computer.\n",
    "\n",
    "To try different options, you need to specify the appropriate `hw_location` option.\n",
    "\n",
    "You also need to specify your cloud API access token in [env.ini](../../env.ini) file, located in the same repository as this notebook."
   ]
  },
  {
   "cell_type": "code",
   "execution_count": null,
   "id": "393c56f5",
   "metadata": {},
   "outputs": [],
   "source": [
    "# make sure degirum-tools package and other dependencies are installed\n",
    "!pip show degirum-tools || pip install degirum-tools"
   ]
  },
  {
   "cell_type": "markdown",
   "id": "2d275dc8",
   "metadata": {},
   "source": [
    "#### Specify where you want to run your inferences, model zoo url, model name and image source"
   ]
  },
  {
   "cell_type": "code",
   "execution_count": 26,
   "id": "dec502de",
   "metadata": {},
   "outputs": [],
   "source": [
    "# hw_location: where you want to run inference\n",
    "#     @cloud to use DeGirum cloud\n",
    "#     @local to run on local machine\n",
    "#     IP address for AI server inference\n",
    "# model_zoo_url: url/path for model zoo\n",
    "#     cloud_zoo_url: valid for @cloud, @local, and ai server inference options\n",
    "#     '': ai server serving models from local folder\n",
    "#     path to json file: single model zoo in case of @local inference\n",
    "# model_name: name of the model for running AI inference\n",
    "# input_filename: path to the video file to annotate\n",
    "hw_location = \"@cloud\"\n",
    "model_zoo_url = \"https://cs.degirum.com/degirum/public\"\n",
    "model_name = \"yolo_v5s_person_det--512x512_quant_n2x_orca1_1\"\n",
    "input_filename = \"../../images/store.mp4\""
   ]
  },
  {
   "cell_type": "markdown",
   "id": "140d41d1-85f6-442c-a3d3-4a7fafaebcef",
   "metadata": {
    "tags": []
   },
   "source": [
    "#### The rest of the cells below should run without any modifications"
   ]
  },
  {
   "cell_type": "code",
   "execution_count": 27,
   "id": "e6121d72",
   "metadata": {
    "tags": []
   },
   "outputs": [],
   "source": [
    "import degirum as dg, degirum_tools\n",
    "from pathlib import Path\n",
    "import IPython.display\n",
    "\n",
    "# configure for Google Colab\n",
    "degirum_tools.configure_colab()\n",
    "\n",
    "# connect to AI inference engine getting token from env.ini file\n",
    "zoo = dg.connect(hw_location, model_zoo_url, degirum_tools.get_token())\n",
    "\n",
    "# load object detection model\n",
    "model = zoo.load_model(\n",
    "    model_name, overlay_show_probabilities=True, overlay_line_width=1\n",
    ")\n",
    "\n",
    "# video input and output\n",
    "orig_path = Path(input_filename)\n"
   ]
  },
  {
   "cell_type": "markdown",
   "id": "7656c87f",
   "metadata": {},
   "source": [
    "# Degirum tracker"
   ]
  },
  {
   "cell_type": "code",
   "execution_count": null,
   "id": "d84fb92e",
   "metadata": {},
   "outputs": [],
   "source": [
    "import cv2\n",
    "\n",
    "ann_path = \"../../workarea/\" + orig_path.stem + \"_mot_annotated_dg\" + orig_path.suffix\n",
    "    \n",
    "with degirum_tools.open_video_stream(input_filename) as stream:\n",
    "    image_w = int(stream.get(cv2.CAP_PROP_FRAME_WIDTH))\n",
    "    image_h = int(stream.get(cv2.CAP_PROP_FRAME_HEIGHT))\n",
    "    fps = int(stream.get(cv2.CAP_PROP_FPS))\n",
    "\n",
    "    with degirum_tools.Display(\"MoT\") as display, degirum_tools.open_video_writer(\n",
    "        str(ann_path), image_w, image_h\n",
    "    ) as writer:\n",
    "        tracker = degirum_tools.ObjectTracker(\n",
    "            class_list=[\"person\"],\n",
    "            track_buffer=5*fps,\n",
    "            trail_depth=0,\n",
    "            track_thresh = 0.35,\n",
    "            match_thresh = 0.9999,\n",
    "            anchor_point=degirum_tools.AnchorPoint.BOTTOM_CENTER,\n",
    "        )\n",
    "\n",
    "        progress = degirum_tools.Progress(int(stream.get(cv2.CAP_PROP_FRAME_COUNT)))\n",
    "        for result in model.predict_batch(degirum_tools.video_source(stream)):\n",
    "            tracker.analyze(result)\n",
    "            image = tracker.annotate(result, result.image_overlay)\n",
    "            \n",
    "            writer.write(image)\n",
    "            display.show(image)\n",
    "            progress.step()"
   ]
  },
  {
   "cell_type": "markdown",
   "id": "7438fe69",
   "metadata": {},
   "source": [
    "# Supervision Tracker"
   ]
  },
  {
   "cell_type": "code",
   "execution_count": null,
   "id": "10c14b7b",
   "metadata": {},
   "outputs": [],
   "source": [
    "import cv2, numpy as np\n",
    "import supervision as sv\n",
    "from supervision.tracker.byte_tracker.basetrack import BaseTrack\n",
    "\n",
    "ann_path = \"../../workarea/\" + orig_path.stem + \"_mot_annotated_sv\" + orig_path.suffix\n",
    "\n",
    "with degirum_tools.open_video_stream(input_filename) as stream:\n",
    "    image_w = int(stream.get(cv2.CAP_PROP_FRAME_WIDTH))\n",
    "    image_h = int(stream.get(cv2.CAP_PROP_FRAME_HEIGHT))\n",
    "    fps = int(stream.get(cv2.CAP_PROP_FPS))\n",
    "\n",
    "    with degirum_tools.Display(\"MoT\") as display, degirum_tools.open_video_writer(\n",
    "        str(ann_path), image_w, image_h\n",
    "    ) as writer:\n",
    "\n",
    "        BaseTrack._count = 0\n",
    "        byte_tracker = sv.ByteTrack(\n",
    "            track_thresh = 0.35, \n",
    "            track_buffer = 5 * fps,\n",
    "            match_thresh = 0.9999,\n",
    "            frame_rate = fps\n",
    "        )        \n",
    "\n",
    "        label_annotator = sv.LabelAnnotator(text_position = sv.Position.TOP_LEFT)\n",
    "\n",
    "        progress = degirum_tools.Progress(int(stream.get(cv2.CAP_PROP_FRAME_COUNT)))\n",
    "        for result in model.predict_batch(degirum_tools.video_source(stream)):\n",
    "\n",
    "            detections = sv.Detections(np.array([r[\"bbox\"] for r in result.results]))\n",
    "            detections.confidence = np.array([r[\"score\"] for r in result.results])\n",
    "            detections.class_id = np.array([r[\"category_id\"] for r in result.results])\n",
    "            detections = byte_tracker.update_with_detections(detections)\n",
    "\n",
    "            labels = [f\"#{tracker_id}\" for tracker_id in detections.tracker_id ]        \n",
    "        \n",
    "            image = label_annotator.annotate( scene = result.image_overlay, detections = detections, labels = labels )            \n",
    "            \n",
    "            writer.write(image)\n",
    "            display.show(image)\n",
    "            progress.step()"
   ]
  },
  {
   "cell_type": "code",
   "execution_count": null,
   "id": "1ff39b78",
   "metadata": {},
   "outputs": [],
   "source": []
  }
 ],
 "metadata": {
  "kernelspec": {
   "display_name": "base",
   "language": "python",
   "name": "python3"
  },
  "language_info": {
   "codemirror_mode": {
    "name": "ipython",
    "version": 3
   },
   "file_extension": ".py",
   "mimetype": "text/x-python",
   "name": "python",
   "nbconvert_exporter": "python",
   "pygments_lexer": "ipython3",
   "version": "3.9.16"
  }
 },
 "nbformat": 4,
 "nbformat_minor": 5
}
