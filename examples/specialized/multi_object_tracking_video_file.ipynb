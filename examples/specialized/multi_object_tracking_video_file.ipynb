{
 "cells": [
  {
   "cell_type": "markdown",
   "id": "06f07a3d",
   "metadata": {},
   "source": [
    "## Multi Object Tracking sample\n",
    "This notebook is an example of how to perform object detection with multi-object tracking (MOT) from a video file to count vehicle traffic. The annotated video is saved into new file with `_mot_annotated` suffix.\n",
    "\n",
    "This script works with the following inference options:\n",
    "\n",
    "1. Run inference on DeGirum Cloud Platform;\n",
    "2. Run inference on DeGirum AI Server deployed on a localhost or on some computer in your LAN or VPN;\n",
    "3. Run inference on DeGirum ORCA accelerator directly installed on your computer.\n",
    "\n",
    "To try different options, you need to specify the appropriate `hw_location` option.\n",
    "\n",
    "You also need to specify your cloud API access token in [env.ini](../../env.ini) file, located in the same repository as this notebook."
   ]
  },
  {
   "cell_type": "code",
   "execution_count": null,
   "metadata": {},
   "outputs": [],
   "source": [
    "# make sure degirum-tools package and other dependencies are installed\n",
    "!pip show degirum-tools || pip install degirum-tools"
   ]
  },
  {
   "cell_type": "markdown",
   "id": "2d275dc8",
   "metadata": {},
   "source": [
    "#### Specify where you want to run your inferences, model zoo url, model name and image source"
   ]
  },
  {
   "cell_type": "code",
   "execution_count": null,
   "id": "dec502de",
   "metadata": {},
   "outputs": [],
   "source": [
    "# hw_location: where you want to run inference\n",
    "#     @cloud to use DeGirum cloud\n",
    "#     @local to run on local machine\n",
    "#     IP address for AI server inference\n",
    "# model_zoo_url: url/path for model zoo\n",
    "#     cloud_zoo_url: valid for @cloud, @local, and ai server inference options\n",
    "#     '': ai server serving models from local folder\n",
    "#     path to json file: single model zoo in case of @local inference\n",
    "# model_name: name of the model for running AI inference\n",
    "# input_filename: path to the video file to annotate\n",
    "hw_location = \"@cloud\"\n",
    "model_zoo_url = \"https://cs.degirum.com/degirum/public\"\n",
    "model_name = \"yolo_v5s_coco--512x512_quant_n2x_orca1_1\"\n",
    "input_filename = \"../../images/Traffic.mp4\""
   ]
  },
  {
   "cell_type": "markdown",
   "id": "140d41d1-85f6-442c-a3d3-4a7fafaebcef",
   "metadata": {
    "tags": []
   },
   "source": [
    "#### The rest of the cells below should run without any modifications"
   ]
  },
  {
   "cell_type": "code",
   "execution_count": null,
   "id": "e6121d72",
   "metadata": {
    "tags": []
   },
   "outputs": [],
   "source": [
    "import degirum as dg, degirum_tools\n",
    "from pathlib import Path\n",
    "import IPython.display\n",
    "\n",
    "# configure for Google Colab\n",
    "degirum_tools.configure_colab()\n",
    "\n",
    "# connect to AI inference engine getting token from env.ini file\n",
    "zoo = dg.connect(hw_location, model_zoo_url, degirum_tools.get_token())\n",
    "\n",
    "# load object detection model\n",
    "model = zoo.load_model(\n",
    "    model_name, overlay_show_probabilities=True, overlay_line_width=1\n",
    ")\n",
    "\n",
    "# video input and output\n",
    "orig_path = Path(input_filename)\n",
    "ann_path = \"../../workarea/\" + orig_path.stem + \"_mot_annotated\" + orig_path.suffix\n",
    "\n",
    "\n",
    "\n",
    "# create object tracker\n",
    "tracker = degirum_tools.ObjectTracker(\n",
    "    class_list=[\"car\"],\n",
    "    track_thresh=0.35,\n",
    "    track_buffer=100,\n",
    "    match_thresh=0.9999,\n",
    "    trail_depth=20,\n",
    "    anchor_point=degirum_tools.AnchorPoint.BOTTOM_CENTER,\n",
    ")\n",
    "\n",
    "# create line counter\n",
    "line_counter = degirum_tools.LineCounter([(120, 430, 870, 430), (860, 80, 860, 210)])\n",
    "\n",
    "# annotate video applying object tracker and line counter\n",
    "degirum_tools.annotate_video(\n",
    "    model, orig_path, ann_path, analyzers=[tracker, line_counter]\n",
    ")"
   ]
  },
  {
   "cell_type": "code",
   "execution_count": null,
   "id": "211246e1",
   "metadata": {
    "tags": []
   },
   "outputs": [],
   "source": [
    "# display result\n",
    "IPython.display.Video(filename=str(ann_path), embed=degirum_tools._in_colab())"
   ]
  },
  {
   "cell_type": "code",
   "execution_count": null,
   "id": "84d2e42b",
   "metadata": {},
   "outputs": [],
   "source": [
    "# display original video\n",
    "IPython.display.Video(filename=str(orig_path), embed=degirum_tools._in_colab())"
   ]
  },
  {
   "cell_type": "code",
   "execution_count": null,
   "id": "4fe70d15",
   "metadata": {},
   "outputs": [],
   "source": []
  }
 ],
 "metadata": {
  "kernelspec": {
   "display_name": "base",
   "language": "python",
   "name": "python3"
  },
  "language_info": {
   "codemirror_mode": {
    "name": "ipython",
    "version": 3
   },
   "file_extension": ".py",
   "mimetype": "text/x-python",
   "name": "python",
   "nbconvert_exporter": "python",
   "pygments_lexer": "ipython3",
   "version": "3.9.16"
  }
 },
 "nbformat": 4,
 "nbformat_minor": 5
}
