{
 "cells": [
  {
   "cell_type": "markdown",
   "id": "07daa3b6",
   "metadata": {},
   "source": [
    "![Degirum banner](https://raw.githubusercontent.com/DeGirum/PySDKExamples/main/images/degirum_banner.png)\n",
    "## Simple example script illustrating object detection\n",
    "This notebook is one of the simplest examples of how to use the DeGirum PySDK to do AI inference on a graphical file using an object detection model.\n",
    "\n",
    "This script works with the following inference options:\n",
    "\n",
    "1. Run inference on the DeGirum Cloud Platform;\n",
    "2. Run inference on a DeGirum AI Server deployed on the local host or on some computer in your LAN or VPN;\n",
    "3. Run inference on a DeGirum ORCA accelerator directly installed on your computer.\n",
    "\n",
    "To try different options, you need to specify the appropriate `hw_location` option. \n",
    "\n",
    "You also need to specify your cloud API access token in `degirum_cloud_token`.\n"
   ]
  },
  {
   "cell_type": "code",
   "execution_count": null,
   "id": "17df0fd4",
   "metadata": {},
   "outputs": [],
   "source": [
    "# make sure degirum package is installed\n",
    "!pip show degirum || pip install degirum"
   ]
  },
  {
   "cell_type": "markdown",
   "id": "979779d6",
   "metadata": {},
   "source": [
    "#### Specify where you want to run your inferences, model zoo url, model name and image source"
   ]
  },
  {
   "cell_type": "code",
   "execution_count": null,
   "id": "313e14a7",
   "metadata": {},
   "outputs": [],
   "source": [
    "# hw_location: where you want to run inference\n",
    "#     \"@cloud\" to use DeGirum cloud\n",
    "#     \"@local\" to run on local machine\n",
    "#     IP address for AI server inference\n",
    "# model_zoo_url: url/path for model zoo\n",
    "#     cloud_zoo_url: valid for @cloud, @local, and ai server inference options\n",
    "#     '': ai server serving models from local folder\n",
    "#     path to json file: single model zoo in case of @local inference\n",
    "# model_name: name of the model for running AI inference\n",
    "# image_source: image source for inference\n",
    "#     path to image file\n",
    "#     URL of image\n",
    "#     PIL image object\n",
    "#     numpy array\n",
    "# degirum_cloud_token: your token for accessing the DeGirum cloud platform\n",
    "hw_location = \"@cloud\"\n",
    "model_zoo_url = \"https://cs.degirum.com/degirum/public\"\n",
    "model_name = \"mobilenet_v2_ssd_coco--300x300_quant_n2x_orca1_1\"\n",
    "image_source = \"https://raw.githubusercontent.com/DeGirum/PySDKExamples/main/images/TwoCats.jpg\"\n",
    "degirum_cloud_token = \"<enter your token here>\""
   ]
  },
  {
   "cell_type": "markdown",
   "id": "df6dfebd",
   "metadata": {
    "tags": []
   },
   "source": [
    "#### The rest of the cells below should run without any modifications"
   ]
  },
  {
   "cell_type": "code",
   "execution_count": null,
   "id": "fea1e8c8",
   "metadata": {
    "tags": []
   },
   "outputs": [],
   "source": [
    "import degirum as dg\n",
    "\n",
    "# Connect to AI inference engine\n",
    "# hw_location: hardware location\n",
    "# model_zoo_url: cloud model zoo URL\n",
    "# degirum_cloud_token: Degirum cloud API access token\n",
    "zoo = dg.connect(hw_location, model_zoo_url, degirum_cloud_token)\n",
    "\n",
    "# Load object detection AI model, setting some of the model properties\n",
    "# model_name: name of the model to load\n",
    "model = zoo.load_model(\n",
    "    model_name,\n",
    "    image_backend=\"pil\",  # use PIL as image backend to show results in-cell\n",
    "    overlay_font_scale=1.5,  # increase font scale\n",
    "    overlay_alpha=1,  # no transparency\n",
    "    overlay_show_probabilities=True,  # show probabilities on object labels\n",
    ")\n",
    "\n",
    "# Perform AI model inference on given image source\n",
    "inference_result = model(image_source)\n",
    "\n",
    "# Show results of inference\n",
    "print(inference_result)  # numeric results\n",
    "inference_result.image_overlay  # graphical results"
   ]
  },
  {
   "cell_type": "markdown",
   "id": "41cfd45e",
   "metadata": {},
   "source": [
    "The `model_name` in the above code can be changed to any model available in the `zoo`. To list all the models int he `zoo`, the `list_models()` method can be used"
   ]
  },
  {
   "cell_type": "code",
   "execution_count": null,
   "id": "08b042a8",
   "metadata": {},
   "outputs": [],
   "source": [
    "zoo.list_models()  # list all available models"
   ]
  }
 ],
 "metadata": {
  "kernelspec": {
   "display_name": "Python (supervision)",
   "language": "python",
   "name": "supervision"
  },
  "language_info": {
   "codemirror_mode": {
    "name": "ipython",
    "version": 3
   },
   "file_extension": ".py",
   "mimetype": "text/x-python",
   "name": "python",
   "nbconvert_exporter": "python",
   "pygments_lexer": "ipython3",
   "version": "3.9.18"
  }
 },
 "nbformat": 4,
 "nbformat_minor": 5
}
