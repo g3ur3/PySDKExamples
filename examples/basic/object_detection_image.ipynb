{
 "cells": [
  {
   "cell_type": "markdown",
   "id": "203609d2-b86e-4afa-afd6-62d6869c23e1",
   "metadata": {},
   "source": [
    "# Simple example script illustrating object detection\n",
    "This notebook is one of the simplest examples of how to use the DeGirum PySDK to do AI inference on a graphical file using an object detection model.\n",
    "\n",
    "This script works with the following inference options:\n",
    "\n",
    "1. Run inference on the DeGirum Cloud Platform;\n",
    "2. Run inference on a DeGirum AI Server deployed on the local host or on some computer in your LAN or VPN;\n",
    "3. Run inference on a DeGirum ORCA accelerator directly installed on your computer.\n",
    "\n",
    "To try different options, you need to specify the appropriate `hw_location` option. \n",
    "\n",
    "You also need to specify your cloud API access token in [env.ini](../../env.ini) file, located in the same directory as this notebook.\n"
   ]
  },
  {
   "cell_type": "code",
   "execution_count": null,
   "id": "17df0fd4",
   "metadata": {},
   "outputs": [],
   "source": [
    "# make sure degirum-tools package is installed\n",
    "!pip show degirum-tools || pip install degirum-tools"
   ]
  },
  {
   "cell_type": "markdown",
   "id": "979779d6",
   "metadata": {},
   "source": [
    "#### Specify where you want to run your inferences, model zoo url, model name and image source"
   ]
  },
  {
   "cell_type": "code",
   "execution_count": null,
   "id": "313e14a7",
   "metadata": {},
   "outputs": [],
   "source": [
    "# hw_location: where you want to run inference\n",
    "#     @cloud to use DeGirum cloud\n",
    "#     @local to run on local machine\n",
    "#     IP address for AI server inference\n",
    "# model_zoo_url: url/path for model zoo\n",
    "#     cloud_zoo_url: valid for @cloud, @local, and ai server inference options\n",
    "#     '': ai server serving models from local folder\n",
    "#     path to json file: single model zoo in case of @local inference\n",
    "# model_name: name of the model for running AI inference\n",
    "# image_source: image source for inference\n",
    "#     path to image file\n",
    "#     URL of image\n",
    "#     PIL image object\n",
    "#     numpy array\n",
    "hw_location = \"@cloud\"\n",
    "model_zoo_url = \"https://cs.degirum.com/degirum/public\"\n",
    "model_name = \"mobilenet_v2_ssd_coco--300x300_quant_n2x_orca1_1\"\n",
    "image_source = \"../../images/TwoCats.jpg\""
   ]
  },
  {
   "cell_type": "markdown",
   "id": "df6dfebd",
   "metadata": {
    "tags": []
   },
   "source": [
    "#### The rest of the cells below should run without any modifications"
   ]
  },
  {
   "cell_type": "code",
   "execution_count": null,
   "id": "fea1e8c8",
   "metadata": {
    "tags": []
   },
   "outputs": [],
   "source": [
    "import degirum as dg, degirum_tools\n",
    "\n",
    "# configure for Google Colab\n",
    "degirum_tools.configure_colab()\n",
    "# connect to AI inference engine getting token from env.ini file\n",
    "zoo = dg.connect(hw_location, model_zoo_url, degirum_tools.get_token())\n",
    "# load object detection AI model for DeGirum Orca AI accelerator\n",
    "model = zoo.load_model(\n",
    "    model_name,\n",
    "    image_backend=\"pil\",\n",
    "    overlay_font_scale=1.5,\n",
    "    overlay_alpha=1,\n",
    "    overlay_show_probabilities=True,\n",
    ")\n",
    "\n",
    "# perform AI model inference on given image source\n",
    "inference_result = model(image_source)\n",
    "# show results of inference\n",
    "print(inference_result)  # numeric results\n",
    "inference_result.image_overlay  # graphical results"
   ]
  }
 ],
 "metadata": {
  "kernelspec": {
   "display_name": "Python (dg_supermicro)",
   "language": "python",
   "name": "dg_supermicro"
  },
  "language_info": {
   "codemirror_mode": {
    "name": "ipython",
    "version": 3
   },
   "file_extension": ".py",
   "mimetype": "text/x-python",
   "name": "python",
   "nbconvert_exporter": "python",
   "pygments_lexer": "ipython3",
   "version": "3.9.0"
  }
 },
 "nbformat": 4,
 "nbformat_minor": 5
}
