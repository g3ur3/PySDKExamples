{
  "cells": [
    {
      "cell_type": "code",
      "execution_count": null,
      "metadata": {
        "id": "5bQAXfuenjFy"
      },
      "outputs": [],
      "source": [
        "!python3 -m pip install --quiet degirum"
      ]
    },
    {
      "cell_type": "markdown",
      "metadata": {},
      "source": [
        "## You need to signup for [DeLight Cloud Platform](https://cs.degirum.com) and generate a token to run the below cell"
      ]
    },
    {
      "cell_type": "code",
      "execution_count": null,
      "metadata": {
        "colab": {
          "base_uri": "https://localhost:8080/",
          "height": 443
        },
        "id": "tp6UgT9OnjFz",
        "outputId": "599a40e3-8066-43a3-a986-17d3c8cbcb3a"
      },
      "outputs": [],
      "source": [
        "\n",
        "import degirum as dg\n",
        "from google.colab.patches import cv2_imshow\n",
        "\n",
        "zoo = dg.connect(dg.CLOUD, zoo_url=\"https://cs.degirum.com/degirum/ultralytics_v6\", token=\"dg_BuzxvX8rxfDWxbTdb3qBueByFwvffBhZWcnbf\")\n",
        "model = zoo.load_model(\"yolov8s_relu6_coco--640x640_quant_n2x_orca1_1\")\n",
        "res = model(\"https://raw.githubusercontent.com/DeGirum/PySDKExamples/main/images/TwoCats.jpg\")\n",
        "cv2_imshow(res.image_overlay)"
      ]
    },
    {
      "cell_type": "code",
      "execution_count": null,
      "metadata": {
        "colab": {
          "base_uri": "https://localhost:8080/"
        },
        "id": "SmOEJODPnjF0",
        "outputId": "bcb30799-deca-4ffa-c313-6060e66b76a7"
      },
      "outputs": [],
      "source": [
        "zoo.list_models()"
      ]
    }
  ],
  "metadata": {
    "colab": {
      "provenance": []
    },
    "kernelspec": {
      "display_name": "devtools-venv",
      "language": "python",
      "name": "python3"
    },
    "language_info": {
      "codemirror_mode": {
        "name": "ipython",
        "version": 3
      },
      "file_extension": ".py",
      "mimetype": "text/x-python",
      "name": "python",
      "nbconvert_exporter": "python",
      "pygments_lexer": "ipython3",
      "version": "3.10.6"
    },
    "orig_nbformat": 4
  },
  "nbformat": 4,
  "nbformat_minor": 0
}
