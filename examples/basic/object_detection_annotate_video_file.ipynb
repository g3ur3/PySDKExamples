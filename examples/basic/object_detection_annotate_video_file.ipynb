{
 "cells": [
  {
   "cell_type": "markdown",
   "id": "5c15cb24",
   "metadata": {},
   "source": [
    "## Annotating a video file with AI inference results\n",
    "This notebook is an example of how to use DeGirum PySDK to annotate a video file with AI inference results. The annotated video is saved into new file with `_annotated` suffix.\n",
    "\n",
    "This script works with the following inference options:\n",
    "\n",
    "1. Run inference on DeGirum Cloud Platform;\n",
    "2. Run inference on DeGirum AI Server deployed on a localhost or on some computer in your LAN or VPN;\n",
    "3. Run inference on DeGirum ORCA accelerator directly installed on your computer.\n",
    "\n",
    "To try different options, you need to specify the appropriate `hw_location` option.\n",
    "\n",
    "You also need to specify your cloud API access token in [env.ini](../../env.ini) file, located in the same repository as this notebook."
   ]
  },
  {
   "cell_type": "code",
   "execution_count": null,
   "id": "82cc9e03",
   "metadata": {},
   "outputs": [],
   "source": [
    "# make sure degirum-tools package is installed\n",
    "!pip show degirum-tools || pip install degirum-tools"
   ]
  },
  {
   "cell_type": "markdown",
   "id": "01549d7c-2445-4007-8a89-ac0f3a864530",
   "metadata": {
    "tags": []
   },
   "source": [
    "#### Specify where you want to run your inferences, model zoo url, model name, and path to video file"
   ]
  },
  {
   "cell_type": "code",
   "execution_count": null,
   "id": "da34df11-cbc7-4b00-8994-794a4a6548b4",
   "metadata": {
    "tags": []
   },
   "outputs": [],
   "source": [
    "# hw_location: where you want to run inference\n",
    "#     \"@cloud\" to use DeGirum cloud\n",
    "#     \"@local\" to run on local machine\n",
    "#     IP address for AI server inference\n",
    "# model_zoo_url: url/path for model zoo\n",
    "#     cloud_zoo_url: valid for @cloud, @local, and ai server inference options\n",
    "#     '': ai server serving models from local folder\n",
    "#     path to json file: single model zoo in case of @local inference\n",
    "# model_name: name of the model for running AI inference\n",
    "# input_filename: path to the video file to annotate\n",
    "hw_location = \"@cloud\"\n",
    "model_zoo_url = \"https://cs.degirum.com/degirum/public\"\n",
    "model_name = \"yolo_v5s_coco--512x512_quant_n2x_orca1_1\"\n",
    "input_filename = \"../../images/example_video.mp4\""
   ]
  },
  {
   "cell_type": "markdown",
   "id": "adc3364e-0533-4f26-8dd2-4f103922cec7",
   "metadata": {
    "tags": []
   },
   "source": [
    "#### The rest of the cells below should run without any modifications"
   ]
  },
  {
   "cell_type": "code",
   "execution_count": null,
   "id": "88ddcf24-7a3a-4053-8b46-bcf49c0fe291",
   "metadata": {
    "tags": []
   },
   "outputs": [],
   "source": [
    "import degirum as dg, degirum_tools\n",
    "from pathlib import Path\n",
    "import IPython.display\n",
    "\n",
    "# configure for Google Colab\n",
    "degirum_tools.configure_colab()\n",
    "# connect to AI inference engine getting token from env.ini file\n",
    "zoo = dg.connect(hw_location, model_zoo_url, degirum_tools.get_token())\n",
    "# load object detection model\n",
    "model = zoo.load_model(\n",
    "    model_name, overlay_show_probabilities=True, overlay_line_width=1\n",
    ")\n",
    "orig_path = Path(input_filename)\n",
    "ann_path = \"../../workarea/\" + orig_path.stem + \"_annotated\" + orig_path.suffix\n",
    "degirum_tools.annotate_video(model, orig_path, ann_path)"
   ]
  },
  {
   "cell_type": "code",
   "execution_count": null,
   "id": "211246e1",
   "metadata": {
    "tags": []
   },
   "outputs": [],
   "source": [
    "# display result\n",
    "IPython.display.Video(ann_path, embed=degirum_tools._in_colab())"
   ]
  },
  {
   "cell_type": "code",
   "execution_count": null,
   "id": "84d2e42b",
   "metadata": {
    "tags": []
   },
   "outputs": [],
   "source": [
    "# display original video\n",
    "IPython.display.Video(orig_path, embed=degirum_tools._in_colab())"
   ]
  }
 ],
 "metadata": {
  "kernelspec": {
   "display_name": "Python (dg_supermicro)",
   "language": "python",
   "name": "dg_supermicro"
  },
  "language_info": {
   "codemirror_mode": {
    "name": "ipython",
    "version": 3
   },
   "file_extension": ".py",
   "mimetype": "text/x-python",
   "name": "python",
   "nbconvert_exporter": "python",
   "pygments_lexer": "ipython3",
   "version": "3.9.0"
  }
 },
 "nbformat": 4,
 "nbformat_minor": 5
}
