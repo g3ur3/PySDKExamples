{
 "cells": [
  {
   "cell_type": "markdown",
   "id": "e08e7226",
   "metadata": {},
   "source": [
    "## This notebook is an example of how to pipeline two models. \n",
    "This notebook is an example of how to use DeGirum PySDK to do AI inference of a graphical file using \n",
    "two AI models: license plate detection and license recognition. The license plate detection model \n",
    "is run on the image and the results are then processed by the license recognition model, \n",
    "one license plate at a time. Combined result is then displayed.\n",
    "This script uses PIL as image processing backend.\n",
    "\n",
    "This script works with the following inference options:\n",
    "\n",
    "1. Run inference on DeGirum Cloud Platform;\n",
    "2. Run inference on DeGirum AI Server deployed on a localhost or on some computer in your LAN or VPN;\n",
    "3. Run inference on DeGirum ORCA accelerator directly installed on your computer.\n",
    "\n",
    "To try different options, you just need to uncomment **one** of the lines in the code below.\n",
    "\n",
    "You also need to specify your cloud API access token, cloud zoo URLs, and AI server hostname in [env.ini](../../env.ini) file, located in the same directory as this notebook."
   ]
  },
  {
   "cell_type": "code",
   "execution_count": null,
   "id": "babc0f2a",
   "metadata": {},
   "outputs": [],
   "source": [
    "# make sure degirum-tools package is installed\n",
    "!pip show degirum-tools || pip install degirum-tools"
   ]
  },
  {
   "cell_type": "markdown",
   "id": "7960afca-3c84-4794-a8d0-ae894260f40b",
   "metadata": {
    "tags": []
   },
   "source": [
    "#### Specify where do you want to run your inferences"
   ]
  },
  {
   "cell_type": "code",
   "execution_count": null,
   "id": "01889e8e-c81a-4514-a16e-bb13652e61e6",
   "metadata": {
    "tags": []
   },
   "outputs": [],
   "source": [
    "# hw_location: where you want to run inference\n",
    "#     @cloud to use DeGirum cloud\n",
    "#     @local to run on local machine\n",
    "#     IP address for AI server inference\n",
    "# model_zoo_url: url/path for model zoo\n",
    "#     cloud_zoo_url: valid for @cloud, @local, and ai server inference options\n",
    "#     '': ai server serving models from local folder\n",
    "#     path to json file: single model zoo in case of @local inference\n",
    "# lp_det_model_name: name of the model for license plate detection\n",
    "# lp_ocr_model_name: name of the model for license plate OCR\n",
    "# video_source: video source for inference\n",
    "#     camera index for local web camera\n",
    "#     URL of RTSP stream\n",
    "#     URL of YouTube Video\n",
    "#     path to video file (mp4 etc)\n",
    "hw_location = \"@cloud\"\n",
    "model_zoo_url = \"https://cs.degirum.com/degirum/public\"\n",
    "lp_det_model_name = \"yolo_v5s_lp_det--512x512_quant_n2x_orca1_1\"\n",
    "lp_ocr_model_name = \"yolo_v5s_lp_ocr--256x256_quant_n2x_orca1_1\"\n",
    "image_source = \"../../images/Car.jpg\""
   ]
  },
  {
   "cell_type": "markdown",
   "id": "9c6d2ce9-610e-4727-a18d-f0467b326d7f",
   "metadata": {
    "tags": []
   },
   "source": [
    "#### The rest of the cells below should run without any modifications"
   ]
  },
  {
   "cell_type": "code",
   "execution_count": null,
   "id": "878db7d5",
   "metadata": {
    "tags": []
   },
   "outputs": [],
   "source": [
    "import degirum as dg, degirum_tools\n",
    "\n",
    "# configure for Google Colab\n",
    "degirum_tools.configure_colab()\n",
    "# connect to AI inference engine getting token from env.ini file\n",
    "zoo = dg.connect(hw_location, model_zoo_url, degirum_tools.get_token())\n",
    "# load models for DeGirum Orca AI accelerator\n",
    "with zoo.load_model(lp_det_model_name) as lp_det_model:\n",
    "    with zoo.load_model(lp_ocr_model_name) as lp_ocr_model:\n",
    "        # create a compound cropping model with 5% crop extent\n",
    "        crop_model = degirum_tools.CroppingAndClassifyingCompoundModel(\n",
    "            lp_det_model, lp_ocr_model, 5.0\n",
    "        )\n",
    "        # detect license plate boxes\n",
    "        license_plates = crop_model(image_source)\n",
    "        # display combined results\n",
    "        with degirum_tools.Display(\"License Plates\") as display:\n",
    "            display.show_image(license_plates)\n",
    "        print(license_plates)"
   ]
  }
 ],
 "metadata": {
  "kernelspec": {
   "display_name": "Python (dg_supermicro)",
   "language": "python",
   "name": "dg_supermicro"
  },
  "language_info": {
   "codemirror_mode": {
    "name": "ipython",
    "version": 3
   },
   "file_extension": ".py",
   "mimetype": "text/x-python",
   "name": "python",
   "nbconvert_exporter": "python",
   "pygments_lexer": "ipython3",
   "version": "3.9.0"
  },
  "vscode": {
   "interpreter": {
    "hash": "f77ba0ef977241afac66801d7297b5fb2ffa6cc21668a24d017a9f23b5f689e7"
   }
  }
 },
 "nbformat": 4,
 "nbformat_minor": 5
}
