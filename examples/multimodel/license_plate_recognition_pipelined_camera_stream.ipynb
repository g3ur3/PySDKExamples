{
 "cells": [
  {
   "cell_type": "markdown",
   "id": "438aa03a",
   "metadata": {},
   "source": [
    "## This notebook is an example of how to pipeline two models. \n",
    "A video stream from a local camera is processed by the license plate detection model. \n",
    "The detection results are then processed by license number recognition model, \n",
    "one bounding box at a time. Combined result is then displayed.\n",
    "\n",
    "This script works with the following inference options:\n",
    "\n",
    "1. Run inference on DeGirum Cloud Platform;\n",
    "2. Run inference on DeGirum AI Server deployed on a localhost or on some computer in your LAN or VPN;\n",
    "3. Run inference on DeGirum ORCA accelerator directly installed on your computer.\n",
    "\n",
    "To try different options, you just need to uncomment **one** of the lines in the code below.\n",
    "\n",
    "You also need to specify your cloud API access token, cloud zoo URLs, and AI server hostname in [env.ini](../../env.ini) file, located in the same directory as this notebook.\n",
    "\n",
    "**Access to camera is required to run this sample.**\n",
    "\n",
    "The script needs either a web camera or local camera connected to the machine running this code. The camera index or URL needs to be specified either in the code below by assigning `camera_id` or in [env.ini](../../env.ini) file by defining `CAMERA_ID` variable and assigning `camera_id = None`."
   ]
  },
  {
   "cell_type": "markdown",
   "id": "39d0f95d-7fd0-43b1-b94a-4835357d10a5",
   "metadata": {},
   "source": [
    "#### Specify camera index "
   ]
  },
  {
   "cell_type": "code",
   "execution_count": null,
   "id": "6b37dddf-3f5f-40b0-8bd9-409ae37bc7d8",
   "metadata": {
    "tags": []
   },
   "outputs": [],
   "source": [
    "camera_id = None  # camera index or URL; 0 to use default local camera, None to take from env.ini file"
   ]
  },
  {
   "cell_type": "markdown",
   "id": "8362097f-2099-4785-a3fc-3ed5d8f9e596",
   "metadata": {},
   "source": [
    "#### Specify where do you want to run your inferences"
   ]
  },
  {
   "cell_type": "code",
   "execution_count": null,
   "id": "65d4cd90",
   "metadata": {
    "tags": []
   },
   "outputs": [],
   "source": [
    "import degirum as dg, dgtools\n",
    "\n",
    "#\n",
    "# Please UNCOMMENT only ONE of the following lines to specify where to run AI inference\n",
    "#\n",
    "\n",
    "target = dg.CLOUD  # <-- on the Cloud Platform\n",
    "# target = dgtools.get_ai_server_hostname() # <-- on AI Server deployed in your LAN\n",
    "# target = dg.LOCAL # <-- on ORCA accelerator installed on this computer\n",
    "\n",
    "# connect to AI inference engine getting zoo URL and token from env.ini file\n",
    "zoo = dg.connect(target, dgtools.get_cloud_zoo_url(), dgtools.get_token())"
   ]
  },
  {
   "cell_type": "markdown",
   "id": "efcc5064-809b-4048-87d5-691b613209e8",
   "metadata": {
    "tags": []
   },
   "source": [
    "#### The rest of the cells below should run without any modifications"
   ]
  },
  {
   "cell_type": "code",
   "execution_count": null,
   "id": "894a5c7e",
   "metadata": {},
   "outputs": [],
   "source": [
    "# load models for DeGirum Orca AI accelerator\n",
    "lp_det_model = zoo.load_model(\"yolo_v5s_lp_det--512x512_quant_n2x_orca1_1\")\n",
    "lp_ocr_model = zoo.load_model(\"yolo_v5s_lp_ocr--256x256_quant_n2x_orca1_1\")\n",
    "\n",
    "# adjust some model properties\n",
    "lp_det_model.overlay_alpha = 1\n",
    "lp_det_model.overlay_line_width = 1"
   ]
  },
  {
   "cell_type": "code",
   "execution_count": null,
   "id": "125238ee",
   "metadata": {},
   "outputs": [],
   "source": [
    "import queue\n",
    "\n",
    "\n",
    "# Specialized non-blocking queue which acts as iterator\n",
    "class BoxQueue(queue.Queue):\n",
    "    def __iter__(self):\n",
    "        while True:\n",
    "            try:\n",
    "                value = self.get_nowait()\n",
    "                if value is None:\n",
    "                    break  # `None` sentinel signals end of queue\n",
    "                yield value\n",
    "            except queue.Empty:\n",
    "                yield None  # in case of empty queue, yield None"
   ]
  },
  {
   "cell_type": "code",
   "execution_count": null,
   "id": "1466ef09",
   "metadata": {},
   "outputs": [],
   "source": [
    "# AI prediction loop, press 'x' or 'q' to stop video\n",
    "with dgtools.Display(\"AI Camera\") as display:\n",
    "\n",
    "    lp_queue = BoxQueue()  # queue for license plate boxes\n",
    "    lp_ocr_model.non_blocking_batch_predict = True  # use non-blocking mode for nested model\n",
    "    lp_ocr_model_iter = lp_ocr_model.predict_batch(lp_queue)  # iterator over predictions\n",
    "\n",
    "    # function to put detected license plate box into queue\n",
    "    def queue_license_plate_box(lp_boxes, box_idx):\n",
    "        lp_img = dgtools.Display.crop(lp_boxes.image, lp_boxes.results[box_idx][\"bbox\"])\n",
    "        lp_info = {\"lp_box\": lp_boxes.results[box_idx]}  # store license plate box info\n",
    "        if box_idx == len(lp_boxes.results) - 1:  # for last box...\n",
    "            lp_info[\"frame\"] = lp_boxes  # ...store whole frame\n",
    "        lp_queue.put((lp_img, lp_info))\n",
    "\n",
    "    # function to patch license plate box label with recognized license text\n",
    "    def process_license_plate_text(lp_ocr_result):\n",
    "        lp_ocr_result.info[\"lp_box\"][\"label\"] = lp_ocr_result.results[0][\"label\"]\n",
    "        if \"frame\" in lp_ocr_result.info:  # if we have the whole frame...\n",
    "            display.show(lp_ocr_result.info[\"frame\"])  # display it\n",
    "\n",
    "    # outer loop over camera frames: apply license plate box detection model\n",
    "    for lp_boxes in dgtools.predict_stream(lp_det_model, camera_id):\n",
    "        # put all detected license plate boxes into queue\n",
    "        for box_idx in range(len(lp_boxes.results)):\n",
    "            queue_license_plate_box(lp_boxes, box_idx)\n",
    "\n",
    "        # process all recognized license plates ready so far\n",
    "        while lp_ocr_result := next(lp_ocr_model_iter):\n",
    "            process_license_plate_text(lp_ocr_result)\n",
    "\n",
    "    lp_queue.put(None)  # signal end of queue to nested model\n",
    "    lp_ocr_model.non_blocking_batch_predict = False  # restore blocking mode\n",
    "    # process all remaining recognized license plates\n",
    "    for lp_ocr_result in lp_ocr_model_iter:\n",
    "        process_license_plate_text(lp_ocr_result)\n"
   ]
  },
  {
   "cell_type": "code",
   "execution_count": null,
   "id": "14697965",
   "metadata": {},
   "outputs": [],
   "source": []
  }
 ],
 "metadata": {
  "kernelspec": {
   "display_name": "base",
   "language": "python",
   "name": "python3"
  },
  "language_info": {
   "codemirror_mode": {
    "name": "ipython",
    "version": 3
   },
   "file_extension": ".py",
   "mimetype": "text/x-python",
   "name": "python",
   "nbconvert_exporter": "python",
   "pygments_lexer": "ipython3",
   "version": "3.9.16"
  },
  "vscode": {
   "interpreter": {
    "hash": "19d1d53a962d236aa061289c2ac16dc8e6d9648c89fe79f459ae9a3493bc67b4"
   }
  }
 },
 "nbformat": 4,
 "nbformat_minor": 5
}
