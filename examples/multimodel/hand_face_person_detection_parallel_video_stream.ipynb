{
 "cells": [
  {
   "cell_type": "markdown",
   "id": "438aa03a",
   "metadata": {},
   "source": [
    "![Degirum banner](https://raw.githubusercontent.com/DeGirum/PySDKExamples/main/images/degirum_banner.png)\n",
    "## Running multiple ML models at the same time\n",
    "This notebook is an example of how to run multiple models side-by-side and combine results of all models. A video stream from a video source is processed by the hand, face, and person detection models. Combined result is then displayed.\n",
    "\n",
    "This script works with the following inference options:\n",
    "\n",
    "1. Run inference on DeGirum Cloud Platform;\n",
    "2. Run inference on DeGirum AI Server deployed on a localhost or on some computer in your LAN or VPN;\n",
    "3. Run inference on DeGirum ORCA accelerator directly installed on your computer.\n",
    "\n",
    "To try different options, you need to specify the appropriate `hw_location` option. \n",
    "\n",
    "When running this notebook locally, you need to specify your cloud API access token in the [env.ini](../../env.ini) file, located in the same directory as this notebook.\n",
    "\n",
    "When running this notebook in Google Colab, the cloud API access token should be stored in a user secret named `DEGIRUM_CLOUD_TOKEN`."
   ]
  },
  {
   "cell_type": "code",
   "execution_count": null,
   "id": "8a1de047",
   "metadata": {},
   "outputs": [],
   "source": [
    "# make sure degirum-tools package is installed\n",
    "!pip show degirum-tools || pip install degirum-tools"
   ]
  },
  {
   "cell_type": "markdown",
   "id": "9f04f85e-e516-4ab8-8ecc-33a6a86d85d2",
   "metadata": {},
   "source": [
    "#### Specify where you want to run your inferences, model_zoo_url, model names for hand, face, and person detection, and video source"
   ]
  },
  {
   "cell_type": "code",
   "execution_count": null,
   "id": "65d4cd90",
   "metadata": {
    "tags": []
   },
   "outputs": [],
   "source": [
    "# hw_location: where you want to run inference\n",
    "#     \"@cloud\" to use DeGirum cloud\n",
    "#     \"@local\" to run on local machine\n",
    "#     IP address for AI server inference\n",
    "# model_zoo_url: url/path for model zoo\n",
    "#     cloud_zoo_url: valid for @cloud, @local, and ai server inference options\n",
    "#     '': ai server serving models from local folder\n",
    "#     path to json file: single model zoo in case of @local inference\n",
    "# hand_det_model_name: name of the model for hand detection\n",
    "# face_det_model_name: name of the model for face detection\n",
    "# person_det_model_name: name of the model for person detection\n",
    "# video_source: video source for inference\n",
    "#     camera index for local camera\n",
    "#     URL of RTSP stream\n",
    "#     URL of YouTube Video\n",
    "#     path to video file (mp4 etc)\n",
    "hw_location = \"@cloud\"\n",
    "model_zoo_url = \"https://cs.degirum.com/degirum/public\"\n",
    "hand_det_model_name = \"yolo_v5s_hand_det--512x512_quant_n2x_orca1_1\"\n",
    "face_det_model_name = \"yolo_v5s_face_det--512x512_quant_n2x_orca1_1\"\n",
    "person_det_model_name = \"yolo_v5s_person_det--512x512_quant_n2x_orca1_1\"\n",
    "video_source = \"https://raw.githubusercontent.com/DeGirum/PySDKExamples/main/images/person_face_hand.mp4\""
   ]
  },
  {
   "cell_type": "markdown",
   "id": "290deaa8",
   "metadata": {},
   "source": [
    "#### The rest of the cells below should run without any modifications"
   ]
  },
  {
   "cell_type": "code",
   "execution_count": null,
   "id": "33012fe3",
   "metadata": {
    "tags": []
   },
   "outputs": [],
   "source": [
    "import degirum as dg\n",
    "import degirum_tools\n",
    "\n",
    "# connect to AI inference engine\n",
    "zoo = dg.connect(hw_location, model_zoo_url, degirum_tools.get_token())\n",
    "\n",
    "# load models for hand, face, and person detection\n",
    "hand_det_model = zoo.load_model(hand_det_model_name)\n",
    "face_det_model = zoo.load_model(face_det_model_name)\n",
    "person_det_model = zoo.load_model(person_det_model_name, overlay_line_width=1)\n",
    "\n",
    "# AI prediction loop, press 'x' or 'q' to stop video\n",
    "with degirum_tools.Display(\"Hands, Faces and Persons\") as display:\n",
    "    for inference_result in degirum_tools.predict_stream(\n",
    "        degirum_tools.CombiningCompoundModel(\n",
    "            degirum_tools.CombiningCompoundModel(hand_det_model, face_det_model),\n",
    "            person_det_model,\n",
    "        ),\n",
    "        video_source,\n",
    "    ):\n",
    "        display.show(inference_result)"
   ]
  },
  {
   "cell_type": "code",
   "execution_count": null,
   "id": "4a70e92c",
   "metadata": {},
   "outputs": [],
   "source": []
  }
 ],
 "metadata": {
  "kernelspec": {
   "display_name": "base",
   "language": "python",
   "name": "python3"
  },
  "language_info": {
   "codemirror_mode": {
    "name": "ipython",
    "version": 3
   },
   "file_extension": ".py",
   "mimetype": "text/x-python",
   "name": "python",
   "nbconvert_exporter": "python",
   "pygments_lexer": "ipython3",
   "version": "3.9.16"
  }
 },
 "nbformat": 4,
 "nbformat_minor": 5
}
