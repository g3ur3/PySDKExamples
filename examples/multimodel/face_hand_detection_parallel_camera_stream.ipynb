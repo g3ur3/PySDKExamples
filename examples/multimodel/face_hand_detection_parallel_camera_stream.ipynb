{
 "cells": [
  {
   "cell_type": "markdown",
   "id": "438aa03a",
   "metadata": {},
   "source": [
    "## Running multiple ML models at the same time\n",
    "This notebook is an example how to run multiple models side-by-side and combine results of all models. A video stream from a local camera is processed by the hand, face, and person detection models. Combined result is then displayed.\n",
    "\n",
    "This script works with the following inference options:\n",
    "\n",
    "1. Run inference on DeGirum Cloud Platform;\n",
    "2. Run inference on DeGirum AI Server deployed on a localhost or on some computer in your LAN or VPN;\n",
    "3. Run inference on DeGirum ORCA accelerator directly installed on your computer.\n",
    "\n",
    "To try different options, you just need to uncomment **one** of the lines in the code below.\n",
    "\n",
    "You also need to specify your cloud API access token, cloud zoo URLs, and AI server hostname in [env.ini](../../env.ini) file, located in the same directory as this notebook.\n",
    "\n",
    "**Access to camera is required to run this sample.**\n",
    "\n",
    "The script needs either a web camera or local camera connected to the machine running this code. The camera index or URL needs to be specified either in the code below by assigning `video_source` or in [env.ini](../../env.ini) file by defining `VIDEO_SOURCE` variable and assigning `video_source = None`."
   ]
  },
  {
   "cell_type": "code",
   "execution_count": null,
   "metadata": {},
   "outputs": [],
   "source": [
    "# make sure degirum-tools package is installed\n",
    "!pip show degirum-tools || pip install degirum-tools"
   ]
  },
  {
   "cell_type": "markdown",
   "id": "ed53050e-8e74-454f-b4eb-4883a8f02ca9",
   "metadata": {},
   "source": [
    "#### Specify camera index "
   ]
  },
  {
   "cell_type": "code",
   "execution_count": null,
   "id": "f8e9dd69-dcdc-4fc6-8c8d-0d8771eb5d2c",
   "metadata": {
    "tags": []
   },
   "outputs": [],
   "source": [
    "video_source = None        # camera index or URL; 0 to use default local camera, None to take from env.ini file"
   ]
  },
  {
   "cell_type": "markdown",
   "id": "9f04f85e-e516-4ab8-8ecc-33a6a86d85d2",
   "metadata": {},
   "source": [
    "#### Specify where do you want to run your inferences"
   ]
  },
  {
   "cell_type": "code",
   "execution_count": null,
   "id": "65d4cd90",
   "metadata": {
    "tags": []
   },
   "outputs": [],
   "source": [
    "import degirum as dg, degirum_tools\n",
    "\n",
    "degirum_tools.configure_colab() # configure for Google Colab\n",
    "\n",
    "#\n",
    "# Please UNCOMMENT only ONE of the following lines to specify where to run AI inference\n",
    "#\n",
    "\n",
    "target = dg.CLOUD # <-- on the Cloud Platform\n",
    "# target = degirum_tools.get_ai_server_hostname() # <-- on AI Server deployed in your LAN\n",
    "# target = dg.LOCAL # <-- on ORCA accelerator installed on this computer\n",
    "\n",
    "# connect to AI inference engine getting zoo URL and token from env.ini file\n",
    "zoo = dg.connect(target, degirum_tools.get_cloud_zoo_url(), degirum_tools.get_token())"
   ]
  },
  {
   "cell_type": "markdown",
   "id": "290deaa8",
   "metadata": {},
   "source": [
    "#### The rest of the cells below should run without any modifications"
   ]
  },
  {
   "cell_type": "code",
   "execution_count": null,
   "id": "33012fe3",
   "metadata": {
    "tags": []
   },
   "outputs": [],
   "source": [
    "# load models for DeGirum Orca AI accelerator\n",
    "# (change model name to \"...n2x_cpu_1\" to run it on CPU)\n",
    "hand_det_model = zoo.load_model(\"yolo_v5s_hand_det--512x512_quant_n2x_orca1_1\")\n",
    "face_det_model = zoo.load_model(\"yolo_v5s_face_det--512x512_quant_n2x_orca1_1\")\n",
    "person_det_model = zoo.load_model(\"yolo_v5s_person_det--512x512_quant_n2x_orca1_1\", overlay_line_width = 1)\n",
    "\n",
    "# AI prediction loop, press 'x' or 'q' to stop video\n",
    "with degirum_tools.Display(\"Hands and Faces\") as display:\n",
    "    for res in degirum_tools.predict_stream(\n",
    "        degirum_tools.CombiningCompoundModel(degirum_tools.CombiningCompoundModel(hand_det_model, face_det_model), person_det_model), \n",
    "        video_source\n",
    "    ):\n",
    "        display.show(res.image_overlay)\n"
   ]
  }
 ],
 "metadata": {
  "kernelspec": {
   "display_name": "Python 3 (ipykernel)",
   "language": "python",
   "name": "python3"
  },
  "language_info": {
   "codemirror_mode": {
    "name": "ipython",
    "version": 3
   },
   "file_extension": ".py",
   "mimetype": "text/x-python",
   "name": "python",
   "nbconvert_exporter": "python",
   "pygments_lexer": "ipython3",
   "version": "3.9.16"
  },
  "vscode": {
   "interpreter": {
    "hash": "19d1d53a962d236aa061289c2ac16dc8e6d9648c89fe79f459ae9a3493bc67b4"
   }
  }
 },
 "nbformat": 4,
 "nbformat_minor": 5
}
