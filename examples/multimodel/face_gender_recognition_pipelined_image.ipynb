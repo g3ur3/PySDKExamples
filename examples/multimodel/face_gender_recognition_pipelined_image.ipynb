{
 "cells": [
  {
   "cell_type": "markdown",
   "id": "e08e7226",
   "metadata": {},
   "source": [
    "![Degirum banner](https://raw.githubusercontent.com/DeGirum/PySDKExamples/main/images/degirum_banner.png)\n",
    "## This notebook is an example of how to pipeline two models. \n",
    "This notebook is an example of how to use DeGirum PySDK to do AI inference of a graphical file using \n",
    "two AI models: face detection and gender classification. The face detection model \n",
    "is run on the image and the results are then processed by the gender classification model, \n",
    "one face at a time. Combined result is then displayed.\n",
    "This script uses PIL as image processing backend.\n",
    "\n",
    "This script works with the following inference options:\n",
    "\n",
    "1. Run inference on DeGirum Cloud Platform;\n",
    "2. Run inference on DeGirum AI Server deployed on a localhost or on some computer in your LAN or VPN;\n",
    "3. Run inference on DeGirum ORCA accelerator directly installed on your computer.\n",
    "\n",
    "To try different options, you need to specify the appropriate `hw_location` option. \n",
    "\n",
    "When running this notebook locally, you need to specify your cloud API access token in the [env.ini](../../env.ini) file, located in the same directory as this notebook.\n",
    "\n",
    "When running this notebook in Google Colab, the cloud API access token should be stored in a user secret named `DEGIRUM_CLOUD_TOKEN`."
   ]
  },
  {
   "cell_type": "code",
   "execution_count": null,
   "id": "babc0f2a",
   "metadata": {},
   "outputs": [],
   "source": [
    "# make sure degirum-tools package is installed\n",
    "!pip show degirum-tools || pip install degirum-tools"
   ]
  },
  {
   "cell_type": "markdown",
   "id": "7960afca-3c84-4794-a8d0-ae894260f40b",
   "metadata": {
    "tags": []
   },
   "source": [
    "#### Specify where do you want to run your inferences"
   ]
  },
  {
   "cell_type": "code",
   "execution_count": null,
   "id": "01889e8e-c81a-4514-a16e-bb13652e61e6",
   "metadata": {
    "tags": []
   },
   "outputs": [],
   "source": [
    "# hw_location: where you want to run inference.\n",
    "#     Use \"@cloud\" to use DeGirum cloud.\n",
    "#     Use \"@local\" to run on local machine.\n",
    "#     Use an IP address for AI server inference.#\n",
    "# face_model_zoo_url: URL/path for the face model zoo.\n",
    "#     Use cloud_zoo_url for @cloud, @local, and AI server inference options.\n",
    "#     Use '' for an AI server serving models from a local folder.\n",
    "#     Use a path to a JSON file for a single model zoo in case of @local inference.#\n",
    "# face_model_name: name of the model for face detection.\n",
    "# gender_model_zoo_url: URL/path for the gender model zoo.\n",
    "# gender_model_name: name of the model for gender detection.\n",
    "# video_source: video source for inference\n",
    "#     camera index for local web camera\n",
    "#     URL of RTSP stream\n",
    "#     URL of YouTube Video\n",
    "#     path to video file (mp4 etc)\n",
    "hw_location = \"@cloud\"\n",
    "face_model_zoo_url = \"https://cs.degirum.com/degirum/ultralytics_v6\"\n",
    "face_model_name = \"yolov8n_relu6_face--640x640_quant_n2x_orca1_1\"\n",
    "gender_model_zoo_url = \"https://cs.degirum.com/degirum/openvino\"\n",
    "gender_model_name = \"mobilenet_v2_gender--160x160_float_openvino_cpu_1\"\n",
    "video_source = (\n",
    "    \"https://raw.githubusercontent.com/DeGirum/PySDKExamples/main/images/faces_and_gender.mp4\"\n",
    ")              "
   ]
  },
  {
   "cell_type": "markdown",
   "id": "9c6d2ce9-610e-4727-a18d-f0467b326d7f",
   "metadata": {
    "tags": []
   },
   "source": [
    "#### The rest of the cells below should run without any modifications"
   ]
  },
  {
   "cell_type": "code",
   "execution_count": null,
   "id": "878db7d5",
   "metadata": {
    "tags": []
   },
   "outputs": [],
   "source": [
    "import degirum as dg\n",
    "import degirum_tools\n",
    "\n",
    "# Connect to AI inference engine \n",
    "face_zoo = dg.connect(hw_location, face_model_zoo_url, degirum_tools.get_token())\n",
    "gender_zoo = dg.connect(hw_location, gender_model_zoo_url, degirum_tools.get_token())\n",
    "\n",
    "# Load models\n",
    "with face_zoo.load_model(face_model_name) as face_model:\n",
    "    with gender_zoo.load_model(gender_model_name) as gender_model:\n",
    "        # Create a compound cropping model with 50% crop extent\n",
    "        crop_model = degirum_tools.CroppingAndClassifyingCompoundModel(\n",
    "            face_model, gender_model, 50.0\n",
    "        )\n",
    "\n",
    "        # Detect faces and genders\n",
    "        with degirum_tools.Display(\"Faces and Gender\") as display:\n",
    "            for gender_results in degirum_tools.predict_stream(crop_model, video_source):\n",
    "                display.show(gender_results)"
   ]
  },
  {
   "cell_type": "code",
   "execution_count": null,
   "id": "adf5e69c",
   "metadata": {},
   "outputs": [],
   "source": []
  }
 ],
 "metadata": {
  "kernelspec": {
   "display_name": "base",
   "language": "python",
   "name": "python3"
  },
  "language_info": {
   "codemirror_mode": {
    "name": "ipython",
    "version": 3
   },
   "file_extension": ".py",
   "mimetype": "text/x-python",
   "name": "python",
   "nbconvert_exporter": "python",
   "pygments_lexer": "ipython3",
   "version": "3.9.16"
  }
 },
 "nbformat": 4,
 "nbformat_minor": 5
}
