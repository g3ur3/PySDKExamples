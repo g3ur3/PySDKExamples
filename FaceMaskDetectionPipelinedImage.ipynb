{
 "cells": [
  {
   "cell_type": "markdown",
   "id": "e08e7226",
   "metadata": {},
   "source": [
    "## This notebook is an example of how to pipeline two models. \n",
    "This notebook is an example how to use DeGirum PySDK to do AI inference of a graphical file using two AI models: face detection and mask detection. The face detection model is run on the image and the results are then processed by the mask detection model, one face bbox at a time.\n",
    "Combined result is then displayed.\n",
    "This script uses PIL as image processing backend.\n",
    "\n",
    "This script works with the following inference options:\n",
    "\n",
    "1. [DeGirum Cloud Platform](https://cs.degirum.com),\n",
    "1. DeGirum-hosted AI server node shared via Peer-to-Peer VPN,\n",
    "1. AI server node hosted by you in your local network,\n",
    "1. AI server running on your local machine,\n",
    "1. DeGirum ORCA accelerator directly installed on your local machine.\n",
    "\n",
    "To try different options, you just need to change the `inference_option` in the code below."
   ]
  },
  {
   "cell_type": "markdown",
   "id": "7b857e38-a500-4280-ba13-b8e5b14c48b3",
   "metadata": {},
   "source": [
    "### Specify where do you want to run your inferences and camera index here"
   ]
  },
  {
   "cell_type": "code",
   "execution_count": null,
   "id": "8e7bde8c",
   "metadata": {},
   "outputs": [],
   "source": [
    "inference_option = 1  # <<< change it according to your needs selecting from the list in the header comment"
   ]
  },
  {
   "cell_type": "markdown",
   "id": "15cdc6b0-77f9-462c-9ba4-a0c9f0957939",
   "metadata": {},
   "source": [
    "### The rest of the cells below should run without any modifications"
   ]
  },
  {
   "cell_type": "code",
   "execution_count": null,
   "id": "34f6e7d4-ab37-4836-992f-f1f8900b9984",
   "metadata": {},
   "outputs": [],
   "source": [
    "import degirum as dg # import DeGirum PySDK\n",
    "import mytools"
   ]
  },
  {
   "cell_type": "code",
   "execution_count": null,
   "id": "082dca3f-a32f-4615-acd9-ae3b99f539c9",
   "metadata": {},
   "outputs": [],
   "source": [
    "# connect to model zoo according to selected inference option\n",
    "zoo = mytools.connect_model_zoo(inference_option)"
   ]
  },
  {
   "cell_type": "code",
   "execution_count": null,
   "id": "878db7d5",
   "metadata": {},
   "outputs": [],
   "source": [
    "# load models for DeGirum Orca AI accelerator\n",
    "# (change model name to \"...n2x_cpu_1\" to run it on CPU)\n",
    "face_det_model = zoo.load_model(\"yolo_v5s_face_det--512x512_quant_n2x_orca_1\")\n",
    "mask_det_model = zoo.load_model(\"mobilenet_v2_mask_yn_cls--224x224_float_n2x_orca_1\")\n",
    "\n",
    "# adjust some model properties\n",
    "face_det_model.output_confidence_threshold = 0.7\n",
    "face_det_model.overlay_font_scale = 1.5\n",
    "face_det_model.overlay_alpha = 1\n",
    "mask_det_model.overlay_show_labels = True\n",
    "mask_det_model.overlay_font_scale = 1.5\n",
    "mask_det_model.overlay_alpha = 1\n",
    "mask_det_model.output_top_k = 1"
   ]
  },
  {
   "cell_type": "code",
   "execution_count": null,
   "id": "53fb81ab",
   "metadata": {},
   "outputs": [],
   "source": [
    "# detect persons\n",
    "faces = face_det_model('./images/Mask1.jpg')\n",
    "\n",
    "# for each detected face detect mask\n",
    "with mask_det_model: # performance optimization to keep connection to mask_det_model open\n",
    "    for face in faces.results:\n",
    "        face_box = faces.image.crop(face['bbox'])\n",
    "        mask = mask_det_model(face_box)\n",
    "        face[\"label\"] = mask.results[0][\"label\"]\n",
    "        display(mask.image_overlay)\n",
    "\n",
    "# display combined results\n",
    "display(faces.image_overlay)"
   ]
  },
  {
   "cell_type": "code",
   "execution_count": null,
   "id": "b0eee6d1",
   "metadata": {},
   "outputs": [],
   "source": []
  }
 ],
 "metadata": {
  "kernelspec": {
   "display_name": "Python 3 (ipykernel)",
   "language": "python",
   "name": "python3"
  },
  "language_info": {
   "codemirror_mode": {
    "name": "ipython",
    "version": 3
   },
   "file_extension": ".py",
   "mimetype": "text/x-python",
   "name": "python",
   "nbconvert_exporter": "python",
   "pygments_lexer": "ipython3",
   "version": "3.9.12"
  },
  "vscode": {
   "interpreter": {
    "hash": "f77ba0ef977241afac66801d7297b5fb2ffa6cc21668a24d017a9f23b5f689e7"
   }
  }
 },
 "nbformat": 4,
 "nbformat_minor": 5
}
